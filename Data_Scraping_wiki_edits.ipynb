{
 "cells": [
  {
   "cell_type": "markdown",
   "metadata": {},
   "source": [
    "# Wikipedia Edits"
   ]
  },
  {
   "cell_type": "markdown",
   "metadata": {},
   "source": [
    "## Week 6. Practice Programming Assignment 1"
   ]
  },
  {
   "cell_type": "markdown",
   "metadata": {},
   "source": [
    "Let's look at top-5 countries of the European Union by population. They are [Germany](https://en.wikipedia.org/w/index.php?title=Germany), [France](https://en.wikipedia.org/w/index.php?title=France), [Italy](https://en.wikipedia.org/w/index.php?title=Italy), [Spain](https://en.wikipedia.org/w/index.php?title=Spain), [Poland](https://en.wikipedia.org/w/index.php?title=Poland).\n",
    "\n",
    "\n",
    "In this assignment you are required to look at wikipedia pages of these countries. More specifically, at history of edits of the pages (Click on 'View History' at the top right when you are on wikipedia article page). You are free to use any scraping tools we have covered to answer the questions, that you will find below."
   ]
  },
  {
   "cell_type": "markdown",
   "metadata": {},
   "source": [
    "### Coding part"
   ]
  },
  {
   "cell_type": "code",
   "execution_count": 1,
   "metadata": {},
   "outputs": [],
   "source": [
    "# you can start your web-scraping here\n",
    "import requests\n",
    "from requests.exceptions import HTTPError\n",
    "from bs4 import BeautifulSoup\n",
    "import re"
   ]
  },
  {
   "cell_type": "code",
   "execution_count": 2,
   "metadata": {},
   "outputs": [],
   "source": [
    "countries_names = ['Germany', 'France', 'Italy', 'Spain', 'Poland']\n",
    "main_link = 'https://en.wikipedia.org/w/index.php?title='\n",
    "tail_link = '&limit=5000&action=history'"
   ]
  },
  {
   "cell_type": "code",
   "execution_count": 3,
   "metadata": {},
   "outputs": [
    {
     "name": "stdout",
     "output_type": "stream",
     "text": [
      "Germany - Success!\n",
      "France - Success!\n",
      "Italy - Success!\n",
      "Spain - Success!\n",
      "Poland - Success!\n"
     ]
    }
   ],
   "source": [
    "country_edits = {}\n",
    "country_users = {}\n",
    "all_users = []\n",
    "\n",
    "for country in countries_names:\n",
    "    url = main_link + country + tail_link\n",
    "    c_users = set()\n",
    "    \n",
    "    try:\n",
    "        response = requests.get(url)\n",
    "        soup = BeautifulSoup(response.text)\n",
    "        \n",
    "        links = soup.find_all('a', class_='mw-changeslist-date', string=re.compile('2019'))\n",
    "        num_edits = len(links)\n",
    "        country_edits[country] = num_edits\n",
    "        \n",
    "        for link in links:\n",
    "            for item in list(link.parent.children):\n",
    "                if 'Tag' in str(type(item)) and item.find_all('a', class_='mw-userlink'):\n",
    "                    for el in item.find_all('a', class_='mw-userlink', attrs={'title': True}):\n",
    "                        user = el.attrs['title'].split('User:')[-1]\n",
    "                        if '(page does not exist)' in user:\n",
    "                            user = user[:-22]\n",
    "                        all_users.append(user)\n",
    "                        c_users.add(user)\n",
    "        country_users[country] = len(c_users)\n",
    "        \n",
    "    # If the response was successful, no Exception will be raised\n",
    "        response.raise_for_status()\n",
    "    except HTTPError as http_err:\n",
    "        print(f'HTTP error occurred: {http_err}')  \n",
    "    except Exception as err:\n",
    "        print(f'Other error occurred: {err}')  \n",
    "    else:\n",
    "        print(f'{country} - Success!')"
   ]
  },
  {
   "cell_type": "code",
   "execution_count": 4,
   "metadata": {},
   "outputs": [],
   "source": [
    "def count_occurrence(a):\n",
    "    k = {}\n",
    "    for j in a:\n",
    "        if j in k:\n",
    "            k[j] +=1\n",
    "        else:\n",
    "            k[j] =1\n",
    "    \n",
    "    return k"
   ]
  },
  {
   "cell_type": "code",
   "execution_count": 5,
   "metadata": {},
   "outputs": [],
   "source": [
    "users_edits = count_occurrence(all_users)"
   ]
  },
  {
   "cell_type": "code",
   "execution_count": 6,
   "metadata": {},
   "outputs": [],
   "source": [
    "# all data"
   ]
  },
  {
   "cell_type": "code",
   "execution_count": 7,
   "metadata": {},
   "outputs": [
    {
     "name": "stdout",
     "output_type": "stream",
     "text": [
      "('Germany', 296)\n",
      "('France', 401)\n",
      "('Italy', 601)\n",
      "('Spain', 375)\n",
      "('Poland', 530)\n"
     ]
    }
   ],
   "source": [
    "for item in country_edits.items():\n",
    "    print(item)"
   ]
  },
  {
   "cell_type": "code",
   "execution_count": 8,
   "metadata": {},
   "outputs": [
    {
     "name": "stdout",
     "output_type": "stream",
     "text": [
      "('Germany', 135)\n",
      "('France', 152)\n",
      "('Italy', 139)\n",
      "('Spain', 125)\n",
      "('Poland', 96)\n"
     ]
    }
   ],
   "source": [
    "for item in country_users.items():\n",
    "    print(item)"
   ]
  },
  {
   "cell_type": "code",
   "execution_count": 9,
   "metadata": {},
   "outputs": [
    {
     "name": "stdout",
     "output_type": "stream",
     "text": [
      "('Zutt', 1)\n",
      "('Monkbot', 15)\n",
      "('InternetArchiveBot', 38)\n",
      "('DDWilliams1', 1)\n",
      "('Bender the Bot', 9)\n",
      "('TheHistoryBuff101', 98)\n",
      "('TheCyclonicStorm', 2)\n",
      "('Jaellee', 2)\n",
      "('Astrokalender', 1)\n",
      "('ClaireFanch', 6)\n",
      "('Alinstan', 9)\n",
      "('SharabSalam', 1)\n",
      "('Interstellarity', 5)\n",
      "('Nikury2004', 11)\n",
      "('Yossarian flew', 1)\n",
      "('BegbertBiggs', 1)\n",
      "('Connor Straube', 1)\n",
      "('IamNotU', 22)\n",
      "('Balolay', 3)\n",
      "('Moxy', 60)\n",
      "('MS47', 2)\n",
      "('JJMC89 bot III', 3)\n",
      "('Megyeye', 5)\n",
      "('Csimma Viktor', 1)\n",
      "('Dinan8', 1)\n",
      "('KREOH', 33)\n",
      "('Flags200', 4)\n",
      "('Nillurcheier', 3)\n",
      "('MarkH21', 1)\n",
      "('Mich. Mar. 987', 2)\n",
      "('Boulevard of broken dreams', 1)\n",
      "('Bokmanrocks01', 1)\n",
      "('Concordia1899', 4)\n",
      "('Hrodvarsson', 4)\n",
      "('DuckeggAlex', 3)\n",
      "('Certes', 1)\n",
      "('Wzanderoyisk', 3)\n",
      "('Sm4rk0', 1)\n",
      "('Maxeto0910', 2)\n",
      "('Marianna251', 1)\n",
      "('Anthologetes', 1)\n",
      "('Glottran', 1)\n",
      "('Age20035', 1)\n",
      "('Doric Loon', 2)\n",
      "('Jellysandwich0', 3)\n",
      "('1980fast', 9)\n",
      "('BaeyerDrewson', 1)\n",
      "('RL0919', 9)\n",
      "('Jnnc19', 13)\n",
      "('77snekkins', 1)\n",
      "('Merangs', 156)\n",
      "('BroVic', 1)\n",
      "('Anasaitis', 3)\n",
      "('Tobby72', 5)\n",
      "('Nordostsüdwest', 2)\n",
      "('Xqq1238', 29)\n",
      "('Shellwood', 2)\n",
      "('Kozuch', 7)\n",
      "('Afus199620', 2)\n",
      "('Plk', 2)\n",
      "('Canterbury Tail', 3)\n",
      "('Vsmith', 1)\n",
      "('Kinetic37', 1)\n",
      "('Векочел', 2)\n",
      "('TheCarlos1975', 2)\n",
      "('JustAMuggle', 2)\n",
      "('Mandarax', 2)\n",
      "('GreenC bot', 9)\n",
      "('DrKay', 3)\n",
      "('Malcolmxl5', 1)\n",
      "('AnomieBOT', 14)\n",
      "('Prophet of Truth and Knowledge', 1)\n",
      "('BrownHairedGirl', 7)\n",
      "('Tionran', 1)\n",
      "('MikeLynch', 1)\n",
      "('HerkusMonte', 1)\n",
      "('Eyer', 1)\n",
      "('Illegitimate Barrister', 6)\n",
      "('Ouzhoulang', 1)\n",
      "('I dream of horses', 2)\n",
      "('Viva Nicolás', 1)\n",
      "('Timothy2b', 4)\n",
      "('Rocket1', 3)\n",
      "('Yamla', 1)\n",
      "('Monopoly31121993(2)', 2)\n",
      "('Jack90s15', 7)\n",
      "('IznoRepeat', 2)\n",
      "('BrugesFR', 38)\n",
      "('TI1880', 1)\n",
      "('StAnselm', 1)\n",
      "('RandiGashti', 16)\n",
      "('Mikeblas', 1)\n",
      "('Cristiano Tomás', 6)\n",
      "('LJF2019', 1)\n",
      "('MarcusVetus', 1)\n",
      "('Jaywubba1887', 8)\n",
      "('Île flottante', 2)\n",
      "('SS49', 3)\n",
      "('RudnikU', 1)\n",
      "('HWSager', 1)\n",
      "('Strawberry', 1)\n",
      "('Nicbou', 1)\n",
      "('Sorabino', 1)\n",
      "('Espoo', 1)\n",
      "('Eem dik doun in toene', 2)\n",
      "('MTWEmperor', 2)\n",
      "('Wikirictor', 1)\n",
      "('Epiphyllumlover', 1)\n",
      "('Allice Hunter', 1)\n",
      "('RhinosF1', 5)\n",
      "('Kgfleischmann', 2)\n",
      "('Foster tree', 4)\n",
      "('MiXT4PE', 1)\n",
      "('Genadigeno', 3)\n",
      "('John of Reading', 1)\n",
      "('WhisperToMe', 1)\n",
      "('Khajidha', 3)\n",
      "('Sashko1999', 3)\n",
      "('E-960', 69)\n",
      "('Leo Sammallahti', 3)\n",
      "('Rodw', 6)\n",
      "('PAustin4thApril1980', 1)\n",
      "('JaneHuds93', 1)\n",
      "('MosheA', 2)\n",
      "('Alektor89', 1)\n",
      "('XodoX', 2)\n",
      "('Xjs', 1)\n",
      "('Moonraker', 2)\n",
      "('Bassball Batman', 1)\n",
      "('MURIEL43', 1)\n",
      "('Qualitätssteigerung', 2)\n",
      "('ArminKow', 1)\n",
      "('Joefromrandb', 1)\n",
      "('Snipershot325', 1)\n",
      "('Nyttend', 1)\n",
      "('LucaGaletti95', 4)\n",
      "('Zurkhardo', 6)\n",
      "('Stevekeiretsu', 2)\n",
      "('Suavemarimagno', 6)\n",
      "('Philippe49730', 1)\n",
      "('Arjayay', 2)\n",
      "('Lhommeayantdelajeunesse', 1)\n",
      "('FlightTime', 1)\n",
      "('Jim Michael', 1)\n",
      "('Satyabrat Shanu', 1)\n",
      "('Phil wink', 1)\n",
      "('AnnaBruta', 8)\n",
      "('DavideVeloria88', 100)\n",
      "('Theo sandhu', 1)\n",
      "('Euanjohnb', 5)\n",
      "('Arinid', 1)\n",
      "('Qualcomm250', 1)\n",
      "('Météo&Nature', 2)\n",
      "('3knolls', 1)\n",
      "('5 albert square', 1)\n",
      "('Joshua khor', 2)\n",
      "('Robynthehode', 1)\n",
      "('Anthony Baratier', 2)\n",
      "('Mattcymru2', 1)\n",
      "('Tony1', 3)\n",
      "('Ssolbergj', 2)\n",
      "('Hugue008', 1)\n",
      "('Aman.kumar.goel', 2)\n",
      "('SkyRobin', 2)\n",
      "('Psherman122', 1)\n",
      "('Currentlybiscuit', 2)\n",
      "('Huiva', 3)\n",
      "('Renamed user 2563edsdasdvas1d', 1)\n",
      "('Kbb2', 6)\n",
      "('Aacases', 2)\n",
      "('Trappist the monk', 3)\n",
      "('Kahtar', 1)\n",
      "('MB', 2)\n",
      "('Billinghurst', 1)\n",
      "('Þjarkur', 2)\n",
      "('IvanScrooge98', 2)\n",
      "('Claquerat', 1)\n",
      "('Royalistandlegitimist', 1)\n",
      "('Akshay888777', 2)\n",
      "('Soveryvivid', 1)\n",
      "('Somedifferentstuff', 2)\n",
      "('Roselle Charles', 6)\n",
      "('Danski454', 1)\n",
      "('Dino245', 10)\n",
      "('RandomIntrigue', 2)\n",
      "('Mistakefinder', 1)\n",
      "('Mitchellhobbs', 1)\n",
      "('Euandrew', 1)\n",
      "('FrescoBot', 1)\n",
      "(\"Neptune's Trident\", 3)\n",
      "('Hihellowhatsup', 1)\n",
      "('GreenMeansGo', 2)\n",
      "('Fwaig', 1)\n",
      "('JalenFolf', 1)\n",
      "('Eco-climber', 2)\n",
      "('GrandEscogriffe', 1)\n",
      "('Favonian', 8)\n",
      "('Kinderda', 5)\n",
      "('Keith D', 1)\n",
      "('Thomas.W', 1)\n",
      "('M.Bitton', 3)\n",
      "('RMSBCM', 11)\n",
      "('Lemarche', 2)\n",
      "('Futurist110', 2)\n",
      "('DadaNeem', 1)\n",
      "('OwenBlacker', 1)\n",
      "('LaVieEstSympathique', 7)\n",
      "('Pauli133', 1)\n",
      "('Nuitetjour', 1)\n",
      "('Vif12vf', 7)\n",
      "('HDI2001', 3)\n",
      "('Rantemario', 1)\n",
      "('Fireandblood02', 2)\n",
      "('Dash9Z', 1)\n",
      "('Iconic272', 1)\n",
      "('Guardian101', 1)\n",
      "('Maltrópa', 1)\n",
      "('Funnyhat', 3)\n",
      "('PaLaPaPaLo', 1)\n",
      "('Imintery', 29)\n",
      "('Mukogodo', 1)\n",
      "('Williamxaviertanner', 1)\n",
      "('Robert.stefan.m', 3)\n",
      "('Kaloyan34-FR', 2)\n",
      "('Erp', 2)\n",
      "('Alfwin Fernando', 6)\n",
      "('Cassiopeia', 1)\n",
      "('Josvebot', 1)\n",
      "('Rchard2scout', 4)\n",
      "('Gerardogoldenberg', 18)\n",
      "('Erlisitz', 1)\n",
      "('Jgmccue', 1)\n",
      "('JimRenge', 2)\n",
      "('Doughton', 44)\n",
      "('NiciVampireHeart', 2)\n",
      "('Aboideau', 1)\n",
      "('Highway 89', 1)\n",
      "('NicoScribe', 1)\n",
      "('GoodDay', 1)\n",
      "('Callind', 35)\n",
      "('Dr.K.', 3)\n",
      "('Blaue Max', 7)\n",
      "('Kuru', 1)\n",
      "('Kingerikthesecond', 1)\n",
      "('Georgepodros', 1)\n",
      "('Citation bot', 3)\n",
      "('AlanJohnZimmermann', 1)\n",
      "('Kanguole', 4)\n",
      "('BD2412', 3)\n",
      "('Srich32977', 5)\n",
      "('Koopinator', 1)\n",
      "('Cymru.lass', 1)\n",
      "('Radom1967', 11)\n",
      "('Ynmsn', 3)\n",
      "('DynamoDegsy', 1)\n",
      "('Barjimoa', 37)\n",
      "('Yakme', 42)\n",
      "('Daringsmith', 1)\n",
      "('Alborzagros', 1)\n",
      "('Nick.mon', 10)\n",
      "('Paul2520', 1)\n",
      "('Shack76', 1)\n",
      "('ForensicReapers', 1)\n",
      "('Deacon Vorbis', 2)\n",
      "('Nihil novi', 2)\n",
      "('Lord Cornwallis', 1)\n",
      "('Bellowhead678', 3)\n",
      "('Enullnull', 2)\n",
      "('Mazewaxie', 2)\n",
      "('LukeWiller', 1)\n",
      "('SmithGraves', 8)\n",
      "('Madreterra', 35)\n",
      "('Ita140188', 1)\n",
      "('Sbb1413', 1)\n",
      "('Goldsztajn', 2)\n",
      "('Vaselineeeeeeee', 4)\n",
      "('KingofGangsters', 1)\n",
      "(\"Isaac D'Freitas\", 1)\n",
      "('Diannaa', 2)\n",
      "('IvarT', 1)\n",
      "('The-', 2)\n",
      "('Luc19', 1)\n",
      "('Oronsay', 1)\n",
      "('MatiW97', 1)\n",
      "('David1775', 1)\n",
      "('Haqeem Putra', 1)\n",
      "('DerTorx', 1)\n",
      "('Bornsommer', 1)\n",
      "('Davey2010', 1)\n",
      "('Amscheip', 3)\n",
      "('TheNavigatrr', 5)\n",
      "('Aledownload', 4)\n",
      "('BernardaAlba', 32)\n",
      "('Zojomars', 1)\n",
      "('Yeungkahchun', 1)\n",
      "('Orenburg1', 1)\n",
      "('TheRealLB', 1)\n",
      "('33Hudsonbay33', 40)\n",
      "('Scip.', 2)\n",
      "('Houseofmhatre', 1)\n",
      "('EddieHugh', 29)\n",
      "('Roastedturkey', 1)\n",
      "('Myasuda', 1)\n",
      "('Jjdelv', 1)\n",
      "('Kenwick', 3)\n",
      "('JTPOB', 1)\n",
      "('ChrisTakey', 1)\n",
      "('Yayan550', 2)\n",
      "('TheWikipedian1250', 3)\n",
      "('Italewe', 7)\n",
      "('Zziccardi', 1)\n",
      "('EdmundT', 1)\n",
      "('Charlie Foxtrot66', 1)\n",
      "('ThecentreCZ', 1)\n",
      "('Vanished user 355622', 1)\n",
      "('Berean Hunter', 1)\n",
      "('DavisAndrew416', 8)\n",
      "('Izno', 1)\n",
      "('Epf2018', 10)\n",
      "('DIYeditor', 2)\n",
      "('Onel5969', 4)\n",
      "('Iffy', 1)\n",
      "('Havsjö', 1)\n",
      "('Rostockhansa', 44)\n",
      "('AlfaRocket', 1)\n",
      "('Dk1919 Franking', 8)\n",
      "('ComplexRational', 1)\n",
      "('Auric', 1)\n",
      "('Narky Blert', 3)\n",
      "('ChirpSk8r', 1)\n",
      "('Pithon314', 1)\n",
      "('Marcobetticarboncini1', 26)\n",
      "('Jpo', 1)\n",
      "('Doug Weller', 1)\n",
      "('Alessandro57', 1)\n",
      "('Thenabster126', 1)\n",
      "('Randy Kryn', 1)\n",
      "('Haakonsson', 1)\n",
      "('DancingPhilosopher', 2)\n",
      "('JJMC89 bot', 1)\n",
      "('Mai-Sachme', 1)\n",
      "('Gjcdeluxe', 1)\n",
      "('Inoteator', 8)\n",
      "('Ragityman', 3)\n",
      "('Simostar', 1)\n",
      "('Haribanshnp', 3)\n",
      "('InfoSearcher999', 1)\n",
      "('Wikifresc', 1)\n",
      "('WikiInspector42', 1)\n",
      "('Fbergo', 1)\n",
      "('Iaof2017', 1)\n",
      "('CitationCleanerBot', 1)\n",
      "('Minketorn', 2)\n",
      "('Jonesey95', 1)\n",
      "('Wowimsonick', 1)\n",
      "('PrussianOwl', 6)\n",
      "('Alsoriano97', 2)\n",
      "('Elizium23', 3)\n",
      "('QuestFour', 3)\n",
      "('Levivich', 1)\n",
      "('Lojwe', 2)\n",
      "('Hildeoc', 1)\n",
      "('Kessler', 7)\n",
      "('Carlstak', 2)\n",
      "('Pip bittersweet', 1)\n",
      "('Dharmalion76', 1)\n",
      "('Generic515', 1)\n",
      "('Califate123', 1)\n",
      "('Boothsift', 1)\n",
      "('David O. Johnson', 1)\n",
      "('Melroross', 4)\n",
      "('Shadow4ya', 1)\n",
      "('Gashibenghor', 1)\n",
      "('Henryshaw21', 1)\n",
      "('Elme12', 2)\n",
      "('Egsan Bacon', 1)\n",
      "('Error', 1)\n",
      "('Asqueladd', 24)\n",
      "('Jacob34T', 1)\n",
      "('Thederpinator', 2)\n",
      "('Julietdeltalima', 1)\n",
      "('Frietjes', 3)\n",
      "('Isra2911', 1)\n",
      "('Briantri', 1)\n",
      "('Monorster', 5)\n",
      "('Comeonduckling', 1)\n",
      "('PhagoCytosis', 3)\n",
      "('Cloigtheach', 1)\n",
      "('Alonso de Mendoza', 5)\n",
      "('Valenciano', 2)\n",
      "('TheRichic', 2)\n",
      "('Molisone', 1)\n",
      "('Bender235', 1)\n",
      "('Nikki070', 1)\n",
      "('Melrorross', 2)\n",
      "('Subtropical-man', 2)\n",
      "('Prattlement', 1)\n",
      "('Cwmhiraeth', 1)\n",
      "('Snowflake91', 1)\n",
      "('The Professor (Time Lord)', 1)\n",
      "('Equawikipedizer', 1)\n",
      "('Narciso003', 1)\n",
      "('Corriebertus', 1)\n",
      "('Conejero intl', 1)\n",
      "('DavidLupin7', 4)\n",
      "('El cid, el campeador', 1)\n",
      "('Blade and the rest', 4)\n",
      "('William Avery', 2)\n",
      "('Giraffedata', 2)\n",
      "('ZFT', 1)\n",
      "('Estoy Aquí', 2)\n",
      "('Jprg1966', 1)\n",
      "('AlHazen', 1)\n",
      "('TechnicianGB', 6)\n",
      "('Dustz', 1)\n",
      "('JamesOredan', 2)\n",
      "('HombreDHojalata', 2)\n",
      "('Alexandros TW', 1)\n",
      "('Musicfan122', 22)\n",
      "('Healandn', 4)\n",
      "('Ineedisin', 43)\n",
      "('Hannah Abbott', 1)\n",
      "('Coastside', 1)\n",
      "('KylieTastic', 1)\n",
      "('Rene Bascos Sarabia Jr.', 1)\n",
      "('LaCucaracha91', 4)\n",
      "('François Robere', 1)\n",
      "('Marcocapelle', 1)\n",
      "('Shkrata', 2)\n",
      "('Piotrus', 1)\n",
      "('BattyBot', 1)\n",
      "('KIENGIR', 2)\n",
      "('LordParsifal', 3)\n",
      "('The Banner', 3)\n",
      "('Of 19', 2)\n",
      "('Pawello071', 1)\n",
      "('MozeTak', 1)\n",
      "('Howcheng', 1)\n",
      "('Rich Farmbrough', 1)\n",
      "('Flyguy1020', 1)\n",
      "('SoulMen98', 1)\n",
      "('Kallerna', 1)\n",
      "('Wtmitchell', 1)\n",
      "('Sonukumar13341', 1)\n",
      "('PavKls', 19)\n",
      "('NeonFor', 3)\n",
      "('Oshawott 12', 1)\n",
      "('Oklollmao', 1)\n",
      "('A2soup', 1)\n",
      "('Abbyjjjj96', 2)\n",
      "('Xx236', 2)\n",
      "('Super Miron', 1)\n",
      "('Onedayiwillediteverypageventhemainpage2', 1)\n",
      "('Volunteer Marek', 3)\n",
      "('Icewhiz', 6)\n",
      "('JWilk', 1)\n",
      "('Cosmopolitan268', 1)\n",
      "(\"Robert P. O'Shea\", 1)\n",
      "('Pofka', 1)\n",
      "('Seba00PL', 2)\n",
      "('Jirka.h23', 3)\n",
      "('AudmanOut', 2)\n",
      "('Mitleser', 1)\n",
      "('Dynamo458', 3)\n",
      "('Paul Zawkiewicz', 1)\n",
      "('Double sharp', 1)\n",
      "('Cassjus', 1)\n",
      "('Urabura', 13)\n",
      "('Zaslav', 1)\n",
      "('Boscaswell', 1)\n",
      "('Rogerd', 1)\n",
      "('Str1977', 1)\n",
      "('ProhibitOnions', 2)\n",
      "('SealStealer', 1)\n",
      "('StringRay', 1)\n",
      "('Imoti95', 5)\n",
      "('HorCrux48', 4)\n",
      "('Babooneh', 1)\n",
      "('PrimaPrime', 1)\n",
      "('Powertranz', 1)\n"
     ]
    }
   ],
   "source": [
    "for item in users_edits.items():\n",
    "    print(item)"
   ]
  },
  {
   "cell_type": "markdown",
   "metadata": {},
   "source": [
    "<br><br>\n",
    "\n",
    "### Questions\n",
    "\n",
    "<br><br>\n",
    "\n",
    "**Question 1.** How many edits overall were made on pages of all the countries in 2019? "
   ]
  },
  {
   "cell_type": "code",
   "execution_count": 10,
   "metadata": {},
   "outputs": [],
   "source": [
    "answer_part_1 = 2203"
   ]
  },
  {
   "cell_type": "code",
   "execution_count": 11,
   "metadata": {},
   "outputs": [
    {
     "data": {
      "text/plain": [
       "2203"
      ]
     },
     "execution_count": 11,
     "metadata": {},
     "output_type": "execute_result"
    }
   ],
   "source": [
    "# answer for the question 1\n",
    "total_edits = sum(country_edits.values())\n",
    "total_edits"
   ]
  },
  {
   "cell_type": "markdown",
   "metadata": {},
   "source": [
    "<br>\n",
    "\n",
    "**Question 2.** What is the highest number of edits per country in 2019 among all countries present? "
   ]
  },
  {
   "cell_type": "code",
   "execution_count": 12,
   "metadata": {},
   "outputs": [],
   "source": [
    "answer_part_2 = 601"
   ]
  },
  {
   "cell_type": "code",
   "execution_count": 13,
   "metadata": {},
   "outputs": [
    {
     "data": {
      "text/plain": [
       "601"
      ]
     },
     "execution_count": 13,
     "metadata": {},
     "output_type": "execute_result"
    }
   ],
   "source": [
    "# answer for the question 2\n",
    "max_edits = max(country_edits.values())\n",
    "max_edits"
   ]
  },
  {
   "cell_type": "markdown",
   "metadata": {},
   "source": [
    "<br>\n",
    "\n",
    "**Question 3.** What is the lowest number of edits per country in 2019 among all countries present? "
   ]
  },
  {
   "cell_type": "code",
   "execution_count": 14,
   "metadata": {},
   "outputs": [],
   "source": [
    "answer_part_3 = 296"
   ]
  },
  {
   "cell_type": "code",
   "execution_count": 15,
   "metadata": {},
   "outputs": [
    {
     "data": {
      "text/plain": [
       "296"
      ]
     },
     "execution_count": 15,
     "metadata": {},
     "output_type": "execute_result"
    }
   ],
   "source": [
    "# answer fot the question 3\n",
    "min_edits = min(country_edits.values())\n",
    "min_edits"
   ]
  },
  {
   "cell_type": "markdown",
   "metadata": {},
   "source": [
    "<br>\n",
    "\n",
    "**Question 4.** How many users overall made edits on the countries' pages in 2019? "
   ]
  },
  {
   "cell_type": "code",
   "execution_count": 16,
   "metadata": {},
   "outputs": [],
   "source": [
    "answer_part_4 = 480"
   ]
  },
  {
   "cell_type": "code",
   "execution_count": 17,
   "metadata": {},
   "outputs": [
    {
     "data": {
      "text/plain": [
       "480"
      ]
     },
     "execution_count": 17,
     "metadata": {},
     "output_type": "execute_result"
    }
   ],
   "source": [
    "# answer for the question 4\n",
    "total_users = len(set(all_users))\n",
    "total_users"
   ]
  },
  {
   "cell_type": "markdown",
   "metadata": {},
   "source": [
    "<br>\n",
    "\n",
    "**Question 5.** What is the highest number of users made edits on country's page among all countries present in 2019? "
   ]
  },
  {
   "cell_type": "code",
   "execution_count": 18,
   "metadata": {},
   "outputs": [],
   "source": [
    "answer_part_5 = 152"
   ]
  },
  {
   "cell_type": "code",
   "execution_count": 19,
   "metadata": {},
   "outputs": [
    {
     "data": {
      "text/plain": [
       "152"
      ]
     },
     "execution_count": 19,
     "metadata": {},
     "output_type": "execute_result"
    }
   ],
   "source": [
    "# answer for the question 5\n",
    "max_users = max(country_users.values())\n",
    "max_users"
   ]
  },
  {
   "cell_type": "markdown",
   "metadata": {},
   "source": [
    "<br><br>\n",
    "\n",
    "**Question 6.** What user made the most edits? "
   ]
  },
  {
   "cell_type": "code",
   "execution_count": 20,
   "metadata": {},
   "outputs": [],
   "source": [
    "answer_part_6 = 'Merangs'"
   ]
  },
  {
   "cell_type": "code",
   "execution_count": 21,
   "metadata": {},
   "outputs": [],
   "source": [
    "def max_value_dict(dictionary):\n",
    "    v = list(dictionary.values())\n",
    "    k = list(dictionary.keys())\n",
    "    \n",
    "    return k[v.index(max(v))]"
   ]
  },
  {
   "cell_type": "code",
   "execution_count": 22,
   "metadata": {},
   "outputs": [
    {
     "data": {
      "text/plain": [
       "'Merangs'"
      ]
     },
     "execution_count": 22,
     "metadata": {},
     "output_type": "execute_result"
    }
   ],
   "source": [
    "max_value_dict(users_edits)"
   ]
  },
  {
   "cell_type": "markdown",
   "metadata": {},
   "source": [
    "<br>\n",
    "\n",
    "**Question 7.** What is average number of edits per day in 2019? "
   ]
  },
  {
   "cell_type": "code",
   "execution_count": 23,
   "metadata": {},
   "outputs": [],
   "source": [
    "answer_part_7 = 6.035616438356165"
   ]
  },
  {
   "cell_type": "code",
   "execution_count": 24,
   "metadata": {},
   "outputs": [
    {
     "data": {
      "text/plain": [
       "6.035616438356165"
      ]
     },
     "execution_count": 24,
     "metadata": {},
     "output_type": "execute_result"
    }
   ],
   "source": [
    "# answer for the question 7\n",
    "mean_edits_per_day_all = total_edits / 365\n",
    "mean_edits_per_day_all"
   ]
  },
  {
   "cell_type": "markdown",
   "metadata": {},
   "source": [
    "<br>\n",
    "\n",
    "**Question 8.** What is average number of edits per user in 2019? "
   ]
  },
  {
   "cell_type": "code",
   "execution_count": 25,
   "metadata": {},
   "outputs": [],
   "source": [
    "answer_part_8 = 4.589583333333334"
   ]
  },
  {
   "cell_type": "code",
   "execution_count": 26,
   "metadata": {},
   "outputs": [
    {
     "data": {
      "text/plain": [
       "4.589583333333334"
      ]
     },
     "execution_count": 26,
     "metadata": {},
     "output_type": "execute_result"
    }
   ],
   "source": [
    "# answer for the question 8\n",
    "\n",
    "edits_per_user_all = total_edits / total_users\n",
    "edits_per_user_all"
   ]
  },
  {
   "cell_type": "markdown",
   "metadata": {},
   "source": [
    "<br>\n",
    "\n",
    "**Question 9.** What is average number of edits per day in the country with most edits in 2019? "
   ]
  },
  {
   "cell_type": "code",
   "execution_count": 27,
   "metadata": {},
   "outputs": [],
   "source": [
    "answer_part_9 = 1.6465753424657534"
   ]
  },
  {
   "cell_type": "code",
   "execution_count": 28,
   "metadata": {},
   "outputs": [
    {
     "data": {
      "text/plain": [
       "1.6465753424657534"
      ]
     },
     "execution_count": 28,
     "metadata": {},
     "output_type": "execute_result"
    }
   ],
   "source": [
    "# answer for the question 9\n",
    "mean_edits_per_day_max_country = max_edits / 365\n",
    "mean_edits_per_day_max_country"
   ]
  },
  {
   "cell_type": "markdown",
   "metadata": {},
   "source": [
    "<br>\n",
    "\n",
    "**Question 10.** What is average number of edits per user in the country with most edits in 2019?"
   ]
  },
  {
   "cell_type": "code",
   "execution_count": 29,
   "metadata": {},
   "outputs": [],
   "source": [
    "answer_part_10 = 4.323741007194244"
   ]
  },
  {
   "cell_type": "code",
   "execution_count": 30,
   "metadata": {},
   "outputs": [
    {
     "data": {
      "text/plain": [
       "4.323741007194244"
      ]
     },
     "execution_count": 30,
     "metadata": {},
     "output_type": "execute_result"
    }
   ],
   "source": [
    "# answer for the question 10\n",
    "max_edits_per_user_max_country = max_edits / country_users[max_value_dict(country_edits)]\n",
    "max_edits_per_user_max_country"
   ]
  },
  {
   "cell_type": "code",
   "execution_count": null,
   "metadata": {},
   "outputs": [],
   "source": []
  }
 ],
 "metadata": {
  "kernelspec": {
   "display_name": "Python 3",
   "language": "python",
   "name": "python3"
  },
  "language_info": {
   "codemirror_mode": {
    "name": "ipython",
    "version": 3
   },
   "file_extension": ".py",
   "mimetype": "text/x-python",
   "name": "python",
   "nbconvert_exporter": "python",
   "pygments_lexer": "ipython3",
   "version": "3.9.12"
  }
 },
 "nbformat": 4,
 "nbformat_minor": 4
}
