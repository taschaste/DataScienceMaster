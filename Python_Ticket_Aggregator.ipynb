{
 "cells": [
  {
   "cell_type": "markdown",
   "id": "ddd43e2a",
   "metadata": {
    "tags": []
   },
   "source": [
    "# Task 1\n",
    "\n",
    "Write a program that gets as input the data on these criteria. The data is entered from the keyboard. Think about the way you organize the input, transform the data, and check whether the data are entered in a right way. Then the program should classify an offer based on these criteria and print on the screen an offer category and this offer's description. You need to come up with the classification rule based on the information from the brief. In principle, the output should be one of the four categories, which are 'the best', 'good enough', 'bad', and 'other' (for those which cannot be classified as either of three main categories). Use Boolean conditions and if / if-else / if-elif-else constructions."
   ]
  },
  {
   "cell_type": "markdown",
   "id": "550ea90c",
   "metadata": {
    "tags": []
   },
   "source": [
    "## Greeting for the user."
   ]
  },
  {
   "cell_type": "code",
   "execution_count": 6,
   "id": "61d3347a",
   "metadata": {
    "scrolled": true
   },
   "outputs": [
    {
     "name": "stdout",
     "output_type": "stream",
     "text": [
      "Welcome to Moscow - New York flights aggregator. Enter the data to evaluate your chosen flight. \n",
      "\n"
     ]
    }
   ],
   "source": [
    "print('Welcome to Moscow - New York flights aggregator. Enter the data to evaluate your chosen flight. \\n')"
   ]
  },
  {
   "cell_type": "markdown",
   "id": "272d3dd3",
   "metadata": {
    "tags": []
   },
   "source": [
    "## Entering and checking the entered data."
   ]
  },
  {
   "cell_type": "markdown",
   "id": "3f4af9f5",
   "metadata": {},
   "source": [
    "We ask the user to enter **the ticket price**. \n",
    "\n",
    "- There is a hint (dot is a delimiter). \n",
    "- Validation of the entered data is performed; a non-negative number must be entered. \n",
    "- In the event of an incorrect entry, an error is generated and a re-entry of data is requested."
   ]
  },
  {
   "cell_type": "code",
   "execution_count": 7,
   "id": "57323407",
   "metadata": {},
   "outputs": [
    {
     "name": "stdin",
     "output_type": "stream",
     "text": [
      "Enter the price of the flight in $ (Input example 169.99):  158.10\n"
     ]
    }
   ],
   "source": [
    "while True:\n",
    "    try:\n",
    "        price = float(input('Enter the price of the flight in $ (Input example 169.99): '))\n",
    "        if price > 0:\n",
    "            break\n",
    "    except ValueError:\n",
    "        print('Incorrect data entry.')"
   ]
  },
  {
   "cell_type": "markdown",
   "id": "cef258a6",
   "metadata": {},
   "source": [
    "We ask the user to enter **the number of transfers**. \n",
    "\n",
    "- The entered data is checked; an integer number must be entered. \n",
    "- In the case of a direct flight, the user must enter 0 (this is indicated in the request). \n",
    "- In case of incorrect input, an error is generated and re-entry of data is requested."
   ]
  },
  {
   "cell_type": "code",
   "execution_count": 8,
   "id": "9a646e3a",
   "metadata": {},
   "outputs": [
    {
     "name": "stdin",
     "output_type": "stream",
     "text": [
      "Enter the number of transfers (number), if it is a direct flight, then enter 0:  1\n"
     ]
    }
   ],
   "source": [
    "while True:\n",
    "    try:\n",
    "        transfer = int(input('Enter the number of transfers (number), if it is a direct flight, then enter 0: '))\n",
    "        if transfer >= 0:\n",
    "            break\n",
    "    except ValueError:\n",
    "        print('Incorrect data entry.')"
   ]
  },
  {
   "cell_type": "markdown",
   "id": "6cd239a5",
   "metadata": {},
   "source": [
    "We ask the user to enter data on the availability of the ticket **refund option**. \n",
    "\n",
    "- For convenience, the user is given a choice of yes and no answers. \n",
    "- In case of incorrect input, an error is generated and re-entry of data is requested. \n",
    "- To check the comparison of the input, we consider that the case is sensitive (we format the input to lower case for comparison)."
   ]
  },
  {
   "cell_type": "code",
   "execution_count": 9,
   "id": "8e3e5643",
   "metadata": {},
   "outputs": [
    {
     "name": "stdin",
     "output_type": "stream",
     "text": [
      "Is the refund included or not? Enter yes or no:  no\n"
     ]
    }
   ],
   "source": [
    "while True:\n",
    "    refund = input('Is the refund included or not? Enter yes or no: ')\n",
    "    if refund.lower() in ('yes', 'no'):\n",
    "        break\n",
    "    else:\n",
    "        print('Incorrect data entry.')"
   ]
  },
  {
   "cell_type": "markdown",
   "id": "a13d0caf",
   "metadata": {},
   "source": [
    "We ask the user to enter data on the availability of the **luggage** option. \n",
    "\n",
    "- For convenience, the user is given a choice of yes and no answers. \n",
    "- In case of incorrect input, an error is generated and re-entry of data is requested. \n",
    "- To check the comparison of the input, we consider that the case is sensitive (we format the input to lower case for comparison)."
   ]
  },
  {
   "cell_type": "code",
   "execution_count": 10,
   "id": "ba82a9dc",
   "metadata": {},
   "outputs": [
    {
     "name": "stdin",
     "output_type": "stream",
     "text": [
      "Is the luggage included or not? Enter yes or no:  yes\n"
     ]
    }
   ],
   "source": [
    "while True:\n",
    "    luggage = input('Is the luggage included or not? Enter yes or no: ')\n",
    "    if luggage.lower() in ('yes', 'no'):\n",
    "        break\n",
    "    else:\n",
    "        print('Incorrect data entry.')"
   ]
  },
  {
   "cell_type": "markdown",
   "id": "c175426e",
   "metadata": {
    "tags": []
   },
   "source": [
    "## Data classification"
   ]
  },
  {
   "cell_type": "markdown",
   "id": "12dfe543",
   "metadata": {},
   "source": [
    "1. The cheaper, the better! People say that the best offer is the one which costs less than $200; it should be either a direct flight or a flight with one transfer; refund is included; luggage is included; \n",
    "\n",
    "2. Then, customers say that they consider an offer 'good enough' if its price is in a range from 200 to $250; it is either a direct flight or might require one or two transfers; refund is either included or not; the same for luggage - it is either included or not; \n",
    "\n",
    "3. Finally, customers claim that the worst offer is the one which price is more than $250; three and more transfers are required; refund is either included or not; the same for luggage - it is either included or not.\n",
    "\n",
    "Thus,\n",
    "- We get three categories: **The best option, Good enough, The worst option**.\n",
    "- Cases that do not fit the described three conditions fall into the **Other option** section.\n",
    "- Refund and luggage are taken into account only in the 'The best' criterion, in other criteria they are optional, so there is no need to include them in the condition.\n",
    "- Variables **flight_level** and **flight_tip** are added for the convenience of displaying data for the user (characteristics of the selected flight and advice)."
   ]
  },
  {
   "cell_type": "code",
   "execution_count": 11,
   "id": "f2659076",
   "metadata": {},
   "outputs": [],
   "source": [
    "if price < 200 and transfer in (0, 1) and refund == luggage == 'yes':\n",
    "    flight_level = ' === This is the best option! ==='\n",
    "    flight_tip = 'Have a nice flight!'\n",
    "    \n",
    "elif 200 <= price <= 250 and transfer in (0, 1, 2):\n",
    "    flight_level = '=== The flight is good enough! ==='\n",
    "    flight_tip = 'Enjoy your flight!'\n",
    "    \n",
    "elif price > 250 and transfer >= 3:\n",
    "    flight_level = '=== This is the worst option! ==='\n",
    "    flight_tip = 'Probably, it would be better to find another flight option.'\n",
    "    \n",
    "else:\n",
    "    flight_level = '=== Other option ==='\n",
    "    flight_tip = 'Carefully review the flight data, it is difficult to say whether this option is good or bad.'"
   ]
  },
  {
   "cell_type": "markdown",
   "id": "2292c33b",
   "metadata": {
    "tags": []
   },
   "source": [
    "## Customer output"
   ]
  },
  {
   "cell_type": "markdown",
   "id": "be74eda6",
   "metadata": {},
   "source": [
    "Displaing of the entered customer data in a readable form.\n",
    "\n",
    "- Output the assigned category, customer-entered data and advice.\n",
    "- Output edited for readability.\n",
    "- The simplified input of customer edited in full words."
   ]
  },
  {
   "cell_type": "code",
   "execution_count": 14,
   "id": "e3753bc7",
   "metadata": {},
   "outputs": [
    {
     "name": "stdout",
     "output_type": "stream",
     "text": [
      "\n",
      " === Other option === \n",
      "\n",
      "The ticket price is 158.1 $.\n",
      "The flight has 1 stop.\n",
      "Refund is not included.\n",
      "Luggage is included.\n",
      "\n",
      " Carefully review the flight data, it is difficult to say whether this option is good or bad. \n",
      "\n"
     ]
    }
   ],
   "source": [
    "print('\\n', flight_level, '\\n')\n",
    "\n",
    "print('The ticket price is', price, '$.')\n",
    "\n",
    "if transfer == 0:\n",
    "    print('This is a direct flight.')\n",
    "elif transfer == 1:\n",
    "    print('The flight has 1 stop.')\n",
    "else:\n",
    "    print('The flight has', transfer, 'stops.')\n",
    "\n",
    "if refund == 'yes':\n",
    "    print('Refund is included.')\n",
    "else:\n",
    "    print('Refund is not included.')\n",
    "    \n",
    "if luggage == 'yes':\n",
    "    print('Luggage is included.')\n",
    "else:\n",
    "    print('Luggage is not included.')\n",
    "    \n",
    "print('\\n', flight_tip, '\\n')"
   ]
  },
  {
   "cell_type": "markdown",
   "id": "bf6a2323",
   "metadata": {
    "tags": []
   },
   "source": [
    "# Task 2\n",
    "\n",
    "Analyze the aggregator based on the information from the brief. Describe its advantages and disadvantages. Do you personally find these criteria and this classification rule convincing? Use words, not a code."
   ]
  },
  {
   "cell_type": "markdown",
   "id": "34df64da",
   "metadata": {},
   "source": [
    "## Aggregator analysis"
   ]
  },
  {
   "cell_type": "markdown",
   "id": "be89f4b3",
   "metadata": {},
   "source": [
    "**Advantages**: The aggregator described in the task is **quite simple** and **not overloaded with various parameters**. For the user, this means that everything can be quickly and easily understood. The aggregator is based on the price and the number of transfers, they are **the main important criteria** when choosing a flight for most users.\n",
    "\n",
    "On the other hand, there are a **number of disadvantages**:\n",
    "\n",
    "- **The refund and the luggage options are not critical** in the described criterion condition. In practice, the option of having baggage for many users is important, as is the return of the ticket. Based on my experience, I would prioritize the option of having luggage.\n",
    "\n",
    "- In the context of the coronavirus and changing rules, **the option to return a ticket is also becoming a priority**. \n",
    "\n",
    "- **The aggregator does not take into account flight options correctly**. With an increase in the number of transfers, the weight of the ticket decreases, this is accounted for in the aggregator. But at the same time there is a price fixation for the criterion, which makes the choice inaccurate. For example, in the case of two transfers and a price of $ 150 (that is, the price is not in the range from 200 to 250), the aggregator will classify this case as 'Other', although in practice, due to the number of transfers, the ticket level has worsened, but at the expense of the price is worthy of the 'Good enough' level.\n",
    "\n",
    "- The non-congestion of the system with additional parameters gives the system lightness, but **for a more comfortable flight, most often it is necessary to clarify many points**. Here is a list of the main options that may be important to users: the departure / arrival time, availability of food, availability of the Internet (entertainment service), availability of oversized baggage (especially important in winter during the winter sports season), availability of the option to take a stroller on board (for passengers with children), availability of an option to choose an airport, the waiting time (in case of flights with transfers), etc.\n",
    "\n",
    "- **The aggregator takes into account the fact of the number of transfers, but not their conditions**. The aggregator described in the example is designed mainly for finding a cheap ticket, where the priority is a direct flight. In the case of connecting flights, other parameters take priority. In this case, if the flight has transfers, it makes sence to add the waiting time to considering for a more comfortable flight.\n",
    "\n",
    "**My opinion on these rules**\n",
    "\n",
    "I agree with the pricing policy of the criterion, cheaper tickets, of course, are a priority for me. For correct classification, it is necessary to leave only the upper price limit in the criterion \"Good enough\". Transfers make the ticket less attractive, but in this case the ticket price again plays an important role, but long waiting times must be taken into account. Also, I really do not like very early and very late flights, I take this into account when choosing tickets and I would like to see this option in the aggregator."
   ]
  },
  {
   "cell_type": "markdown",
   "id": "98174538",
   "metadata": {},
   "source": [
    "# Task 3"
   ]
  },
  {
   "cell_type": "markdown",
   "id": "64ec08b9",
   "metadata": {},
   "source": [
    "Suggest your alternative solution. Propose other criteria, completely different way of categorizing offers, different categories themselves - whatever you think should enhance the aggregator based on the brief."
   ]
  },
  {
   "cell_type": "markdown",
   "id": "815139dd",
   "metadata": {
    "tags": []
   },
   "source": [
    "## Description"
   ]
  },
  {
   "cell_type": "markdown",
   "id": "1a13bacf",
   "metadata": {},
   "source": [
    "There are **6 parameters** for the selected flight: \n",
    "- **Price**: <200, <250, >=250\n",
    "- **Luggage**: included, not included\n",
    "- **Refund**: included, not included\n",
    "- **Time_flight** (early or late flight): yes, no\n",
    "- **Transfer**: 0, 1, 2 and more\n",
    "- **Transfer_2** (long waiting): yes, no\n",
    "\n",
    "There are **7 criteria for the classification** of the selected flight:\n",
    "\n",
    "1. **IDEAL - all included** (all parameters in good positions): <200, direct, luggage is included, refund is included, not early or late\n",
    "\n",
    "2. **LIGHT - the best price** (the best price without services): <200, direct or 1 stop or more, no baggage, no refund, any departure time, long waiting time or not\n",
    "\n",
    "3. **COMFORT - it has everything what do you need** (all parameters are in good positions, but the price is higher): <250, direct or one transfer, luggage is included, refund is included, not early or late, transfer is not long\n",
    "\n",
    "4. **GOOD_BUT - one thing left** (some of the parameters are missing): <250, direct or one or two transfers, no luggage or no refund or (early or late flight) or long waiting time\n",
    "\n",
    "5. **NOT SO GOOD - some things left** (more of the parameters are missing): <250, one or two transfers or more, no luggage, no refund, early or late, the transfer is long or not\n",
    "\n",
    "6. **BAD - the flight without servises** (all parameters are in bad positions): >= 250, 2 or more transfers, no luggage, no refund, early or late flight, long waiting time\n",
    "\n",
    "7. **OTHER - not clear how good or bad it is**"
   ]
  },
  {
   "cell_type": "markdown",
   "id": "6a8c6d58",
   "metadata": {
    "jp-MarkdownHeadingCollapsed": true,
    "tags": []
   },
   "source": [
    "## Code"
   ]
  },
  {
   "cell_type": "markdown",
   "id": "8541b316",
   "metadata": {
    "tags": []
   },
   "source": [
    "## Greeting for the user."
   ]
  },
  {
   "cell_type": "code",
   "execution_count": 24,
   "id": "acd3005d",
   "metadata": {},
   "outputs": [
    {
     "name": "stdout",
     "output_type": "stream",
     "text": [
      "Welcome to Moscow - New York flights aggregator. Enter the data to evaluate your chosen flight.\n",
      "\n"
     ]
    }
   ],
   "source": [
    "print('Welcome to Moscow - New York flights aggregator. Enter the data to evaluate your chosen flight.\\n')"
   ]
  },
  {
   "cell_type": "markdown",
   "id": "944fd716",
   "metadata": {
    "tags": []
   },
   "source": [
    "## Entering and checking the entered data."
   ]
  },
  {
   "cell_type": "markdown",
   "id": "bf5666f1",
   "metadata": {},
   "source": [
    "We ask the user to enter **the ticket price**. \n",
    "\n",
    "- There is a hint (dot is a delimiter). \n",
    "- Validation of the entered data is performed; a non-negative number must be entered. \n",
    "- In the event of an incorrect entry, an error is generated and a re-entry of data is requested."
   ]
  },
  {
   "cell_type": "code",
   "execution_count": 17,
   "id": "aefe2c72",
   "metadata": {},
   "outputs": [
    {
     "name": "stdin",
     "output_type": "stream",
     "text": [
      "Enter the price of the flight in $ (Input example 169.99):  100\n"
     ]
    }
   ],
   "source": [
    "while True:\n",
    "    try:\n",
    "        price = float(input('Enter the price of the flight in $ (Input example 169.99): '))\n",
    "        if price > 0:\n",
    "            break\n",
    "    except ValueError:\n",
    "        print('Incorrect data entry.')"
   ]
  },
  {
   "cell_type": "markdown",
   "id": "42f69140",
   "metadata": {},
   "source": [
    "We ask the user to enter data on the availability of the ticket **refund option**. \n",
    "\n",
    "- For convenience, the user is given a choice of yes and no answers. \n",
    "- In case of incorrect input, an error is generated and re-entry of data is requested. \n",
    "- To check the comparison of the input, we consider that the case is sensitive (we format the input to lower case for comparison)."
   ]
  },
  {
   "cell_type": "code",
   "execution_count": 19,
   "id": "ee22d87d",
   "metadata": {},
   "outputs": [
    {
     "name": "stdin",
     "output_type": "stream",
     "text": [
      "\n",
      "Is the refund included or not? Enter yes or no:  no\n"
     ]
    }
   ],
   "source": [
    "while True:\n",
    "    refund = input('\\nIs the refund included or not? Enter yes or no: ')\n",
    "    if refund.lower() in ('yes', 'no'):\n",
    "        break\n",
    "    else:\n",
    "        print('Incorrect data entry.')"
   ]
  },
  {
   "cell_type": "markdown",
   "id": "10b04a07",
   "metadata": {},
   "source": [
    "We ask the user to enter data on the availability of the **luggage** option. \n",
    "\n",
    "- For convenience, the user is given a choice of yes and no answers. \n",
    "- In case of incorrect input, an error is generated and re-entry of data is requested. \n",
    "- To check the comparison of the input, we consider that the case is sensitive (we format the input to lower case for comparison)."
   ]
  },
  {
   "cell_type": "code",
   "execution_count": 20,
   "id": "11e7fc19",
   "metadata": {},
   "outputs": [
    {
     "name": "stdin",
     "output_type": "stream",
     "text": [
      "\n",
      "Is the luggage included or not? Enter yes or no:  no\n"
     ]
    }
   ],
   "source": [
    "while True:\n",
    "    luggage = input('\\nIs the luggage included or not? Enter yes or no: ')\n",
    "    if luggage.lower() in ('yes', 'no'):\n",
    "        break\n",
    "    else:\n",
    "        print('Incorrect data entry.')"
   ]
  },
  {
   "cell_type": "markdown",
   "id": "b1f235ac",
   "metadata": {},
   "source": [
    "We ask the client to provide information whether his flight is **very early or very late**. \n",
    "\n",
    "- For convenience, the user is given a choice of yes and no answers. \n",
    "- In case of incorrect input, an error is generated and re-entry of data is requested. \n",
    "- To check the comparison of the input, we consider that the case is sensitive (we format the input to lower case for comparison)."
   ]
  },
  {
   "cell_type": "code",
   "execution_count": 21,
   "id": "a36e6ef6",
   "metadata": {},
   "outputs": [
    {
     "name": "stdin",
     "output_type": "stream",
     "text": [
      "\n",
      "Is this a very early or a very late flight? Enter yes or no:  yes\n"
     ]
    }
   ],
   "source": [
    "while True:\n",
    "    time_flight = input('\\nIs this a very early or a very late flight? Enter yes or no: ')\n",
    "    if time_flight.lower() in ('yes', 'no'):\n",
    "        break\n",
    "    else:\n",
    "        print('Incorrect data entry.')"
   ]
  },
  {
   "cell_type": "markdown",
   "id": "78612287",
   "metadata": {},
   "source": [
    "We ask the user to enter **the number of transfers**. \n",
    "\n",
    "- The entered data is checked; an integer number must be entered. \n",
    "- In the case of a direct flight, the user must enter 0 (this is indicated in the request). \n",
    "- In case of incorrect input, an error is generated and re-entry of data is requested."
   ]
  },
  {
   "cell_type": "code",
   "execution_count": 22,
   "id": "0843b523",
   "metadata": {},
   "outputs": [
    {
     "name": "stdin",
     "output_type": "stream",
     "text": [
      "\n",
      "Enter the number of transfers (number), if it is a direct flight, then enter 0:  0\n"
     ]
    }
   ],
   "source": [
    "while True:\n",
    "    try:\n",
    "        transfer = int(input('\\nEnter the number of transfers (number), if it is a direct flight, then enter 0: '))\n",
    "        if transfer >= 0:\n",
    "            break\n",
    "    except ValueError:\n",
    "        print('Incorrect data entry.')"
   ]
  },
  {
   "cell_type": "markdown",
   "id": "d378ff78",
   "metadata": {},
   "source": [
    "We ask the user to provide information whether he **needs to wait a long time for the next flight**.\n",
    "\n",
    "- The question is only asked if the user has transfers to the flight.\n",
    "- If there are no transfers, then the value of the parameter is assigned to 'NO', this will be used in the conditions.\n",
    "- For convenience, the user is given a choice of yes and no answers. \n",
    "- In case of incorrect input, an error is generated and re-entry of data is requested. \n",
    "- To check the comparison of the input, we consider that the case is sensitive (we format the input to lower case for comparison)."
   ]
  },
  {
   "cell_type": "code",
   "execution_count": 23,
   "id": "998850d5",
   "metadata": {},
   "outputs": [],
   "source": [
    "if transfer != 0:\n",
    "    while True:\n",
    "        transfer_2 = input('\\nDo you need to wait a long time for another flight? Enter yes or no: ')\n",
    "        if transfer_2.lower() in ('yes', 'no'):\n",
    "            break\n",
    "        else:\n",
    "            print('Incorrect data entry.')\n",
    "else:\n",
    "    transfer_2 = 'no'"
   ]
  },
  {
   "cell_type": "markdown",
   "id": "f8d542e4",
   "metadata": {
    "tags": []
   },
   "source": [
    "## Data classificate"
   ]
  },
  {
   "cell_type": "markdown",
   "id": "601a56ad",
   "metadata": {},
   "source": [
    "We get **7 categories**: \n",
    "\n",
    "1. **IDEAL - all included** (all parameters in good positions): <200 and direct and luggage is included and refund is included and not early or late\n",
    "\n",
    "2. **LIGHT - the best price** (the best price without services): <200 and direct or 1 stop or more and no baggage and no refund amd any departure time and long waiting time or not\n",
    "- transfer, departure time and waiting time do not count - we do not consider these parameters, since they do not affect the criterion\n",
    "\n",
    "3. **COMFORT - it has everything what do you need** (all parameters are in good positions, but the price is higher): <250 and (direct or one transfer) and luggage is included and refund is included and (not early or late flight) and transfer is not too long\n",
    "\n",
    "4. **GOOD_BUT - one thing left** (some of the parameters are missing): <250 and (direct or one or two transfers) and no luggage or no refund or (early or late flight) or long waiting time\n",
    "\n",
    "5. **NOT SO GOOD - some things left** (more of the parameters are missing): <250 and (one or two transfers or more) and no luggage and no refund and (early or late flight) and the transfer is long or not\n",
    "- we do not consider the waiting time, since it does not affect the criterion\n",
    "\n",
    "6. **BAD - the flight without servises** (all parameters are in bad positions): >= 250 and 2 or more transfers and no luggage and no refund and (early or late flight) and long waiting time\n",
    "\n",
    "7. **OTHER - not clear how good or bad it is**\n",
    "\n",
    "Variables **flight_level** and **flight_tip** are added for the convenience of displaying data for the user (characteristics of the selected flight and advice)."
   ]
  },
  {
   "cell_type": "code",
   "execution_count": 28,
   "id": "4b389db2",
   "metadata": {},
   "outputs": [],
   "source": [
    "if price < 200 and transfer == 0 and refund == luggage == 'yes' and time_flight == 'no':\n",
    "    flight_level = ' === IDEAL - everithing is included! ==='\n",
    "    flight_tip = 'Have a nice flight!'\n",
    "    \n",
    "elif price < 200 and refund == luggage == 'no':\n",
    "    flight_level = '=== LIGHT - the best price! ==='\n",
    "    flight_tip = 'The best price without additional options. Travel light!'\n",
    "    \n",
    "elif price < 250 and transfer in (0, 1) and luggage == refund == 'yes' and time_flight == transfer_2 == 'no':\n",
    "    flight_level = '=== COMFORT - it has everything what do you need! ==='\n",
    "    flight_tip = 'Enjoy your flight!'\n",
    "    \n",
    "elif price < 250 and transfer in (0, 1, 2) and luggage == 'no' or refund == 'no' or time_flight == 'yes' or transfer_2 == 'yes':\n",
    "    flight_level = '=== GOOD_BUT -- some things left! ==='\n",
    "    flight_tip = 'Check which options are missing, it may be very important for you.'\n",
    "    \n",
    "elif price < 250 and transfer >= 1 and luggage == refund == 'no' and time_flight == 'yes':\n",
    "    flight_level = '=== NOT SO GOOD -- more things lef! ==='\n",
    "    flight_tip = 'Check which options are missing, it may be very important for you.'    \n",
    "    \n",
    "elif price >= 250 and transfer >= 2 and luggage == refund == 'no' and time_flight == transfe_2 == 'yes':\n",
    "    flight_level = '=== BAD - the flight without servises! ==='\n",
    "    flight_tip = 'Probably, it would be better to find another flight option.'\n",
    "    \n",
    "else:\n",
    "    flight_level = '=== OTHER - not clear how good or bad it is ==='\n",
    "    flight_tip = 'Carefully review the flight data, it is difficult to say whether this option is good or bad.'"
   ]
  },
  {
   "cell_type": "markdown",
   "id": "269ea010",
   "metadata": {
    "tags": []
   },
   "source": [
    "## Customer output"
   ]
  },
  {
   "cell_type": "markdown",
   "id": "311a5ce9",
   "metadata": {},
   "source": [
    "Displaing of the entered customer data in a readable form.\n",
    "\n",
    "- Output the assigned category, customer-entered data and advice.\n",
    "- Output edited for readability.\n",
    "- The simplified input of customer edited in full words."
   ]
  },
  {
   "cell_type": "code",
   "execution_count": 33,
   "id": "490f7f47",
   "metadata": {},
   "outputs": [
    {
     "name": "stdout",
     "output_type": "stream",
     "text": [
      "\n",
      " === LIGHT - the best price! === \n",
      "\n",
      "The ticket PRICE is 100.0 $.\n",
      "This is a DIRECT flight.\n",
      "Transfer between flights does not require long waiting time.\n",
      "The flight has VERY EARLY OR VERY LATE departure time.\n",
      "Refund is NOT included.\n",
      "Luggage is NOT included.\n",
      "\n",
      " The best price without additional options. Travel light! \n",
      "\n"
     ]
    }
   ],
   "source": [
    "print('\\n', flight_level, '\\n')\n",
    "print('The ticket PRICE is', price, '$.')\n",
    "\n",
    "if transfer == 0:\n",
    "    print('This is a DIRECT flight.')\n",
    "elif transfer == 1:\n",
    "    print('The flight has 1 STOP.')\n",
    "else:\n",
    "    print('The flight has', transfer, 'STOPS.')\n",
    "    \n",
    "if transfer_2 == 'yes':\n",
    "    print('There is a LONG TRANSFER between flights.')\n",
    "else:\n",
    "    print('Transfer between flights does not require long waiting time.')\n",
    "\n",
    "if time_flight == 'yes':\n",
    "    print('The flight has VERY EARLY OR VERY LATE departure time.')\n",
    "else:\n",
    "    print('The flight does not have a very early or a very late departure time.')\n",
    "\n",
    "if refund == 'yes':\n",
    "    print('Refund is INCLUDED.')\n",
    "else:\n",
    "    print('Refund is NOT included.')\n",
    "    \n",
    "if luggage == 'yes':\n",
    "    print('Luggage is INCLUDED.')\n",
    "else:\n",
    "    print('Luggage is NOT included.')\n",
    "    \n",
    "print('\\n', flight_tip, '\\n')"
   ]
  }
 ],
 "metadata": {
  "kernelspec": {
   "display_name": "Python 3",
   "language": "python",
   "name": "python3"
  },
  "language_info": {
   "codemirror_mode": {
    "name": "ipython",
    "version": 3
   },
   "file_extension": ".py",
   "mimetype": "text/x-python",
   "name": "python",
   "nbconvert_exporter": "python",
   "pygments_lexer": "ipython3",
   "version": "3.9.12"
  }
 },
 "nbformat": 4,
 "nbformat_minor": 5
}
