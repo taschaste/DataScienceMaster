{
 "cells": [
  {
   "cell_type": "markdown",
   "metadata": {
    "colab_type": "text",
    "id": "yXwgZx4zNbRZ"
   },
   "source": [
    "First, we import the necessary libraries."
   ]
  },
  {
   "cell_type": "markdown",
   "metadata": {
    "colab_type": "text",
    "id": "zJlE7LgVBmUY"
   },
   "source": [
    "# Welcome to the final project!\n",
    "In this notebook you will be asked to use singular value decomposition and SVM to classify images. We will be working with the MNIST numbers dataset, where training data consist of pictures of digits, and the target value is the digit itself."
   ]
  },
  {
   "cell_type": "code",
   "execution_count": 46,
   "metadata": {
    "colab": {},
    "colab_type": "code",
    "id": "kMBwuxiCBmUf"
   },
   "outputs": [],
   "source": [
    "import numpy as np\n",
    "from numpy.linalg import svd\n",
    "import matplotlib.pyplot as plt\n",
    "from sklearn.decomposition import PCA\n",
    "from sklearn.svm import LinearSVC\n",
    "from sklearn.metrics import accuracy_score\n",
    "from sklearn.preprocessing import StandardScaler"
   ]
  },
  {
   "cell_type": "markdown",
   "metadata": {},
   "source": [
    "Now, we read both training and test dataset as arrays. "
   ]
  },
  {
   "cell_type": "code",
   "execution_count": 47,
   "metadata": {
    "colab": {
     "base_uri": "https://localhost:8080/",
     "height": 69
    },
    "colab_type": "code",
    "id": "fg9JsZ70BmUa",
    "outputId": "6a3dbfc7-41b4-4d78-afc9-3ceaf3f10500"
   },
   "outputs": [],
   "source": [
    "data = np.load('mnist.npz')\n",
    "X_test_total, X_train_total, y_train_total, y_test_total = data['x_test'], data['x_train'], data['y_train'], data['y_test']"
   ]
  },
  {
   "cell_type": "code",
   "execution_count": 48,
   "metadata": {
    "colab": {},
    "colab_type": "code",
    "id": "oWgDAtcnpA7a"
   },
   "outputs": [],
   "source": [
    "num1, num2 = 3, 8"
   ]
  },
  {
   "cell_type": "markdown",
   "metadata": {
    "colab_type": "text",
    "id": "0qr-a0lnLCSH"
   },
   "source": [
    "Let us form the lists of indices i such that the target of i-th object of our training data is either num1 or num2. Do the same for the test dataset."
   ]
  },
  {
   "cell_type": "code",
   "execution_count": 49,
   "metadata": {
    "colab": {},
    "colab_type": "code",
    "id": "35Zf01xgpsHq"
   },
   "outputs": [],
   "source": [
    "train_indx = [\n",
    "    y == num1 or y == num2 \n",
    "    for y in y_train_total\n",
    "] \n",
    "\n",
    "# your code here\n",
    "# fill the list with indeces \n",
    "test_indx = [\n",
    "    y == num1 or y == num2 \n",
    "    for y in y_test_total\n",
    "] "
   ]
  },
  {
   "cell_type": "markdown",
   "metadata": {
    "colab_type": "text",
    "id": "CJwF_Ux9LBVK"
   },
   "source": [
    "Form new arrays consisting of the data with the target values num1 and num2 only. "
   ]
  },
  {
   "cell_type": "code",
   "execution_count": 50,
   "metadata": {
    "colab": {},
    "colab_type": "code",
    "id": "NJuZq_jdooq2"
   },
   "outputs": [],
   "source": [
    "X_train, y_train = X_train_total[train_indx], y_train_total[train_indx]\n",
    "\n",
    "# fill the array with the target values\n",
    "X_test, y_test = X_test_total[test_indx], y_test_total[test_indx] # your code here"
   ]
  },
  {
   "cell_type": "markdown",
   "metadata": {
    "colab_type": "text",
    "id": "z3p-sRORaucy"
   },
   "source": [
    "The following two cells ensure automatic grading."
   ]
  },
  {
   "cell_type": "markdown",
   "metadata": {
    "colab_type": "text",
    "id": "OU0lGhGNBmUl"
   },
   "source": [
    "## Looking at the data"
   ]
  },
  {
   "cell_type": "markdown",
   "metadata": {
    "colab_type": "text",
    "id": "49qpdwwBNmcO"
   },
   "source": [
    "Let us check the sizes of the datasets and the shape of one image."
   ]
  },
  {
   "cell_type": "code",
   "execution_count": 52,
   "metadata": {
    "colab": {
     "base_uri": "https://localhost:8080/",
     "height": 102
    },
    "colab_type": "code",
    "id": "hVKvbThsBmUn",
    "outputId": "40a2d397-8757-4329-d7ae-d5a8434d44ca"
   },
   "outputs": [
    {
     "name": "stdout",
     "output_type": "stream",
     "text": [
      "Data shapes: \n",
      "X_train:  (11982, 28, 28)\n",
      "y_train:  (11982,)\n",
      "X_test:  (1984, 28, 28)\n",
      "y_test:  (1984,)\n"
     ]
    }
   ],
   "source": [
    "print('Data shapes: ')\n",
    "print('X_train: ', X_train.shape)\n",
    "print('y_train: ', y_train.shape)\n",
    "print('X_test: ', X_test.shape)\n",
    "print('y_test: ', y_test.shape)"
   ]
  },
  {
   "cell_type": "code",
   "execution_count": 53,
   "metadata": {
    "colab": {
     "base_uri": "https://localhost:8080/",
     "height": 34
    },
    "colab_type": "code",
    "id": "P1EklRAaBmUr",
    "outputId": "835c6843-fdb0-4233-eef3-389c10a61df5"
   },
   "outputs": [
    {
     "data": {
      "text/plain": [
       "(11982, 1984)"
      ]
     },
     "execution_count": 53,
     "metadata": {},
     "output_type": "execute_result"
    }
   ],
   "source": [
    "n_train = X_train.shape[0]\n",
    "n_test = X_test.shape[0]\n",
    "\n",
    "n_train, n_test"
   ]
  },
  {
   "cell_type": "code",
   "execution_count": 54,
   "metadata": {
    "colab": {
     "base_uri": "https://localhost:8080/",
     "height": 51
    },
    "colab_type": "code",
    "id": "FZmNEYdDBmUv",
    "outputId": "17de9137-1fef-4bd4-ef41-ed998e47b0c6"
   },
   "outputs": [
    {
     "name": "stdout",
     "output_type": "stream",
     "text": [
      "Shape of one item: \n",
      "(28, 28)\n"
     ]
    }
   ],
   "source": [
    "print('Shape of one item: ')\n",
    "print(X_train[0].shape)"
   ]
  },
  {
   "cell_type": "markdown",
   "metadata": {
    "colab_type": "text",
    "id": "ERvQjZU5BmU0"
   },
   "source": [
    "Train data are images of digits."
   ]
  },
  {
   "cell_type": "code",
   "execution_count": 55,
   "metadata": {
    "colab": {
     "base_uri": "https://localhost:8080/",
     "height": 441
    },
    "colab_type": "code",
    "id": "lWsCw2hQBmU0",
    "outputId": "6c9968ce-e647-4fc4-ee06-4ab055cc98e9"
   },
   "outputs": [
    {
     "data": {
      "image/png": "[encoded data removed]",
      "text/plain": [
       "<Figure size 432x432 with 9 Axes>"
      ]
     },
     "metadata": {},
     "output_type": "display_data"
    }
   ],
   "source": [
    "plt.figure(figsize=(6,6))\n",
    "\n",
    "a, b = 3, 3\n",
    "\n",
    "for i in range(a*b):  \n",
    "    \n",
    "    plt.subplot(b, a, i+1)\n",
    "    plt.imshow(X_train[i], cmap='gray')\n",
    "    \n",
    "plt.tight_layout()\n",
    "plt.show()"
   ]
  },
  {
   "cell_type": "markdown",
   "metadata": {
    "colab_type": "text",
    "id": "mt2hv7PSBmU4"
   },
   "source": [
    "Target values are numbers."
   ]
  },
  {
   "cell_type": "code",
   "execution_count": 56,
   "metadata": {
    "colab": {
     "base_uri": "https://localhost:8080/",
     "height": 34
    },
    "colab_type": "code",
    "id": "3ZHMwxyHBmU5",
    "outputId": "04e1fff8-5b7a-48c3-9bbe-855d5bf12011"
   },
   "outputs": [
    {
     "data": {
      "text/plain": [
       "array([3, 3, 3, 8, 3, 3, 8, 8, 3], dtype=uint8)"
      ]
     },
     "execution_count": 56,
     "metadata": {},
     "output_type": "execute_result"
    }
   ],
   "source": [
    "y_train[:9]"
   ]
  },
  {
   "cell_type": "markdown",
   "metadata": {
    "colab_type": "text",
    "id": "qynX76dNt1NU"
   },
   "source": [
    "## Task 1 (1 point)\n",
    "Now our data is 3-dimensional of shape (number of images, n_pixels, n_pixels). To work with PCA and SVM we need to flatten the images by turning each of them into an array of shape (n_pixels x n_pixels, )."
   ]
  },
  {
   "cell_type": "code",
   "execution_count": 57,
   "metadata": {
    "colab": {},
    "colab_type": "code",
    "id": "WD9ThdCMBmVG"
   },
   "outputs": [],
   "source": [
    "# library --- https://numpy.org/doc/stable/reference/generated/numpy.ndarray.flatten.html\n",
    "\n",
    "def flatten_image(X):\n",
    "    # your code here\n",
    "    # aproach using standard formulae \n",
    "    return X.flatten()"
   ]
  },
  {
   "cell_type": "markdown",
   "metadata": {},
   "source": [
    "To flatt the image we can use given pixels. \n",
    "\n",
    "For example: \n",
    "\n",
    "if we have the picture of shape n_pixels x m_pixels, we will have n_pixels * m_pixels number of pixels and before return we have to reshape the picture.\n",
    "\n",
    "Here: return X.reshape(X.shape[0] * X.shape[1])"
   ]
  },
  {
   "cell_type": "code",
   "execution_count": 58,
   "metadata": {
    "colab": {},
    "colab_type": "code",
    "id": "AWAJJfmDBmVK"
   },
   "outputs": [
    {
     "data": {
      "text/plain": [
       "((1984, 784), (1984, 784))"
      ]
     },
     "execution_count": 58,
     "metadata": {},
     "output_type": "execute_result"
    }
   ],
   "source": [
    "X_train_flat = np.array([flatten_image(img) for img in X_train]) # your code here\n",
    "X_test_flat = np.array([flatten_image(img) for img in X_test])\n",
    "\n",
    "X_test_flat.shape, X_test_flat.shape"
   ]
  },
  {
   "cell_type": "markdown",
   "metadata": {
    "colab_type": "text",
    "id": "3BIAKuWGukeC"
   },
   "source": [
    "PCA works best when the data is scaled (think, why?), so let's scale our data. We will use [StandartScaler](https://scikit-learn.org/stable/modules/generated/sklearn.preprocessing.StandardScaler.html) for it. Note, that scaling replaces a collection of vectors x by the collection of the vectors $x' = (x-M)/D$, where $M$ is the mean vector of\n",
    "the sample, $D$ is the vector of standard deviations of all components of the vectors, and the division is component-wise. So, the scaled collection has the same size as the original one, and each column has 0 mean and unit standard deviation.\n"
   ]
  },
  {
   "cell_type": "code",
   "execution_count": 59,
   "metadata": {
    "colab": {},
    "colab_type": "code",
    "id": "AK1W8FecV9KZ"
   },
   "outputs": [],
   "source": [
    "scaler = StandardScaler()\n",
    "X_train_flat = scaler.fit_transform(X_train_flat)\n",
    "X_test_flat = scaler.transform(X_test_flat)"
   ]
  },
  {
   "cell_type": "markdown",
   "metadata": {},
   "source": [
    "## Question 1"
   ]
  },
  {
   "cell_type": "markdown",
   "metadata": {
    "colab_type": "text",
    "id": "aW4UQRSmlCg5"
   },
   "source": [
    "Please write your answer on the impact of scaling below. Why does scaling help PCA? If your idea need some computer experiments for confirmation (say, training and accuracy calculations  with non-scaled data), please provide the code here as well."
   ]
  },
  {
   "cell_type": "markdown",
   "metadata": {
    "colab_type": "text",
    "id": "EzU4FS2X76e9"
   },
   "source": [
    "**Feature scaling in machine learning** is the important steps during the pre-processing of data. Scaling impacks on a machine learning model and can **shows a weak or a better one**.This is because, the original predictors may have different scales.\n",
    "\n",
    "**If we use PCA on un-normalized variables, it will lead to dependence of a principal component on the variable with high variance**. This is bad.\n",
    "\n",
    "All numbers for the machine learning algorithm is the same. 10 litres and 10 kilometrs are completely two different things for humans, but for a model as a feature, it treats both as same.\n",
    "\n",
    "#### For example: \n",
    "a data set with variables’ measuring units as gramms, kilometers, litres etc. The scale of variances in these variables will be different.\n",
    "\n",
    "The machine learning model consider \n",
    "- the value 1000 gram > 5 kilogram \n",
    "- the value 7000 meter greater than 10 km \n",
    "\n",
    "The algorithm will give wrong predictions."
   ]
  },
  {
   "cell_type": "markdown",
   "metadata": {},
   "source": [
    "### Let's calculate the accuracy for our not scalled data"
   ]
  },
  {
   "cell_type": "code",
   "execution_count": 16,
   "metadata": {},
   "outputs": [
    {
     "name": "stdout",
     "output_type": "stream",
     "text": [
      "Test accuracy:  0.944556451613\n"
     ]
    }
   ],
   "source": [
    "data_ = np.load('mnist.npz')\n",
    "X_test_total_, X_train_total_, y_train_total_, y_test_total_ = data_['x_test'], data_['x_train'], data_['y_train'], data_['y_test']\n",
    "\n",
    "num1_, num2_ = 3, 8\n",
    "\n",
    "train_indx_ = [y == num1_ or y == num2_ for y in y_train_total_] \n",
    "test_indx_ = [y == num1_ or y == num2_ for y in y_test_total_]\n",
    "\n",
    "X_train_, y_train_ = X_train_total_[train_indx_], y_train_total_[train_indx_]\n",
    "X_test_, y_test_ = X_test_total_[test_indx_], y_test_total_[test_indx_]\n",
    "\n",
    "n_train_ = X_train_.shape[0]\n",
    "n_test_ = X_test_.shape[0]\n",
    "\n",
    "X_train_flat_ = np.array([flatten_image(img) for img in X_train_])\n",
    "X_test_flat_ = np.array([flatten_image(img) for img in X_test_])\n",
    "\n",
    "pca_ = PCA(n_components=128, random_state=42)\n",
    "X_train_flat_ = pca_.fit_transform(X_train_flat_)\n",
    "\n",
    "X_test_flat_ = pca_.transform(X_test_flat_)\n",
    "\n",
    "clf_ = LinearSVC(random_state=42)\n",
    "clf_.fit(X_train_flat_, y_train_) \n",
    "\n",
    "y_pred_ = clf_.predict(X_test_flat_) \n",
    "acc_ = accuracy_score(y_pred_, y_test_) \n",
    "print(\"Test accuracy: \", acc_)"
   ]
  },
  {
   "cell_type": "markdown",
   "metadata": {},
   "source": [
    "We can see that the scalled data gives us the accuracy **0.96622983871**, but not scalled has **0.944556451613**.\n",
    "\n",
    "In this case, this may not be such a big difference, but depending on the amount of data and the importance of the predicted data, such errors can be fatal."
   ]
  },
  {
   "cell_type": "markdown",
   "metadata": {},
   "source": [
    "### One more example\n",
    "To illustrate this better, we can look at the given in standard library example.\n",
    "\n",
    "### Sourse - https://scikit-learn.org/stable/auto_examples/preprocessing/plot_scaling_importance.html\n",
    "\n",
    "The dataset used is the Wine Dataset available at UCI. This dataset has continuous features that are heterogeneous in scale due to differing properties that they measure (i.e. alcohol content and malic acid)."
   ]
  },
  {
   "cell_type": "code",
   "execution_count": 16,
   "metadata": {
    "colab": {},
    "colab_type": "code",
    "id": "vlCJN_Pqlb4C"
   },
   "outputs": [
    {
     "name": "stdout",
     "output_type": "stream",
     "text": [
      "\n",
      "Prediction accuracy for the normal test dataset with PCA\n",
      "81.48%\n",
      "\n",
      "\n",
      "Prediction accuracy for the standardized test dataset with PCA\n",
      "98.15%\n",
      "\n",
      "\n",
      "PC 1 without scaling:\n",
      "[  1.76342917e-03  -8.35544737e-04   1.54623496e-04  -5.31136096e-03\n",
      "   2.01663336e-02   1.02440667e-03   1.53155502e-03  -1.11663562e-04\n",
      "   6.31071580e-04   2.32645551e-03   1.53606718e-04   7.43176482e-04\n",
      "   9.99775716e-01]\n",
      "\n",
      "PC 1 with scaling:\n",
      "[ 0.13443023 -0.25680248 -0.0113463  -0.23405337  0.15840049  0.39194918\n",
      "  0.41607649 -0.27871336  0.33129255 -0.11383282  0.29726413  0.38054255\n",
      "  0.27507157]\n"
     ]
    },
    {
     "data": {
      "image/png": "[encoded data removed]",
      "text/plain": [
       "<Figure size 720x504 with 2 Axes>"
      ]
     },
     "metadata": {},
     "output_type": "display_data"
    }
   ],
   "source": [
    "### Sourse - https://scikit-learn.org/stable/auto_examples/preprocessing/plot_scaling_importance.html\n",
    "\n",
    "import matplotlib.pyplot as plt\n",
    "\n",
    "from sklearn.model_selection import train_test_split\n",
    "from sklearn.preprocessing import StandardScaler\n",
    "from sklearn.decomposition import PCA\n",
    "from sklearn.naive_bayes import GaussianNB\n",
    "from sklearn.metrics import accuracy_score\n",
    "from sklearn.datasets import load_wine\n",
    "from sklearn.pipeline import make_pipeline\n",
    "\n",
    "# Code source: Tyler Lanigan <tylerlanigan@gmail.com>\n",
    "#              Sebastian Raschka <mail@sebastianraschka.com>\n",
    "\n",
    "# License: BSD 3 clause\n",
    "\n",
    "RANDOM_STATE = 42\n",
    "FIG_SIZE = (10, 7)\n",
    "\n",
    "\n",
    "features, target = load_wine(return_X_y=True)\n",
    "\n",
    "# Make a train/test split using 30% test size\n",
    "X_train, X_test, y_train, y_test = train_test_split(\n",
    "    features, target, test_size=0.30, random_state=RANDOM_STATE\n",
    ")\n",
    "\n",
    "# Fit to data and predict using pipelined GNB and PCA\n",
    "unscaled_clf = make_pipeline(PCA(n_components=2), GaussianNB())\n",
    "unscaled_clf.fit(X_train, y_train)\n",
    "pred_test = unscaled_clf.predict(X_test)\n",
    "\n",
    "# Fit to data and predict using pipelined scaling, GNB and PCA\n",
    "std_clf = make_pipeline(StandardScaler(), PCA(n_components=2), GaussianNB())\n",
    "std_clf.fit(X_train, y_train)\n",
    "pred_test_std = std_clf.predict(X_test)\n",
    "\n",
    "# Show prediction accuracies in scaled and unscaled data.\n",
    "print(\"\\nPrediction accuracy for the normal test dataset with PCA\")\n",
    "print(f\"{accuracy_score(y_test, pred_test):.2%}\\n\")\n",
    "\n",
    "print(\"\\nPrediction accuracy for the standardized test dataset with PCA\")\n",
    "print(f\"{accuracy_score(y_test, pred_test_std):.2%}\\n\")\n",
    "\n",
    "# Extract PCA from pipeline\n",
    "pca = unscaled_clf.named_steps[\"pca\"]\n",
    "pca_std = std_clf.named_steps[\"pca\"]\n",
    "\n",
    "# Show first principal components\n",
    "print(f\"\\nPC 1 without scaling:\\n{pca.components_[0]}\")\n",
    "print(f\"\\nPC 1 with scaling:\\n{pca_std.components_[0]}\")\n",
    "\n",
    "# Use PCA without and with scale on X_train data for visualization.\n",
    "X_train_transformed = pca.transform(X_train)\n",
    "\n",
    "scaler = std_clf.named_steps[\"standardscaler\"]\n",
    "scaled_X_train = scaler.transform(X_train)\n",
    "X_train_std_transformed = pca_std.transform(scaled_X_train)\n",
    "\n",
    "# visualize standardized vs. untouched dataset with PCA performed\n",
    "fig, (ax1, ax2) = plt.subplots(ncols=2, figsize=FIG_SIZE)\n",
    "\n",
    "target_classes = range(0, 3)\n",
    "colors = (\"blue\", \"red\", \"green\")\n",
    "markers = (\"^\", \"s\", \"o\")\n",
    "\n",
    "for target_class, color, marker in zip(target_classes, colors, markers):\n",
    "    ax1.scatter(\n",
    "        x=X_train_transformed[y_train == target_class, 0],\n",
    "        y=X_train_transformed[y_train == target_class, 1],\n",
    "        color=color,\n",
    "        label=f\"class {target_class}\",\n",
    "        alpha=0.5,\n",
    "        marker=marker,\n",
    "    )\n",
    "\n",
    "    ax2.scatter(\n",
    "        x=X_train_std_transformed[y_train == target_class, 0],\n",
    "        y=X_train_std_transformed[y_train == target_class, 1],\n",
    "        color=color,\n",
    "        label=f\"class {target_class}\",\n",
    "        alpha=0.5,\n",
    "        marker=marker,\n",
    "    )\n",
    "\n",
    "ax1.set_title(\"Training dataset after PCA\")\n",
    "ax2.set_title(\"Standardized training dataset after PCA\")\n",
    "\n",
    "for ax in (ax1, ax2):\n",
    "    ax.set_xlabel(\"1st principal component\")\n",
    "    ax.set_ylabel(\"2nd principal component\")\n",
    "    ax.legend(loc=\"upper right\")\n",
    "    ax.grid()\n",
    "\n",
    "plt.tight_layout()\n",
    "\n",
    "plt.show()"
   ]
  },
  {
   "cell_type": "markdown",
   "metadata": {},
   "source": [
    "We can see then the 1st principal component in the unscaled set. The feature #13 dominates the direction, being a whole two orders of magnitude above the other features. In the scaled version, the orders of magnitude are roughly the same across all the features.\n",
    "\n",
    "The dataset used is the Wine Dataset available at UCI. This dataset has continuous features that are heterogeneous in scale due to differing properties that they measure (i.e. alcohol content and malic acid).\n",
    "\n",
    "When the transformed data is used to train a naive Bayes classifier, we can see the difference in prediction accuracies,  the dataset which is scaled before PCA vastly outperforms the unscaled version.\n",
    "\n",
    "- **Prediction accuracy for the normal test dataset with PCA - 81.48%**\n",
    "\n",
    "\n",
    "- **Prediction accuracy for the standardized test dataset with PCA - 98.15%**"
   ]
  },
  {
   "cell_type": "markdown",
   "metadata": {
    "colab_type": "text",
    "id": "MPYv0JqzQRKA"
   },
   "source": [
    "Now, we call PCA and reduce the number of components for each vector. "
   ]
  },
  {
   "cell_type": "code",
   "execution_count": 60,
   "metadata": {
    "colab": {},
    "colab_type": "code",
    "id": "H6s30_saBmVO"
   },
   "outputs": [],
   "source": [
    "pca = PCA(n_components=128, random_state=42)\n",
    "\n",
    "X_train_flat = pca.fit_transform(X_train_flat)"
   ]
  },
  {
   "cell_type": "code",
   "execution_count": 61,
   "metadata": {
    "colab": {},
    "colab_type": "code",
    "id": "bKRDnygcBmVS"
   },
   "outputs": [],
   "source": [
    "X_test_flat = pca.transform(X_test_flat)"
   ]
  },
  {
   "cell_type": "code",
   "execution_count": 62,
   "metadata": {
    "colab": {
     "base_uri": "https://localhost:8080/",
     "height": 34
    },
    "colab_type": "code",
    "id": "MIkIzz4ACjP5",
    "outputId": "dd304091-8823-41a9-e39a-744e9dedaeb0"
   },
   "outputs": [
    {
     "data": {
      "text/plain": [
       "((1984, 128), (1984, 128))"
      ]
     },
     "execution_count": 62,
     "metadata": {},
     "output_type": "execute_result"
    }
   ],
   "source": [
    "X_test_flat.shape, X_test_flat.shape"
   ]
  },
  {
   "cell_type": "markdown",
   "metadata": {},
   "source": [
    "## Question 2"
   ]
  },
  {
   "cell_type": "markdown",
   "metadata": {
    "colab_type": "text",
    "id": "s-g0gIUdV6a4"
   },
   "source": [
    "What is the ratio of the memory used for the data `compressed' by PCA and the one used for the original data?"
   ]
  },
  {
   "cell_type": "markdown",
   "metadata": {
    "colab_type": "text",
    "id": "EzU4FS2X76e9"
   },
   "source": [
    "### Ratio of the memory used for the data compressed by PCA and the one used for the original data\n",
    "\n",
    "- For the data compressed by PCA we have (1984, 784).\n",
    "- After for the data compressed by PCA we have (1984, 128).\n",
    "\n",
    "$$ratio = \\frac{1984 * 784}{1984 * 128} = \\frac{784}{128} = 6.125$$\n",
    "\n",
    "To work with the original data without the PCA method, 6.125 times more memory is required."
   ]
  },
  {
   "cell_type": "markdown",
   "metadata": {
    "colab_type": "text",
    "id": "tExdDvxVQb-8"
   },
   "source": [
    "Now, we use SVM with linear kernel to separate the two classes."
   ]
  },
  {
   "cell_type": "code",
   "execution_count": 63,
   "metadata": {
    "colab": {},
    "colab_type": "code",
    "id": "msj7fbHnBmVW"
   },
   "outputs": [
    {
     "name": "stdout",
     "output_type": "stream",
     "text": [
      "CPU times: user 2.72 s, sys: 0 ns, total: 2.72 s\n",
      "Wall time: 2.71 s\n"
     ]
    }
   ],
   "source": [
    "%%time\n",
    "clf = LinearSVC(random_state=42)\n",
    "clf.fit(X_train_flat, y_train) "
   ]
  },
  {
   "cell_type": "markdown",
   "metadata": {
    "colab_type": "text",
    "id": "UiQicIFIQMf3"
   },
   "source": [
    "Now, let us make the predictions and calculate the accuracy, that is, the ratio of the true predictions to the test sample size.  Use [accuracy score](https://scikit-learn.org/stable/modules/generated/sklearn.metrics.accuracy_score.html#sklearn.metrics.accuracy_score) as the quality metric here.\n",
    "\n",
    "$$accuracy(y\\_true, y\\_pred) = \\frac{1}{n}\\sum_{i=1}^n [y\\_true_i=y\\_pred_i],$$ where $[a=b]=1$, if $a=b$, and $0$ otherwise."
   ]
  },
  {
   "cell_type": "code",
   "execution_count": 64,
   "metadata": {
    "colab": {},
    "colab_type": "code",
    "id": "IWC3hQAMCcPe"
   },
   "outputs": [
    {
     "name": "stdout",
     "output_type": "stream",
     "text": [
      "Test accuracy:  0.96622983871\n"
     ]
    }
   ],
   "source": [
    "# library ---  scikit --- https://scikit-learn.org/stable/getting_started.html\n",
    "\n",
    "y_pred = clf.predict(X_test_flat)     # your code here\n",
    "acc = accuracy_score(y_pred, y_test)  # your code here\n",
    "\n",
    "print(\"Test accuracy: \", acc)"
   ]
  },
  {
   "cell_type": "markdown",
   "metadata": {
    "colab_type": "text",
    "id": "s4fOnPmPBmWr"
   },
   "source": [
    "## Try it from your own input\n",
    "Try to make your own dataset. You can either make a photo image of an ink-written digit or draw a digit using a graphical editor of your computer or smartphone. Note that the input picture has to be a white number on a black background, like the numbers in the MNIST dataset. It can be either in png or jpeg format. Replace the sample striwith your file name. "
   ]
  },
  {
   "cell_type": "code",
   "execution_count": 67,
   "metadata": {
    "colab": {},
    "colab_type": "code",
    "id": "GZSU-t3QBmWs"
   },
   "outputs": [],
   "source": [
    "from scipy import misc\n",
    "from PIL import Image"
   ]
  },
  {
   "cell_type": "code",
   "execution_count": 68,
   "metadata": {
    "colab": {},
    "colab_type": "code",
    "id": "uqDp92KzBmWv"
   },
   "outputs": [
    {
     "data": {
      "text/plain": [
       "(28, 28)"
      ]
     },
     "execution_count": 68,
     "metadata": {},
     "output_type": "execute_result"
    }
   ],
   "source": [
    "image = Image.open('three.png').convert('L')\n",
    "new_image = image.resize((28, 28))\n",
    "\n",
    "custom = np.array(new_image)\n",
    "custom.shape\n",
    "\n",
    "custom.shape"
   ]
  },
  {
   "cell_type": "code",
   "execution_count": 69,
   "metadata": {
    "colab": {
     "base_uri": "https://localhost:8080/",
     "height": 265
    },
    "colab_type": "code",
    "id": "pYBKXyglBmWz",
    "outputId": "94db2145-a426-499a-a76f-35dbce09686a"
   },
   "outputs": [
    {
     "data": {
      "image/png": "[encoded data removed]",
      "text/plain": [
       "<Figure size 432x288 with 1 Axes>"
      ]
     },
     "metadata": {},
     "output_type": "display_data"
    }
   ],
   "source": [
    "plt.imshow(custom, cmap='gray')\n",
    "plt.show()"
   ]
  },
  {
   "cell_type": "markdown",
   "metadata": {
    "colab_type": "text",
    "id": "qyBWzpsCSJjj"
   },
   "source": [
    "Re-shape your image and make a prediction. "
   ]
  },
  {
   "cell_type": "code",
   "execution_count": 70,
   "metadata": {
    "colab": {
     "base_uri": "https://localhost:8080/",
     "height": 34
    },
    "colab_type": "code",
    "id": "bKy0FPyJ4dg2",
    "outputId": "23eb20a6-65d7-49f8-c06c-198795ffcba1"
   },
   "outputs": [
    {
     "data": {
      "text/plain": [
       "(1, 128)"
      ]
     },
     "execution_count": 70,
     "metadata": {},
     "output_type": "execute_result"
    }
   ],
   "source": [
    "custom = flatten_image(custom).reshape(1, -1)\n",
    "custom = scaler.transform(custom)\n",
    "custom = pca.transform(custom)\n",
    "\n",
    "custom.shape"
   ]
  },
  {
   "cell_type": "code",
   "execution_count": 71,
   "metadata": {
    "colab": {
     "base_uri": "https://localhost:8080/",
     "height": 34
    },
    "colab_type": "code",
    "id": "80S853_6BmW3",
    "outputId": "587384f5-2d97-4cae-eafe-cec792aed4ac"
   },
   "outputs": [
    {
     "data": {
      "text/plain": [
       "array([3], dtype=uint8)"
      ]
     },
     "execution_count": 71,
     "metadata": {},
     "output_type": "execute_result"
    }
   ],
   "source": [
    "clf.predict(custom)"
   ]
  },
  {
   "cell_type": "markdown",
   "metadata": {},
   "source": [
    "## Question 3"
   ]
  },
  {
   "cell_type": "markdown",
   "metadata": {
    "colab_type": "text",
    "id": "PTwHX91JSUL3"
   },
   "source": [
    "Repeat the above digit recognition procedure with other 5 to 10 hand-written images. Do your experiments confirm the above accuracy estimate? How do you think, why they confirm (or not confirm) it?"
   ]
  },
  {
   "cell_type": "code",
   "execution_count": 72,
   "metadata": {
    "scrolled": false
   },
   "outputs": [
    {
     "data": {
      "image/png": "[encoded data removed]",
      "text/plain": [
       "<Figure size 576x576 with 9 Axes>"
      ]
     },
     "metadata": {},
     "output_type": "display_data"
    }
   ],
   "source": [
    "image1 = Image.open('3_1.png').convert('L')\n",
    "new_image1 = image1.resize((28, 28))\n",
    "image2 = Image.open('3_2.png').convert('L')\n",
    "new_image2 = image2.resize((28, 28))\n",
    "image3 = Image.open('3_3.png').convert('L')\n",
    "new_image3 = image3.resize((28, 28))\n",
    "image4 = Image.open('3_4.png').convert('L')\n",
    "new_image4 = image4.resize((28, 28))\n",
    "image5 = Image.open('3_5.png').convert('L')\n",
    "new_image5 = image5.resize((28, 28))\n",
    "image6 = Image.open('3_6.png').convert('L')\n",
    "new_image6 = image6.resize((28, 28))\n",
    "image7 = Image.open('3_7.png').convert('L')\n",
    "new_image7 = image7.resize((28, 28))\n",
    "image8 = Image.open('3_8.png').convert('L')\n",
    "new_image8 = image8.resize((28, 28))\n",
    "image9 = Image.open('3_9.png').convert('L')\n",
    "new_image9 = image9.resize((28, 28))\n",
    "\n",
    "\n",
    "images_list = [\n",
    "    new_image1, new_image2, new_image3, \n",
    "    new_image4, new_image5, new_image6, \n",
    "    new_image7, new_image8, new_image9,\n",
    "]\n",
    "\n",
    "plt.figure(figsize=(8,8))\n",
    "\n",
    "a, b = 3, 3\n",
    "\n",
    "for i in range(a*b):  \n",
    "    \n",
    "    plt.subplot(b, a, i+1)\n",
    "    plt.imshow(images_list[i], cmap='gray')\n",
    "    \n",
    "plt.tight_layout()\n",
    "plt.show()\n",
    "    \n",
    "    "
   ]
  },
  {
   "cell_type": "code",
   "execution_count": 73,
   "metadata": {
    "scrolled": true
   },
   "outputs": [
    {
     "name": "stdout",
     "output_type": "stream",
     "text": [
      "3 -> 3 - Correct\n",
      "3 -> 3 - Correct\n",
      "3 -> 3 - Correct\n",
      "3 -> 8 - Wrong\n",
      "3 -> 8 - Wrong\n",
      "3 -> 3 - Correct\n",
      "3 -> 3 - Correct\n",
      "3 -> 3 - Correct\n",
      "3 -> 3 - Correct\n"
     ]
    }
   ],
   "source": [
    "i = 0\n",
    "\n",
    "for new_image in images_list:\n",
    "    \n",
    "    custom = np.array(new_image)\n",
    "    # flatt\n",
    "    custom = flatten_image(custom).reshape(1, -1)\n",
    "    # scale\n",
    "    custom = scaler.transform(custom)\n",
    "    # pca\n",
    "    custom = pca.transform(custom)\n",
    "    # predict\n",
    "    predict = clf.predict(custom)[0]\n",
    "    \n",
    "    i += 1\n",
    "    # we have number = 3\n",
    "    output = \"Correct\" if 3 == predict else \"Wrong\"\n",
    "    print(3,'->', predict,'-', output)\n",
    "  "
   ]
  },
  {
   "cell_type": "markdown",
   "metadata": {
    "colab_type": "text",
    "id": "Bn8dlIrY7NWe"
   },
   "source": [
    "As we can see from the experiment, out of 9 pictures with the number 3, 7 were recognized, two pictures were identified as the number 8.\n",
    "\n",
    "**Accuracy = 7/9 * 100 = 77.78%**.\n",
    "\n",
    "An error can be detected by inaccurate writing of numbers, the presence of more round contours close to a closure."
   ]
  },
  {
   "cell_type": "markdown",
   "metadata": {
    "colab_type": "text",
    "id": "OTa1546Jx2J5"
   },
   "source": [
    "## Task 2\n",
    "Now let's try another approach explained [here](https://intranet.math.vt.edu/ugresearch/Lassiter_2012_2013.pdf) in Section 3. For each digit, we create a new matrix $A$ whose columns are flattened images of this digit. The first several (say, 10) columns of the matrix $U$ from SVD decomposition of $A$ represent a collection of \"typical\" images of this digit. Given an unrecognized flatten image, among average typical flattened images we find the closets one. Its target value is considered as a prediction for the target of the unrecognized image."
   ]
  },
  {
   "cell_type": "markdown",
   "metadata": {
    "colab_type": "text",
    "id": "JTvWQCV8K9qm"
   },
   "source": [
    "## SVD refesher\n",
    "As you may recall from the lectures, SVD of a matrix $A$ is a decomposition:\n",
    "$A = U \\Sigma V^T,$ where $U$ and $V$ are orthogonal matrices. In this method we will be utilizing some properties of SVD.\n",
    "Please note that due to large shapes of matrices the operations might take a while."
   ]
  },
  {
   "cell_type": "code",
   "execution_count": 74,
   "metadata": {
    "colab": {},
    "colab_type": "code",
    "id": "DA9S5BxlimJy"
   },
   "outputs": [],
   "source": [
    "# library ---  https://numpy.org/doc/stable/reference/generated/numpy.linalg.svd.html\n",
    "\n",
    "def getSingularVectorsLeft(matrix, number=10): # let's take first 10 numbers\n",
    "    \n",
    "    U, s, V = np.linalg.svd(matrix)\n",
    "    \n",
    "    # return first _number_ columns of U from SVD of _matrix_\n",
    "    return U[:, :number] "
   ]
  },
  {
   "cell_type": "code",
   "execution_count": 76,
   "metadata": {},
   "outputs": [],
   "source": [
    "def getSingularImage(X_train, y_train, number):\n",
    "    \n",
    "    # find images whose target is _number_\n",
    "    idx = [y == number for y in y_train]\n",
    "    select_images = X_train[idx]\n",
    "    \n",
    "    n = select_images[0].shape[0]**2\n",
    "    A = np.zeros((n,1))  \n",
    "    \n",
    "    for image in select_images:\n",
    "        # add the flatten image\n",
    "        mtrx = np.array([flatten_image(image)])\n",
    "        # transpose\n",
    "        mtrx_tr = np.transpose(mtrx)\n",
    "        \n",
    "        A = np.append(A, mtrx_tr, axis=1)\n",
    "        \n",
    "    # left_basis = # get left singular vectors\n",
    "    # using recursion\n",
    "    left_basis = getSingularVectorsLeft(A)\n",
    "    \n",
    "    return left_basis"
   ]
  },
  {
   "cell_type": "markdown",
   "metadata": {
    "colab_type": "text",
    "id": "xUaaUCTNx9ea"
   },
   "source": [
    "Try it first on \"0\"."
   ]
  },
  {
   "cell_type": "code",
   "execution_count": 77,
   "metadata": {
    "colab": {},
    "colab_type": "code",
    "id": "CPx60DlKaQ8S"
   },
   "outputs": [],
   "source": [
    "left_basis = getSingularImage(X_train_total, y_train_total, 0)\n",
    "\n",
    "assert left_basis.shape, (784, 10)"
   ]
  },
  {
   "cell_type": "markdown",
   "metadata": {
    "colab_type": "text",
    "id": "qeAC9vo8xnMK"
   },
   "source": [
    "### Task 2.1 (1 point)\n",
    "Plot first 9 singular images of the digit 0 taking columns of matrix U and reshaping them back into images 28x28. Use `numpy.reshape`."
   ]
  },
  {
   "cell_type": "code",
   "execution_count": 78,
   "metadata": {
    "colab": {
     "base_uri": "https://localhost:8080/",
     "height": 441
    },
    "colab_type": "code",
    "id": "VyJGHMhUtBpT",
    "outputId": "44ea8371-5be7-495f-c1c1-b7fa95395361"
   },
   "outputs": [
    {
     "data": {
      "image/png": "[encoded data removed]",
      "text/plain": [
       "<Figure size 432x432 with 9 Axes>"
      ]
     },
     "metadata": {},
     "output_type": "display_data"
    }
   ],
   "source": [
    "# singular images\n",
    "plt.figure(figsize=(6,6))\n",
    "a, b = 3, 3\n",
    "for i in range(a*b):  \n",
    "    plt.subplot(b, a, i+1)\n",
    "    \n",
    "    # ith element of left basis reshaped back to 28x28\n",
    "    img = np.reshape(left_basis[:, i], (28, 28)) \n",
    "    plt.imshow(img, cmap='gray')\n",
    "\n",
    "plt.tight_layout()\n",
    "plt.show()"
   ]
  },
  {
   "cell_type": "markdown",
   "metadata": {},
   "source": [
    "## Question 4"
   ]
  },
  {
   "cell_type": "markdown",
   "metadata": {
    "colab_type": "text",
    "id": "24b4QGOI7Vmh"
   },
   "source": [
    "Reflect on properties of the columns of $U_k$. What properties do you think are contained in each of them? Draw more singular images to help you make conclusions."
   ]
  },
  {
   "cell_type": "markdown",
   "metadata": {
    "colab_type": "text",
    "id": "Gst9OJUY7nMa"
   },
   "source": [
    "**The columns of U** (or singular vectors) are **nonzero singular values** form an orthogonal basis for the column space of A. Also **the first r columns of U span the column space of A**, where r is the rank of the matrix A.\n",
    "\n",
    "This means **the first k columns of the matrix U is a collection of typical images of this digit**. Using this collection (Uk) regarding **Theorem of SVD Approximation** we can get **the best approximation fot the matrix A**, i.o. **make predictions**."
   ]
  },
  {
   "cell_type": "markdown",
   "metadata": {
    "colab_type": "text",
    "id": "cDFZgAv4yLLO"
   },
   "source": [
    "Now let's move on and obtain singular images for all numbers. The matrices $U_k$ from  [the article](https://intranet.math.vt.edu/ugresearch/Lassiter_2012_2013.pdf) are represented as `number_basis_matrices[k]`.\n",
    "This might take a while to finish, feel free to add debug print in your function to know the progress."
   ]
  },
  {
   "cell_type": "code",
   "execution_count": 81,
   "metadata": {
    "colab": {},
    "colab_type": "code",
    "id": "np3OMUg9hX4L"
   },
   "outputs": [],
   "source": [
    "number = 10\n",
    "\n",
    "# use getSingularImage funciton to get matrices for all numbers\n",
    "number_basis_matrices = [\n",
    "    getSingularImage(X_train_total, y_train_total, i) \n",
    "    for i in range(number)\n",
    "]  "
   ]
  },
  {
   "cell_type": "markdown",
   "metadata": {
    "colab_type": "text",
    "id": "3lSYWDSzyZjQ"
   },
   "source": [
    "### Task 2.2 (1 point)\n",
    "Plot the first singular image of each digit, similarly to the previous task."
   ]
  },
  {
   "cell_type": "code",
   "execution_count": 82,
   "metadata": {
    "colab": {
     "base_uri": "https://localhost:8080/",
     "height": 441
    },
    "colab_type": "code",
    "id": "2-TS33OpwHVN",
    "outputId": "8c59364c-adb5-459c-ea73-b494d0506b1a"
   },
   "outputs": [
    {
     "data": {
      "image/png": "[encoded data removed]",
      "text/plain": [
       "<Figure size 432x432 with 10 Axes>"
      ]
     },
     "metadata": {},
     "output_type": "display_data"
    }
   ],
   "source": [
    "plt.figure(figsize=(6,6))\n",
    "a, b = 3, 4\n",
    "for i in range(10):  \n",
    "    plt.subplot(b, a, i+1)\n",
    "    \n",
    "    # first column of U_k in number_basis_matrices[i] reshaped into 28x28 image\n",
    "    img = np.reshape(number_basis_matrices[i][:, 0], (28, 28)) \n",
    "    plt.imshow(img, cmap='gray')\n",
    "\n",
    "plt.tight_layout()\n",
    "plt.show()"
   ]
  },
  {
   "cell_type": "code",
   "execution_count": 85,
   "metadata": {
    "colab": {
     "base_uri": "https://localhost:8080/",
     "height": 34
    },
    "colab_type": "code",
    "id": "cKlHDULozHr1",
    "outputId": "29b6691c-a69b-4843-f9d9-f4f89d0bf80b"
   },
   "outputs": [],
   "source": [
    "dim = number_basis_matrices[0].shape[0]"
   ]
  },
  {
   "cell_type": "markdown",
   "metadata": {
    "colab_type": "text",
    "id": "T5XFjCNS8wKt"
   },
   "source": [
    "### Task 2.3 (1.5 points)"
   ]
  },
  {
   "cell_type": "markdown",
   "metadata": {
    "colab_type": "text",
    "id": "g4u-9qERyjR-"
   },
   "source": [
    "Here we calculate the new projection matrix for each $U_k$ to apply later in testing:\n",
    "$pr = (I - U_k \\cdot U_{k}^{T})$. Use `numpy.matmul` for matrix multiplication and `numpy.identity` to create an identity matrix. Please note that this operation might also take some time to finish."
   ]
  },
  {
   "cell_type": "code",
   "execution_count": 87,
   "metadata": {},
   "outputs": [],
   "source": [
    "number = 10\n",
    "\n",
    "numeric_values = []\n",
    "\n",
    "I = np.identity(number_basis_matrices[i].shape[0])\n",
    "\n",
    "# create an array of pr for each number\n",
    "for i in range(number):\n",
    "    U_k = number_basis_matrices[i]\n",
    "    U_k_tr = np.transpose(number_basis_matrices[i])\n",
    "    \n",
    "    numeric_values.append(I - np.matmul(U_k, U_k_tr))                         \n",
    "                  "
   ]
  },
  {
   "cell_type": "markdown",
   "metadata": {
    "colab_type": "text",
    "id": "BB_nJGgMzTns"
   },
   "source": [
    "### Task 2.4 (1.5 points)\n",
    "Implement function utilizing `numeric_values` matrices to predict labels for unknown images. Use `numpy.norm` and enumerate to iterate over numeric values."
   ]
  },
  {
   "cell_type": "code",
   "execution_count": 91,
   "metadata": {
    "colab": {},
    "colab_type": "code",
    "id": "tSwJ-iJtlHav"
   },
   "outputs": [],
   "source": [
    "def find_closest(test_value, numeric_values):\n",
    "    \n",
    "    stacked_test = test_value.reshape(-1, 1)\n",
    "    \n",
    "    # to avoid wrong data choose inf at the start\n",
    "    minimun = np.Inf\n",
    "    target = np.Inf\n",
    "    \n",
    "    # find closest U_k to test_value using norm and return the target digit\n",
    "    for indx, matrx in enumerate(numeric_values):\n",
    "        val = np.dot(matrx, stacked_test)\n",
    "        val_norm = np.linalg.norm(val)\n",
    "    \n",
    "        if val_norm < minimun:\n",
    "            minimun = val_norm\n",
    "            target = indx\n",
    "            \n",
    "    return target"
   ]
  },
  {
   "cell_type": "code",
   "execution_count": 92,
   "metadata": {
    "colab": {},
    "colab_type": "code",
    "id": "-G_FrYu5o87N"
   },
   "outputs": [],
   "source": [
    "# find array of predictions for test values and calculate accuracy in the cell below\n",
    "y_pred = np.array([find_closest(test_value, numeric_values) for test_value in X_test])\n"
   ]
  },
  {
   "cell_type": "code",
   "execution_count": 93,
   "metadata": {
    "colab": {},
    "colab_type": "code",
    "id": "MO5pFzGcpoIC"
   },
   "outputs": [],
   "source": [
    "acc = accuracy_score(y_test, y_pred)"
   ]
  },
  {
   "cell_type": "markdown",
   "metadata": {
    "colab_type": "text",
    "id": "RJ_rqkffzvA7"
   },
   "source": [
    "## Additional task (2 points)\n",
    "In the first task we trained Linear SVM to separate 3s and 8s. Here you can implement multiclass classification for _all_ numbers in `MNIST`. Use the same function LinearSVC for “one-vs-the-rest” multi-class strategy, see [the documentation](https://scikit-learn.org/stable/modules/svm.html#classification).  Follow the same steps from task 1: scaling, feature selection, training and testing. Is the accuracy of this method greater then the one calculated above?"
   ]
  },
  {
   "cell_type": "markdown",
   "metadata": {
    "colab_type": "text",
    "id": "-4WYoVtR9kWG"
   },
   "source": [
    "**Note:** Use `random_state=42` for `PCA` and `LinearSVC`. Training `LinearSVC` on all the data might take a while, that's normal."
   ]
  },
  {
   "cell_type": "code",
   "execution_count": 96,
   "metadata": {
    "colab": {},
    "colab_type": "code",
    "id": "Whp8oDkz--OL"
   },
   "outputs": [
    {
     "data": {
      "text/plain": [
       "LinearSVC(C=1.0, class_weight=None, dual=True, fit_intercept=True,\n",
       "     intercept_scaling=1, loss='squared_hinge', max_iter=1000,\n",
       "     multi_class='ovr', penalty='l2', random_state=42, tol=0.0001,\n",
       "     verbose=0)"
      ]
     },
     "execution_count": 96,
     "metadata": {},
     "output_type": "execute_result"
    }
   ],
   "source": [
    "# 1. flat the data\n",
    "X_train_flat = np.array(\n",
    "    [flatten_image(img) \n",
    "     for img in X_train_total])\n",
    "\n",
    "X_test_flat = np.array(\n",
    "    [flatten_image(img) \n",
    "     for img in X_test_total])\n",
    "\n",
    "# 2. scall the data\n",
    "scaler = StandardScaler()\n",
    "\n",
    "X_train_flat = scaler.fit_transform(X_train_flat)\n",
    "X_test_flat = scaler.transform(X_test_flat)\n",
    "\n",
    "# 3. reduce the data, use PCA\n",
    "# random_state=42\n",
    "pca = PCA(n_components=128, random_state=42)\n",
    "\n",
    "X_train_flat = pca.fit_transform(X_train_flat)\n",
    "X_test_flat = pca.transform(X_test_flat)\n",
    "X_train_flat.shape, X_test_flat.shape\n",
    "\n",
    "# 4. use LinearSVC\n",
    "clf = LinearSVC(random_state=42)\n",
    "clf.fit(X_train_flat, y_train_total)"
   ]
  },
  {
   "cell_type": "code",
   "execution_count": 97,
   "metadata": {
    "colab": {},
    "colab_type": "code",
    "id": "VtwS1oFs9DwS",
    "scrolled": false
   },
   "outputs": [
    {
     "data": {
      "text/plain": [
       "0.90959999999999996"
      ]
     },
     "execution_count": 97,
     "metadata": {},
     "output_type": "execute_result"
    }
   ],
   "source": [
    "# calculate accuracy\n",
    "y_pred = clf.predict(X_test_flat)\n",
    "acc = accuracy_score(y_test_total, y_pred)\n",
    "acc"
   ]
  },
  {
   "cell_type": "markdown",
   "metadata": {},
   "source": [
    "SVM and SVD are represented using the vector-space model. VSM is sparse and high dimensional. The high\n",
    "dimensional data does not provide better results for grouping. To reduce the high dimensionality better to use SVD approach.\n",
    "\n",
    "As we can see from our experiments:\n",
    "\n",
    "**The SVD method = 0.949.**\n",
    "\n",
    "**SVM for multiclass classification = 0.91.**\n",
    "\n",
    "SVD  has the best accuracy and using fewer components.\n",
    "\n"
   ]
  },
  {
   "cell_type": "code",
   "execution_count": null,
   "metadata": {},
   "outputs": [],
   "source": []
  }
 ],
 "metadata": {
  "colab": {
   "collapsed_sections": [],
   "name": "MNIST project.ipynb",
   "provenance": [],
   "toc_visible": true
  },
  "kernelspec": {
   "display_name": "Python 3",
   "language": "python",
   "name": "python3"
  },
  "language_info": {
   "codemirror_mode": {
    "name": "ipython",
    "version": 3
   },
   "file_extension": ".py",
   "mimetype": "text/x-python",
   "name": "python",
   "nbconvert_exporter": "python",
   "pygments_lexer": "ipython3",
   "version": "3.9.12"
  }
 },
 "nbformat": 4,
 "nbformat_minor": 1
}
