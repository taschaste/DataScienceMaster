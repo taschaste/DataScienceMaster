{
 "cells": [
  {
   "cell_type": "code",
   "execution_count": 1,
   "metadata": {
    "collapsed": true,
    "pycharm": {
     "name": "#%%\n"
    }
   },
   "outputs": [],
   "source": [
    "from imdb_helper_functions import get_actor_page_soup, write_into_file\n",
    "from imdb_code import get_movie_descriptions_by_actor_soup"
   ]
  },
  {
   "cell_type": "code",
   "execution_count": 2,
   "outputs": [],
   "source": [
    "# highest-paid actors of 2019\n",
    "actors_list = [('Dwayne Johnson', 'https://www.imdb.com/name/nm0425005/'),\n",
    "               ('Chris Hemsworth', 'https://www.imdb.com/name/nm1165110/'),\n",
    "               ('Robert Downey Jr.', 'https://www.imdb.com/name/nm0000375/'),\n",
    "               ('Akshay Kumar', 'https://www.imdb.com/name/nm0474774/'),\n",
    "               ('Jackie Chan', 'https://www.imdb.com/name/nm0000329/'),\n",
    "               ('Bradley Cooper', 'https://www.imdb.com/name/nm0177896/'),\n",
    "               ('Adam Sandler', 'https://www.imdb.com/name/nm0001191/'),\n",
    "               ('Scarlett Johansson', 'https://www.imdb.com/name/nm0424060/'),\n",
    "               ('Sofia Vergara', 'https://www.imdb.com/name/nm0005527/'),\n",
    "               ('Chris Evans', 'https://www.imdb.com/name/nm0262635/')]"
   ],
   "metadata": {
    "collapsed": false,
    "pycharm": {
     "name": "#%%\n"
    }
   }
  },
  {
   "cell_type": "code",
   "execution_count": 3,
   "outputs": [
    {
     "name": "stdout",
     "output_type": "stream",
     "text": [
      "Collected 42 movie descriptions from 42 movies\n",
      "('Dwayne Johnson', 'https://www.imdb.com/name/nm0425005/'): 42 movie descriptions\n",
      "-------------------------------------\n",
      "\n",
      "Collected 29 movie descriptions from 29 movies\n",
      "('Chris Hemsworth', 'https://www.imdb.com/name/nm1165110/'): 29 movie descriptions\n",
      "-------------------------------------\n",
      "\n",
      "Collected 75 movie descriptions from 75 movies\n",
      "('Robert Downey Jr.', 'https://www.imdb.com/name/nm0000375/'): 75 movie descriptions\n",
      "-------------------------------------\n",
      "\n",
      "Error: no movie description found for ('Dil Pardesi Ho Gaya', 'https://www.imdb.com/title/tt12385290/')\n",
      "Error: no movie description found for ('Chundadi Ni Laaj', 'https://www.imdb.com/title/tt5079992/')\n",
      "Error: no movie description found for ('Ashaant', 'https://www.imdb.com/title/tt0290429/')\n",
      "Collected 139 movie descriptions from 142 movies\n",
      "('Akshay Kumar', 'https://www.imdb.com/name/nm0474774/'): 139 movie descriptions\n",
      "-------------------------------------\n",
      "\n",
      "Collected 125 movie descriptions from 125 movies\n",
      "('Jackie Chan', 'https://www.imdb.com/name/nm0000329/'): 125 movie descriptions\n",
      "-------------------------------------\n",
      "\n",
      "Collected 37 movie descriptions from 37 movies\n",
      "('Bradley Cooper', 'https://www.imdb.com/name/nm0177896/'): 37 movie descriptions\n",
      "-------------------------------------\n",
      "\n",
      "Error: no movie description found for ('Sesame Street: The Very Best of Elmo', 'https://www.imdb.com/title/tt12564516/')\n",
      "Collected 48 movie descriptions from 49 movies\n",
      "('Adam Sandler', 'https://www.imdb.com/name/nm0001191/'): 48 movie descriptions\n",
      "-------------------------------------\n",
      "\n",
      "Collected 49 movie descriptions from 49 movies\n",
      "('Scarlett Johansson', 'https://www.imdb.com/name/nm0424060/'): 49 movie descriptions\n",
      "-------------------------------------\n",
      "\n",
      "Collected 23 movie descriptions from 23 movies\n",
      "('Sofia Vergara', 'https://www.imdb.com/name/nm0005527/'): 23 movie descriptions\n",
      "-------------------------------------\n",
      "\n",
      "Collected 39 movie descriptions from 39 movies\n",
      "('Chris Evans', 'https://www.imdb.com/name/nm0262635/'): 39 movie descriptions\n",
      "-------------------------------------\n",
      "\n",
      "All data is collected\n"
     ]
    }
   ],
   "source": [
    "# get film description for the actor list\n",
    "for actor in actors_list:\n",
    "    name = actor[0]\n",
    "    url = actor[1]\n",
    "\n",
    "    actor_page_soup = get_actor_page_soup(url)\n",
    "    movies_descriptions = get_movie_descriptions_by_actor_soup(actor_page_soup, logging=False)\n",
    "\n",
    "    if len(movies_descriptions) != 0:\n",
    "        write_into_file(name, movies_descriptions)\n",
    "\n",
    "    print(f'{actor}: {len(movies_descriptions)} movie descriptions')\n",
    "    print('-------------------------------------\\n')\n",
    "\n",
    "print('All data is collected')"
   ],
   "metadata": {
    "collapsed": false,
    "pycharm": {
     "name": "#%%\n"
    }
   }
  },
  {
   "cell_type": "code",
   "execution_count": 3,
   "outputs": [],
   "source": [],
   "metadata": {
    "collapsed": false,
    "pycharm": {
     "name": "#%%\n"
    }
   }
  }
 ],
 "metadata": {
  "kernelspec": {
   "display_name": "Python 3",
   "language": "python",
   "name": "python3"
  },
  "language_info": {
   "codemirror_mode": {
    "name": "ipython",
    "version": 2
   },
   "file_extension": ".py",
   "mimetype": "text/x-python",
   "name": "python",
   "nbconvert_exporter": "python",
   "pygments_lexer": "ipython2",
   "version": "2.7.6"
  }
 },
 "nbformat": 4,
 "nbformat_minor": 0
}