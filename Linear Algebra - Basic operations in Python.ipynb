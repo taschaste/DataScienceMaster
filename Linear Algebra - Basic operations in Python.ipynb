{
 "cells": [
  {
   "cell_type": "markdown",
   "metadata": {},
   "source": [
    "# Welcome to this programming assignment\n",
    "During week 1 we covered some basic numpy methods to perform basic calculations in Python. In this notebook you will be asked to complete some problems dealing with matrix and vector operations. There will be comments along the way to help you successfully complete this assignment. Good luck!\n",
    "\n",
    "Check the [documentation](https://numpy.org/doc/1.17/reference/index.html) to find out more information about the library and methods it provides."
   ]
  },
  {
   "cell_type": "code",
   "execution_count": 1,
   "metadata": {},
   "outputs": [],
   "source": [
    "import numpy as np\n",
    "import numpy.linalg as LA"
   ]
  },
  {
   "cell_type": "markdown",
   "metadata": {},
   "source": [
    "## Task 1\n",
    "Find the sum of all elements in an array. See [here](https://docs.scipy.org/doc/numpy/reference/generated/numpy.sum.html) for reference."
   ]
  },
  {
   "cell_type": "code",
   "execution_count": 6,
   "metadata": {},
   "outputs": [
    {
     "data": {
      "text/plain": [
       "array([[ 1, 13,  4,  5, -6],\n",
       "       [-9,  4, 12,  0,  2],\n",
       "       [45,  4,  3,  2,  1],\n",
       "       [ 3, -9, 15,  6, 22],\n",
       "       [ 3,  5,  0, -7, 12]])"
      ]
     },
     "execution_count": 6,
     "metadata": {},
     "output_type": "execute_result"
    }
   ],
   "source": [
    "A = np.array([[1,13,4,5, -6],[-9,4,12,0,2],[45,4,3,2,1], [3,-9,15,6,22],[3,5,0,-7,12]])\n",
    "A"
   ]
  },
  {
   "cell_type": "code",
   "execution_count": 7,
   "metadata": {},
   "outputs": [],
   "source": [
    "ans1 = np.sum(A) #your code here"
   ]
  },
  {
   "cell_type": "code",
   "execution_count": 10,
   "metadata": {},
   "outputs": [
    {
     "data": {
      "text/plain": [
       "131"
      ]
     },
     "execution_count": 10,
     "metadata": {},
     "output_type": "execute_result"
    }
   ],
   "source": [
    "ans1"
   ]
  },
  {
   "cell_type": "markdown",
   "metadata": {},
   "source": [
    "## Task 2\n",
    "Calculate the difference between matrices m1 and m2."
   ]
  },
  {
   "cell_type": "code",
   "execution_count": 12,
   "metadata": {},
   "outputs": [],
   "source": [
    "m1 = np.array([[-7, -6,  3, -5],\n",
    "       [ 7,  0,  4,  0],\n",
    "       [ 6, -1,  1,  1]])\n",
    "m2 = np.array([[  6,  -7,  -3,  -9],\n",
    "       [ -8,   1,  -4,   2],\n",
    "       [-10,   1,  -7,   9]])"
   ]
  },
  {
   "cell_type": "code",
   "execution_count": 13,
   "metadata": {},
   "outputs": [],
   "source": [
    "ans2 = m1 - m2 #your code here"
   ]
  },
  {
   "cell_type": "code",
   "execution_count": 14,
   "metadata": {},
   "outputs": [
    {
     "data": {
      "text/plain": [
       "array([[-13,   1,   6,   4],\n",
       "       [ 15,  -1,   8,  -2],\n",
       "       [ 16,  -2,   8,  -8]])"
      ]
     },
     "execution_count": 14,
     "metadata": {},
     "output_type": "execute_result"
    }
   ],
   "source": [
    "ans2"
   ]
  },
  {
   "cell_type": "markdown",
   "metadata": {},
   "source": [
    "## Task 3\n",
    "Find the sum of all matrix elements whose absolute value is greater than 5. You can use a $\\textit{for}$ loop, but try using numpy methods (i.e. [this](https://docs.scipy.org/doc/numpy/reference/generated/numpy.where.html)), since the numpy library is very fast and effective in manipulating data."
   ]
  },
  {
   "cell_type": "code",
   "execution_count": 17,
   "metadata": {},
   "outputs": [],
   "source": [
    "b = np.array([[ -6,  -7,  -5,   0],\n",
    "       [-15,   2, -13,  -5],\n",
    "       [  8,   4,  10,   8],\n",
    "       [ -1,  -9,   7,  -4]])"
   ]
  },
  {
   "cell_type": "code",
   "execution_count": 32,
   "metadata": {},
   "outputs": [
    {
     "data": {
      "text/plain": [
       "array([[ -6,  -7,   0,   0],\n",
       "       [-15,   0, -13,   0],\n",
       "       [  8,   0,  10,   8],\n",
       "       [  0,  -9,   7,   0]])"
      ]
     },
     "execution_count": 32,
     "metadata": {},
     "output_type": "execute_result"
    }
   ],
   "source": [
    "b5 = np.where(abs(b) > 5, b, 0)\n",
    "b5"
   ]
  },
  {
   "cell_type": "code",
   "execution_count": 34,
   "metadata": {},
   "outputs": [
    {
     "data": {
      "text/plain": [
       "-17"
      ]
     },
     "execution_count": 34,
     "metadata": {},
     "output_type": "execute_result"
    }
   ],
   "source": [
    "b5_sum = np.sum(b5)\n",
    "b5_sum"
   ]
  },
  {
   "cell_type": "code",
   "execution_count": 35,
   "metadata": {},
   "outputs": [],
   "source": [
    "ans3 = np.sum(np.where(abs(b) > 5, b, 0)) #your code here"
   ]
  },
  {
   "cell_type": "code",
   "execution_count": 36,
   "metadata": {
    "scrolled": true
   },
   "outputs": [
    {
     "data": {
      "text/plain": [
       "-17"
      ]
     },
     "execution_count": 36,
     "metadata": {},
     "output_type": "execute_result"
    }
   ],
   "source": [
    "ans3"
   ]
  },
  {
   "cell_type": "code",
   "execution_count": 37,
   "metadata": {},
   "outputs": [
    {
     "data": {
      "text/plain": [
       "-17"
      ]
     },
     "execution_count": 37,
     "metadata": {},
     "output_type": "execute_result"
    }
   ],
   "source": [
    "-6-7-15-13+8+10+8-9+7\n"
   ]
  },
  {
   "cell_type": "markdown",
   "metadata": {},
   "source": [
    "## Task 4\n",
    "Find the product of two matrices. Remember that it is better to use $\\textit{matmul, or @,}$ for $\\textbf{larger dimension}$ matrices."
   ]
  },
  {
   "cell_type": "code",
   "execution_count": 39,
   "metadata": {},
   "outputs": [],
   "source": [
    "n = np.array([[ -4,  -1,   3,  -7,   6,  -9,   5,  -9,  -7,   0],\n",
    "       [-12,   3, -12,  -7,   2,  -4,   8,  13,   9,   3],\n",
    "       [ -2,  -1, -15, -10,   7,   5,   7, -13,  -9,   6],\n",
    "       [  7,  11,  -5,  -6,  -9,  -1,   3,  10, -15,  -6],\n",
    "       [ -3,  -4,   4, -13,   4, -13,  10,  -6,  -8,  13],\n",
    "       [  7, -13,  -4,   3,   4,  13, -13,   4,  -9, -10],\n",
    "       [ -5,  13,  -9, -15,  11,   2,   7, -14, -14,   2],\n",
    "       [ -4,  -6,  12,  10,  13,  -3,  12, -15,   5,  -2],\n",
    "       [ -1,   8,   3,   7,  11,  -3,   6,  12,  12, -13],\n",
    "       [ 12,  11,  12,  11,   1, -14,   2,   6,  -9,  -3]])\n",
    "z = np.array([[-15,   5, -15,  10,  -3,  12,  -6, -15,   6,   3],\n",
    "       [ 12,  -4,   6, -11,   5,   3,   3,  12, -15,  -6],\n",
    "       [-11, -11, -10,   9,  -8, -14, -14,   7,  -2,  11],\n",
    "       [  5,  -4,  11,   0,   8,  -9, -15, -11,   7, -10],\n",
    "       [ -6,  -9,  -3, -13, -11,  -9,   7,  -7,   9,   4],\n",
    "       [ 10,  12,   4,  -7,   1,   0,  -1,  11,  -4,  11],\n",
    "       [-14,   2,  -8,  11,  -9,   5, -14,  10,  -6,  -9],\n",
    "       [ -5,  10, -10,  -1,  -9, -12,  12,  14,   4,   2],\n",
    "       [ -1, -13,  10,  11,  12, -14,   9,  12,  12,  -5],\n",
    "       [  2,   6, -13,  -5,  -2,  -2,   0,  14,   7,  14]])"
   ]
  },
  {
   "cell_type": "code",
   "execution_count": 40,
   "metadata": {},
   "outputs": [],
   "source": [
    "ans4 = np.matmul(n, z) #your code here"
   ]
  },
  {
   "cell_type": "code",
   "execution_count": 41,
   "metadata": {},
   "outputs": [
    {
     "data": {
      "text/plain": [
       "array([[-164, -172, -127,  -30, -196,  147, -106, -155, -124,   -6],\n",
       "       [  81,   69,   76, -100,  -22, -170,  497,  563,   25, -201],\n",
       "       [ 129,  233,  -31, -309,  -97,  515,   78, -107, -154,   58],\n",
       "       [   7,  404, -228,  -84, -161,  439,   32,   16, -432, -103],\n",
       "       [-342,  -41, -495,   52, -362,  185,  -98,   99,  -58,  182],\n",
       "       [  55,  310,   34, -162,  -68,   71,   94, -529,  166,  214],\n",
       "       [ 199,   75,  -29, -504, -196,  536,  103,   12, -473,   31],\n",
       "       [-304, -524,   93,  198,  -89, -267, -521, -220,  155, -116],\n",
       "       [-165, -335,  186,   58,  -41, -448,  131,  135,   93, -349],\n",
       "       [-326, -174, -299,  124, -188,  -29, -388, -292,  -92, -161]])"
      ]
     },
     "execution_count": 41,
     "metadata": {},
     "output_type": "execute_result"
    }
   ],
   "source": [
    "ans4"
   ]
  },
  {
   "cell_type": "markdown",
   "metadata": {},
   "source": [
    "## Task 5\n",
    "Create an identity matrix of the necessary size and subtract it from A."
   ]
  },
  {
   "cell_type": "code",
   "execution_count": 78,
   "metadata": {},
   "outputs": [
    {
     "data": {
      "text/plain": [
       "array([[  7,   8, -15,   8,  11,   7],\n",
       "       [ -5,  -9,  13,  -3, -15, -11],\n",
       "       [ -3,   0,  10,  -5,   3,  -8],\n",
       "       [ 10,   1,   7, -11,  10,  -3],\n",
       "       [ 11,   9,  -6, -14,  10, -11],\n",
       "       [  6,  -4,  -4,  -9,  -6,  -7]])"
      ]
     },
     "execution_count": 78,
     "metadata": {},
     "output_type": "execute_result"
    }
   ],
   "source": [
    "A = np.array([[  7,   8, -15,   8,  11,   7],\n",
    "       [ -5,  -9,  13,  -3, -15, -11],\n",
    "       [ -3,   0,  10,  -5,   3,  -8],\n",
    "       [ 10,   1,   7, -11,  10,  -3],\n",
    "       [ 11,   9,  -6, -14,  10, -11],\n",
    "       [  6,  -4,  -4,  -9,  -6,  -7]])\n",
    "A"
   ]
  },
  {
   "cell_type": "code",
   "execution_count": 79,
   "metadata": {},
   "outputs": [
    {
     "data": {
      "text/plain": [
       "(6, 6)"
      ]
     },
     "execution_count": 79,
     "metadata": {},
     "output_type": "execute_result"
    }
   ],
   "source": [
    "A.shape"
   ]
  },
  {
   "cell_type": "code",
   "execution_count": 80,
   "metadata": {},
   "outputs": [
    {
     "data": {
      "text/plain": [
       "array([[ 1.,  0.,  0.,  0.,  0.,  0.],\n",
       "       [ 0.,  1.,  0.,  0.,  0.,  0.],\n",
       "       [ 0.,  0.,  1.,  0.,  0.,  0.],\n",
       "       [ 0.,  0.,  0.,  1.,  0.,  0.],\n",
       "       [ 0.,  0.,  0.,  0.,  1.,  0.],\n",
       "       [ 0.,  0.,  0.,  0.,  0.,  1.]])"
      ]
     },
     "execution_count": 80,
     "metadata": {},
     "output_type": "execute_result"
    }
   ],
   "source": [
    "B = np.identity(6)\n",
    "B"
   ]
  },
  {
   "cell_type": "code",
   "execution_count": 81,
   "metadata": {},
   "outputs": [],
   "source": [
    "ans5 = np.subtract(A, np.identity(6)"
   ]
  },
  {
   "cell_type": "code",
   "execution_count": 82,
   "metadata": {},
   "outputs": [
    {
     "data": {
      "text/plain": [
       "array([[  6.,   8., -15.,   8.,  11.,   7.],\n",
       "       [ -5., -10.,  13.,  -3., -15., -11.],\n",
       "       [ -3.,   0.,   9.,  -5.,   3.,  -8.],\n",
       "       [ 10.,   1.,   7., -12.,  10.,  -3.],\n",
       "       [ 11.,   9.,  -6., -14.,   9., -11.],\n",
       "       [  6.,  -4.,  -4.,  -9.,  -6.,  -8.]])"
      ]
     },
     "execution_count": 82,
     "metadata": {},
     "output_type": "execute_result"
    }
   ],
   "source": [
    "ans5"
   ]
  },
  {
   "cell_type": "markdown",
   "metadata": {},
   "source": [
    "## Task 6\n",
    "Find the solution to system Ax = b, use matrix inverse."
   ]
  },
  {
   "cell_type": "code",
   "execution_count": 58,
   "metadata": {},
   "outputs": [],
   "source": [
    "A = np.array([[ 0, -2,  0, -2],\n",
    "       [-2,  0, -4,  4],\n",
    "       [-1, -5, -2,  2],\n",
    "       [ 3, 1, 2,  1]])"
   ]
  },
  {
   "cell_type": "code",
   "execution_count": 59,
   "metadata": {},
   "outputs": [],
   "source": [
    "b = np.array([-4,  1,  4,  2])"
   ]
  },
  {
   "cell_type": "code",
   "execution_count": 60,
   "metadata": {},
   "outputs": [],
   "source": [
    "x = np.dot(np.linalg.inv(A), b) #your code here"
   ]
  },
  {
   "cell_type": "code",
   "execution_count": 61,
   "metadata": {},
   "outputs": [
    {
     "data": {
      "text/plain": [
       "array([-2.45 , -0.7  ,  3.675,  2.7  ])"
      ]
     },
     "execution_count": 61,
     "metadata": {},
     "output_type": "execute_result"
    }
   ],
   "source": [
    "x"
   ]
  },
  {
   "cell_type": "markdown",
   "metadata": {},
   "source": [
    "## Task 7\n",
    "Find the PLU decomposition and assert that by multiplying the matrices in the decomposition you get the original matrix back. Submit the matrix U as the answer."
   ]
  },
  {
   "cell_type": "code",
   "execution_count": 63,
   "metadata": {},
   "outputs": [],
   "source": [
    "from scipy.linalg import lu"
   ]
  },
  {
   "cell_type": "code",
   "execution_count": 64,
   "metadata": {},
   "outputs": [
    {
     "data": {
      "text/plain": [
       "array([[ 12, -13,   2,   2, -11],\n",
       "       [  1,   4,  11,  11,  -5],\n",
       "       [ 13,  -5,   9,  12,  -2],\n",
       "       [  5, -13,  12,   3,   5],\n",
       "       [ -9,  11,  -1,  -6,  -5]])"
      ]
     },
     "execution_count": 64,
     "metadata": {},
     "output_type": "execute_result"
    }
   ],
   "source": [
    "m = np.array([[ 12, -13,   2,   2, -11],\n",
    "       [  1,   4,  11,  11,  -5],\n",
    "       [ 13,  -5,   9,  12,  -2],\n",
    "       [  5, -13,  12,   3,   5],\n",
    "       [ -9,  11,  -1,  -6,  -5]])\n",
    "m"
   ]
  },
  {
   "cell_type": "code",
   "execution_count": 65,
   "metadata": {},
   "outputs": [],
   "source": [
    "P, L, U = lu(m) #your code here"
   ]
  },
  {
   "cell_type": "code",
   "execution_count": 66,
   "metadata": {},
   "outputs": [],
   "source": [
    "assert(np.allclose(((P@L)@U), m)) # check if we get the original matrix"
   ]
  },
  {
   "cell_type": "code",
   "execution_count": 68,
   "metadata": {},
   "outputs": [
    {
     "data": {
      "text/plain": [
       "array([[ 0.,  0.,  0.,  0.,  1.],\n",
       "       [ 0.,  0.,  1.,  0.,  0.],\n",
       "       [ 1.,  0.,  0.,  0.,  0.],\n",
       "       [ 0.,  1.,  0.,  0.,  0.],\n",
       "       [ 0.,  0.,  0.,  1.,  0.]])"
      ]
     },
     "execution_count": 68,
     "metadata": {},
     "output_type": "execute_result"
    }
   ],
   "source": [
    "P"
   ]
  },
  {
   "cell_type": "code",
   "execution_count": 69,
   "metadata": {},
   "outputs": [
    {
     "data": {
      "text/plain": [
       "array([[ 1.        ,  0.        ,  0.        ,  0.        ,  0.        ],\n",
       "       [ 0.38461538,  1.        ,  0.        ,  0.        ,  0.        ],\n",
       "       [ 0.07692308, -0.39583333,  1.        ,  0.        ,  0.        ],\n",
       "       [-0.69230769, -0.68055556,  0.80669711,  1.        ,  0.        ],\n",
       "       [ 0.92307692,  0.75694444, -0.93302892, -0.14852662,  1.        ]])"
      ]
     },
     "execution_count": 69,
     "metadata": {},
     "output_type": "execute_result"
    }
   ],
   "source": [
    "L"
   ]
  },
  {
   "cell_type": "code",
   "execution_count": 70,
   "metadata": {},
   "outputs": [
    {
     "data": {
      "text/plain": [
       "array([ 13.        ,  -5.        ,   9.        ,  12.        ,\n",
       "        -2.        ,   0.        , -11.07692308,   8.53846154,\n",
       "        -1.61538462,   5.76923077,   0.        ,   0.        ,\n",
       "        13.6875    ,   9.4375    ,  -2.5625    ,   0.        ,\n",
       "         0.        ,   0.        ,  -6.40487062,  -0.39117199,\n",
       "         0.        ,   0.        ,   0.        ,   0.        , -15.96981939])"
      ]
     },
     "execution_count": 70,
     "metadata": {},
     "output_type": "execute_result"
    }
   ],
   "source": [
    "U"
   ]
  },
  {
   "cell_type": "code",
   "execution_count": null,
   "metadata": {},
   "outputs": [],
   "source": []
  }
 ],
 "metadata": {
  "kernelspec": {
   "display_name": "Python 3",
   "language": "python",
   "name": "python3"
  },
  "language_info": {
   "codemirror_mode": {
    "name": "ipython",
    "version": 3
   },
   "file_extension": ".py",
   "mimetype": "text/x-python",
   "name": "python",
   "nbconvert_exporter": "python",
   "pygments_lexer": "ipython3",
   "version": "3.9.12"
  }
 },
 "nbformat": 4,
 "nbformat_minor": 2
}
