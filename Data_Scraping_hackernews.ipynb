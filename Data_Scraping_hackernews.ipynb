{
 "cells": [
  {
   "cell_type": "markdown",
   "metadata": {},
   "source": [
    "# Using HackerNews API"
   ]
  },
  {
   "cell_type": "markdown",
   "metadata": {},
   "source": [
    "## Week 8. Practice Programming Assignment 1"
   ]
  },
  {
   "cell_type": "markdown",
   "metadata": {},
   "source": [
    "In this assignment we going to work with [HackerNews](https://news.ycombinator.com/). You are required to use its [API](https://github.com/HackerNews/API) to get all items from 2007-04-01 00:01 to 2007-04-07 23:59, and then use the data to answer questions you will find below."
   ]
  },
  {
   "cell_type": "markdown",
   "metadata": {},
   "source": [
    "### Coding part"
   ]
  },
  {
   "cell_type": "code",
   "execution_count": 48,
   "metadata": {},
   "outputs": [],
   "source": [
    "# you can start your web-scraping here\n",
    "import requests\n",
    "import time\n",
    "import numpy as np\n",
    "import pandas as pd\n",
    "import datetime\n",
    "import json\n",
    "from datetime import datetime"
   ]
  },
  {
   "cell_type": "code",
   "execution_count": 2,
   "metadata": {},
   "outputs": [],
   "source": [
    "url = 'https://hacker-news.firebaseio.com/v0/'\n",
    "# https://github.com/HackerNews/API"
   ]
  },
  {
   "cell_type": "code",
   "execution_count": 3,
   "metadata": {},
   "outputs": [
    {
     "data": {
      "text/plain": [
       "(1175385601.0, 1175990340.0)"
      ]
     },
     "execution_count": 3,
     "metadata": {},
     "output_type": "execute_result"
    }
   ],
   "source": [
    "# 2007-04-01 00:01 to 2007-04-07 23:59\n",
    "# unix representation\n",
    "\n",
    "def unix_time(date):\n",
    "    date_format = datetime.datetime.strptime(date, \"%Y-%m-%d, %H:%M:%S\")\n",
    "    unix_time = datetime.datetime.timestamp(date_format)\n",
    "    return unix_time\n",
    "\n",
    "# correctness to GMT + 2 !!!\n",
    "\n",
    "start = \"2007-04-01, 02:00:01\"\n",
    "end = \"2007-04-08, 01:59:00\"\n",
    "\n",
    "start_time = unix_time(start)\n",
    "end_time = unix_time(end)\n",
    "\n",
    "start_time, end_time\n",
    "# 1175385601, 1175990340"
   ]
  },
  {
   "cell_type": "code",
   "execution_count": 4,
   "metadata": {},
   "outputs": [],
   "source": [
    "# Hint: you can use this already converted times\n",
    "\n",
    "# 1175385601 Start time: Sun, 01 Apr 2007 00:00:01 GMT\n",
    "# 1175990340 End time: Sat, 07 Apr 2007 23:59:00 GMT"
   ]
  },
  {
   "cell_type": "markdown",
   "metadata": {},
   "source": [
    "<br><br>\n",
    "\n",
    "### Questions\n",
    "\n",
    "<br><br>\n",
    "\n",
    "**Question 1.** How many stories were created during the period??"
   ]
  },
  {
   "cell_type": "code",
   "execution_count": 5,
   "metadata": {},
   "outputs": [],
   "source": [
    "# https://news.ycombinator.com/news?p=22\n",
    "# website doesn't show "
   ]
  },
  {
   "cell_type": "code",
   "execution_count": 7,
   "metadata": {},
   "outputs": [
    {
     "name": "stdout",
     "output_type": "stream",
     "text": [
      "7910 1175381929 2007-04-01 00:58:49\n",
      "7911 1175382055 2007-04-01 01:00:55\n",
      "7912 1175382368 2007-04-01 01:06:08\n",
      "7913 1175382778 2007-04-01 01:12:58\n",
      "7914 1175383017 2007-04-01 01:16:57\n",
      "7915 1175383550 2007-04-01 01:25:50\n",
      "7916 1175384156 2007-04-01 01:35:56\n",
      "7917 1175385613 2007-04-01 02:00:13\n",
      "7918 1175386345 2007-04-01 02:12:25\n",
      "7919 1175387119 2007-04-01 02:25:19\n"
     ]
    }
   ],
   "source": [
    "# 1175385601 Start time: Sun, 01 Apr 2007 00:00:01 GMT\n",
    "# with correctness 02:00:01\n",
    "\n",
    "start = 7910\n",
    "\n",
    "for id in range(start, start + 10):\n",
    "    \n",
    "    response = requests.get(url + 'item/' + str(id) + '.json')\n",
    "    assert response.status_code == 200\n",
    "    \n",
    "    response_json = response.json()\n",
    "    response_time = int(response_json['time'])\n",
    "    converted_time = datetime.datetime.fromtimestamp(response_time).strftime('%Y-%m-%d %H:%M:%S')\n",
    "    print(id, response_time, converted_time)"
   ]
  },
  {
   "cell_type": "code",
   "execution_count": 8,
   "metadata": {},
   "outputs": [],
   "source": [
    "start_id = 7917"
   ]
  },
  {
   "cell_type": "code",
   "execution_count": 9,
   "metadata": {},
   "outputs": [
    {
     "name": "stdout",
     "output_type": "stream",
     "text": [
      "10230 1175989236 2007-04-08 01:40:36\n",
      "10231 1175989395 2007-04-08 01:43:15\n",
      "10232 1175989725 2007-04-08 01:48:45\n",
      "10233 1175989806 2007-04-08 01:50:06\n",
      "10234 1175990070 2007-04-08 01:54:30\n",
      "10235 1175990482 2007-04-08 02:01:22\n",
      "10236 1175990516 2007-04-08 02:01:56\n",
      "10237 1175990876 2007-04-08 02:07:56\n",
      "10238 1175991129 2007-04-08 02:12:09\n",
      "10239 1175991162 2007-04-08 02:12:42\n"
     ]
    }
   ],
   "source": [
    "# 1175990340 End time: Sat, 07 Apr 2007 23:59:00 GMT\n",
    "# with correctness Su, 08 Apr 01:59:00\n",
    "\n",
    "end = 10230\n",
    "\n",
    "for id in range(end, end + 10):\n",
    "    \n",
    "    response = requests.get(url + 'item/' + str(id) + '.json')\n",
    "    assert response.status_code == 200\n",
    "    \n",
    "    response_json = response.json()\n",
    "    response_time = int(response_json['time'])\n",
    "    converted_time = datetime.datetime.fromtimestamp(response_time).strftime('%Y-%m-%d %H:%M:%S')\n",
    "    print(id, response_time, converted_time)"
   ]
  },
  {
   "cell_type": "code",
   "execution_count": 10,
   "metadata": {},
   "outputs": [],
   "source": [
    "end_id = 10234"
   ]
  },
  {
   "cell_type": "code",
   "execution_count": 11,
   "metadata": {},
   "outputs": [
    {
     "data": {
      "text/plain": [
       "(7917, 10234)"
      ]
     },
     "execution_count": 11,
     "metadata": {},
     "output_type": "execute_result"
    }
   ],
   "source": [
    "start_id, end_id"
   ]
  },
  {
   "cell_type": "code",
   "execution_count": 12,
   "metadata": {},
   "outputs": [
    {
     "data": {
      "text/plain": [
       "2318"
      ]
     },
     "execution_count": 12,
     "metadata": {},
     "output_type": "execute_result"
    }
   ],
   "source": [
    "all = end_id - start_id + 1\n",
    "all"
   ]
  },
  {
   "cell_type": "code",
   "execution_count": null,
   "metadata": {},
   "outputs": [],
   "source": []
  },
  {
   "cell_type": "code",
   "execution_count": null,
   "metadata": {},
   "outputs": [],
   "source": [
    "period = (end_id - start_id + 1)//5\n",
    "n_list = [start_id + period * i for i in range(1, 5)]\n",
    "\n",
    "dump_stories = []\n",
    "dump_comments = []\n",
    "\n",
    "for id in range(start_id, end_id + 1):  \n",
    "    response = requests.get(url + 'item/' + str(id) + '.json')\n",
    "    assert response.status_code == 200\n",
    "    \n",
    "    response_json = response.json()\n",
    "    response_time = int(response_json['time'])\n",
    "    response_type = response_json['type']\n",
    "          \n",
    "    if response_type == 'story':\n",
    "        dump_stories.append(response_json)\n",
    "        \n",
    "    if response_type == 'comment':\n",
    "        dump_comments.append(response_json)\n",
    "    \n",
    "    if id in n_list:\n",
    "        with open(f'stories_{id}.txt', 'w') as output:\n",
    "            output.write(str(dump_stories))\n",
    "        with open(f'comments_{id}.txt', 'w') as output:\n",
    "            output.write(str(dump_comments))"
   ]
  },
  {
   "cell_type": "code",
   "execution_count": 13,
   "metadata": {},
   "outputs": [
    {
     "data": {
      "text/plain": [
       "463"
      ]
     },
     "execution_count": 13,
     "metadata": {},
     "output_type": "execute_result"
    }
   ],
   "source": [
    "period = (end_id - start_id + 1)//5\n",
    "period"
   ]
  },
  {
   "cell_type": "code",
   "execution_count": 14,
   "metadata": {},
   "outputs": [
    {
     "data": {
      "text/plain": [
       "[8380, 8843, 9306, 9769]"
      ]
     },
     "execution_count": 14,
     "metadata": {},
     "output_type": "execute_result"
    }
   ],
   "source": [
    "n_list = [start_id + period * i for i in range(1, 5)]\n",
    "n_list"
   ]
  },
  {
   "cell_type": "code",
   "execution_count": 15,
   "metadata": {},
   "outputs": [],
   "source": [
    "dump_stories = []\n",
    "dump_comments = []\n",
    "\n",
    "for id in range(start_id, end_id + 1):  \n",
    "    response = requests.get(url + 'item/' + str(id) + '.json')\n",
    "    assert response.status_code == 200\n",
    "    \n",
    "    response_json = response.json()\n",
    "    response_time = int(response_json['time'])\n",
    "    response_type = response_json['type']\n",
    "          \n",
    "    if response_type == 'story':\n",
    "        dump_stories.append(response_json)\n",
    "        \n",
    "    if response_type == 'comment':\n",
    "        dump_comments.append(response_json)\n",
    "    \n",
    "    # time.sleep(1)\n",
    "    \n",
    "    if id in n_list:\n",
    "        with open(f'stories_{id}.txt', 'w') as output:\n",
    "            output.write(str(dump_stories))\n",
    "        with open(f'comments_{id}.txt', 'w') as output:\n",
    "            output.write(str(dump_comments))"
   ]
  },
  {
   "cell_type": "code",
   "execution_count": 16,
   "metadata": {},
   "outputs": [
    {
     "data": {
      "text/plain": [
       "487"
      ]
     },
     "execution_count": 16,
     "metadata": {},
     "output_type": "execute_result"
    }
   ],
   "source": [
    "len(dump_stories)"
   ]
  },
  {
   "cell_type": "code",
   "execution_count": 18,
   "metadata": {},
   "outputs": [
    {
     "data": {
      "text/plain": [
       "{'by': 'gibsonf1',\n",
       " 'descendants': 0,\n",
       " 'id': 7917,\n",
       " 'score': 1,\n",
       " 'time': 1175385613,\n",
       " 'title': 'Introducing Lean Software Development',\n",
       " 'type': 'story',\n",
       " 'url': 'http://www.leansoftwareinstitute.com/art_ilsd.php'}"
      ]
     },
     "execution_count": 18,
     "metadata": {},
     "output_type": "execute_result"
    }
   ],
   "source": [
    "dump_stories[0]"
   ]
  },
  {
   "cell_type": "code",
   "execution_count": 19,
   "metadata": {},
   "outputs": [],
   "source": [
    "# 1175385613 ->  \tSun Apr 01 2007 00:00:13 GMT+0000"
   ]
  },
  {
   "cell_type": "code",
   "execution_count": 20,
   "metadata": {},
   "outputs": [
    {
     "data": {
      "text/plain": [
       "{'by': 'danw',\n",
       " 'descendants': 0,\n",
       " 'id': 10233,\n",
       " 'score': 6,\n",
       " 'time': 1175989806,\n",
       " 'title': '\"Demo or die\" - 5 secrets to success',\n",
       " 'type': 'story',\n",
       " 'url': 'http://www.zephoria.org/thoughts/archives/2007/04/06/5_secrets_to_su.html'}"
      ]
     },
     "execution_count": 20,
     "metadata": {},
     "output_type": "execute_result"
    }
   ],
   "source": [
    "dump_stories[-1]"
   ]
  },
  {
   "cell_type": "code",
   "execution_count": 21,
   "metadata": {},
   "outputs": [],
   "source": [
    "# 1175989806 -> Sat Apr 07 2007 23:50:06 GMT+0000"
   ]
  },
  {
   "cell_type": "code",
   "execution_count": 22,
   "metadata": {},
   "outputs": [],
   "source": [
    "answer_part_1 = 487"
   ]
  },
  {
   "cell_type": "markdown",
   "metadata": {},
   "source": [
    "<br>\n",
    "\n",
    "**Question 2.** What was the length of the longest story?"
   ]
  },
  {
   "cell_type": "code",
   "execution_count": 29,
   "metadata": {},
   "outputs": [
    {
     "data": {
      "text/plain": [
       "{'by': 'gibsonf1',\n",
       " 'descendants': 0,\n",
       " 'id': 7917,\n",
       " 'score': 1,\n",
       " 'time': 1175385613,\n",
       " 'title': 'Introducing Lean Software Development',\n",
       " 'type': 'story',\n",
       " 'url': 'http://www.leansoftwareinstitute.com/art_ilsd.php'}"
      ]
     },
     "execution_count": 29,
     "metadata": {},
     "output_type": "execute_result"
    }
   ],
   "source": [
    "dump_stories[0]"
   ]
  },
  {
   "cell_type": "code",
   "execution_count": 36,
   "metadata": {},
   "outputs": [
    {
     "data": {
      "text/plain": [
       "445"
      ]
     },
     "execution_count": 36,
     "metadata": {},
     "output_type": "execute_result"
    }
   ],
   "source": [
    "# longest_story = max(dump_stories, key=lambda x: x['descendants'])['descendants']\n",
    "\n",
    "descendants_list = [dump_stories[i]['descendants'] for i in range(len(dump_stories))]\n",
    "max(descendants_list)"
   ]
  },
  {
   "cell_type": "code",
   "execution_count": 37,
   "metadata": {},
   "outputs": [],
   "source": [
    "answer_part_2 = 445"
   ]
  },
  {
   "cell_type": "markdown",
   "metadata": {},
   "source": [
    "<br>\n",
    "\n",
    "**Question 3.** What user left the most comments?"
   ]
  },
  {
   "cell_type": "code",
   "execution_count": 38,
   "metadata": {},
   "outputs": [
    {
     "data": {
      "text/plain": [
       "{'by': 'domp',\n",
       " 'id': 7918,\n",
       " 'parent': 7894,\n",
       " 'text': 'Read/WriteWeb wrote an article about this April Fools joke. Check it out:<p><a href=\"http://www.readwriteweb.com/archives/the_end_of_an_era_1april07.php\">http://www.readwriteweb.com/archives/the_end_of_an_era_1april07.php</a>',\n",
       " 'time': 1175386345,\n",
       " 'type': 'comment'}"
      ]
     },
     "execution_count": 38,
     "metadata": {},
     "output_type": "execute_result"
    }
   ],
   "source": [
    "dump_comments[0]"
   ]
  },
  {
   "cell_type": "code",
   "execution_count": 41,
   "metadata": {},
   "outputs": [
    {
     "data": {
      "text/plain": [
       "'pg'"
      ]
     },
     "execution_count": 41,
     "metadata": {},
     "output_type": "execute_result"
    }
   ],
   "source": [
    "users_comments = {}\n",
    "\n",
    "for comment in dump_comments:\n",
    "    users_comments.setdefault(comment['by'], 0)\n",
    "    users_comments[comment['by']] += 1\n",
    "\n",
    "# user_left_the_most_comments = max(users_comments.items(), key=lambda x: x[1])[0]\n",
    "# user_left_the_most_comments\n",
    "max(users_comments, key=users_comments.get) "
   ]
  },
  {
   "cell_type": "code",
   "execution_count": null,
   "metadata": {},
   "outputs": [],
   "source": [
    "answer_part_3 = 'pg'"
   ]
  },
  {
   "cell_type": "markdown",
   "metadata": {},
   "source": [
    "<br>\n",
    "\n",
    "**Question 4.** What user created the most stories?"
   ]
  },
  {
   "cell_type": "code",
   "execution_count": 43,
   "metadata": {},
   "outputs": [
    {
     "data": {
      "text/plain": [
       "'usablecontent'"
      ]
     },
     "execution_count": 43,
     "metadata": {},
     "output_type": "execute_result"
    }
   ],
   "source": [
    "user_stories = {}\n",
    "\n",
    "for story in dump_stories:\n",
    "    user_stories.setdefault(story['by'], 0)\n",
    "    user_stories[story['by']] += 1\n",
    "\n",
    "#u ser_created_the_most_stories = max(user_stories.items(), key=lambda x: x[1])[0]\n",
    "# user_created_the_most_stories\n",
    "max(user_stories, key=user_stories.get) "
   ]
  },
  {
   "cell_type": "code",
   "execution_count": 44,
   "metadata": {},
   "outputs": [],
   "source": [
    "answer_part_4 = 'usablecontent'"
   ]
  },
  {
   "cell_type": "markdown",
   "metadata": {},
   "source": [
    "<br>\n",
    "\n",
    "**Question 5.** What is day of the week with the most stories created? Enter one of the following as an answer: Monday, Tuesday, Wednesday, Thursday, Friday, Saturday, Sunday."
   ]
  },
  {
   "cell_type": "code",
   "execution_count": 49,
   "metadata": {},
   "outputs": [],
   "source": [
    "week_stories = {'Monday': 0,\n",
    "                'Tuesday': 0,\n",
    "                'Wednesday': 0,\n",
    "                'Thursday': 0,\n",
    "                'Friday': 0,\n",
    "                'Saturday': 0,\n",
    "                'Sunday': 0}"
   ]
  },
  {
   "cell_type": "code",
   "execution_count": 50,
   "metadata": {},
   "outputs": [],
   "source": [
    "def story_day_checker(day_of_the_week):\n",
    "    \n",
    "    if day_of_the_week == 0:\n",
    "        week_stories['Monday'] += 1 \n",
    "        \n",
    "    if day_of_the_week == 1:\n",
    "        week_stories['Tuesday'] += 1\n",
    "    \n",
    "    if day_of_the_week == 2:\n",
    "        week_stories['Wednesday'] += 1\n",
    "    \n",
    "    if day_of_the_week == 3:\n",
    "        week_stories['Thursday'] += 1\n",
    "    \n",
    "    if day_of_the_week == 4:\n",
    "        week_stories['Friday'] += 1\n",
    "    \n",
    "    if day_of_the_week == 5:\n",
    "        week_stories['Saturday'] += 1\n",
    "   \n",
    "    if day_of_the_week == 6:\n",
    "        week_stories['Sunday'] += 1 \n",
    "    "
   ]
  },
  {
   "cell_type": "code",
   "execution_count": 51,
   "metadata": {},
   "outputs": [
    {
     "data": {
      "text/plain": [
       "{'Monday': 88,\n",
       " 'Tuesday': 81,\n",
       " 'Wednesday': 92,\n",
       " 'Thursday': 67,\n",
       " 'Friday': 68,\n",
       " 'Saturday': 53,\n",
       " 'Sunday': 38}"
      ]
     },
     "execution_count": 51,
     "metadata": {},
     "output_type": "execute_result"
    }
   ],
   "source": [
    "for story in dump_stories:\n",
    "    story_day_checker(datetime.weekday(pd.to_datetime(story['time'], unit='s')))\n",
    "\n",
    "week_stories"
   ]
  },
  {
   "cell_type": "code",
   "execution_count": 53,
   "metadata": {},
   "outputs": [
    {
     "data": {
      "text/plain": [
       "'Wednesday'"
      ]
     },
     "execution_count": 53,
     "metadata": {},
     "output_type": "execute_result"
    }
   ],
   "source": [
    "day = max(week_stories, key=week_stories.get)\n",
    "day"
   ]
  },
  {
   "cell_type": "code",
   "execution_count": 54,
   "metadata": {},
   "outputs": [],
   "source": [
    "answer_part_5 = 'Wednesday'"
   ]
  },
  {
   "cell_type": "markdown",
   "metadata": {},
   "source": [
    "<br><br>\n",
    "\n",
    "**Question 6.** What is day of the week with the most comments left? Enter one of the following as an answer: Monday, Tuesday, Wednesday, Thursday, Friday, Saturday, Sunday."
   ]
  },
  {
   "cell_type": "code",
   "execution_count": 55,
   "metadata": {},
   "outputs": [],
   "source": [
    "week_comments = {'Monday': 0,\n",
    "                'Tuesday': 0,\n",
    "                'Wednesday': 0,\n",
    "                'Thursday': 0,\n",
    "                'Friday': 0,\n",
    "                'Saturday': 0,\n",
    "                'Sunday': 0}"
   ]
  },
  {
   "cell_type": "code",
   "execution_count": 56,
   "metadata": {},
   "outputs": [],
   "source": [
    "def comment_day_checker(day_of_the_week):\n",
    "    \n",
    "    if day_of_the_week == 0:\n",
    "        week_comments['Monday'] += 1 \n",
    "        \n",
    "    if day_of_the_week == 1:\n",
    "        week_comments['Tuesday'] += 1\n",
    "    \n",
    "    if day_of_the_week == 2:\n",
    "        week_comments['Wednesday'] += 1\n",
    "    \n",
    "    if day_of_the_week == 3:\n",
    "        week_comments['Thursday'] += 1\n",
    "    \n",
    "    if day_of_the_week == 4:\n",
    "        week_comments['Friday'] += 1\n",
    "    \n",
    "    if day_of_the_week == 5:\n",
    "        week_comments['Saturday'] += 1\n",
    "   \n",
    "    if day_of_the_week == 6:\n",
    "        week_comments['Sunday'] += 1 "
   ]
  },
  {
   "cell_type": "code",
   "execution_count": 57,
   "metadata": {},
   "outputs": [
    {
     "data": {
      "text/plain": [
       "{'Monday': 201,\n",
       " 'Tuesday': 194,\n",
       " 'Wednesday': 238,\n",
       " 'Thursday': 414,\n",
       " 'Friday': 250,\n",
       " 'Saturday': 410,\n",
       " 'Sunday': 124}"
      ]
     },
     "execution_count": 57,
     "metadata": {},
     "output_type": "execute_result"
    }
   ],
   "source": [
    "for comment in dump_comments:\n",
    "    comment_day_checker(datetime.weekday(pd.to_datetime(comment['time'], unit='s')))\n",
    "\n",
    "week_comments"
   ]
  },
  {
   "cell_type": "code",
   "execution_count": 60,
   "metadata": {},
   "outputs": [
    {
     "data": {
      "text/plain": [
       "'Thursday'"
      ]
     },
     "execution_count": 60,
     "metadata": {},
     "output_type": "execute_result"
    }
   ],
   "source": [
    "max_day_comment = max(week_comments, key=week_comments.get)\n",
    "max_day_comment"
   ]
  },
  {
   "cell_type": "code",
   "execution_count": 61,
   "metadata": {},
   "outputs": [],
   "source": [
    "answer_part_6 = 'Thursday'"
   ]
  },
  {
   "cell_type": "markdown",
   "metadata": {},
   "source": [
    "<br>\n",
    "\n",
    "**Question 7.** How many comments does user leave on average?"
   ]
  },
  {
   "cell_type": "code",
   "execution_count": 62,
   "metadata": {},
   "outputs": [
    {
     "data": {
      "text/plain": [
       "4.755844155844156"
      ]
     },
     "execution_count": 62,
     "metadata": {},
     "output_type": "execute_result"
    }
   ],
   "source": [
    "average_comments_user = np.mean(list(users_comments.values()))\n",
    "average_comments_user"
   ]
  },
  {
   "cell_type": "code",
   "execution_count": 64,
   "metadata": {},
   "outputs": [],
   "source": [
    "answer_part_7 = 4.755844155844156"
   ]
  },
  {
   "cell_type": "markdown",
   "metadata": {},
   "source": [
    "<br>\n",
    "\n",
    "**Question 8.** What is a median comments per user?"
   ]
  },
  {
   "cell_type": "code",
   "execution_count": 66,
   "metadata": {},
   "outputs": [
    {
     "data": {
      "text/plain": [
       "2"
      ]
     },
     "execution_count": 66,
     "metadata": {},
     "output_type": "execute_result"
    }
   ],
   "source": [
    "median_comments_user = np.median(list(users_comments.values()))\n",
    "int(median_comments_user)"
   ]
  },
  {
   "cell_type": "code",
   "execution_count": 67,
   "metadata": {},
   "outputs": [],
   "source": [
    "answer_part_8 = 2"
   ]
  },
  {
   "cell_type": "markdown",
   "metadata": {},
   "source": [
    "<br>\n",
    "\n",
    "**Question 9.** What is an average number of stories per day?"
   ]
  },
  {
   "cell_type": "code",
   "execution_count": 68,
   "metadata": {},
   "outputs": [
    {
     "data": {
      "text/plain": [
       "69.57142857142857"
      ]
     },
     "execution_count": 68,
     "metadata": {},
     "output_type": "execute_result"
    }
   ],
   "source": [
    "average_number_of_stories_per_day = np.mean([value for key, value in week_stories.items()])\n",
    "average_number_of_stories_per_day"
   ]
  },
  {
   "cell_type": "code",
   "execution_count": 70,
   "metadata": {},
   "outputs": [],
   "source": [
    "answer_part_9 = 69.57142857142857"
   ]
  },
  {
   "cell_type": "markdown",
   "metadata": {},
   "source": [
    "<br>\n",
    "\n",
    "**Question 10.** How many comments per day are left on average?"
   ]
  },
  {
   "cell_type": "code",
   "execution_count": 71,
   "metadata": {},
   "outputs": [
    {
     "data": {
      "text/plain": [
       "261.57142857142856"
      ]
     },
     "execution_count": 71,
     "metadata": {},
     "output_type": "execute_result"
    }
   ],
   "source": [
    "average_number_of_comments_per_day = np.mean([value for key, value in week_comments.items()])\n",
    "average_number_of_comments_per_day"
   ]
  },
  {
   "cell_type": "code",
   "execution_count": null,
   "metadata": {},
   "outputs": [],
   "source": [
    "answer_part_10 = 261.57142857142856"
   ]
  }
 ],
 "metadata": {
  "kernelspec": {
   "display_name": "Python 3",
   "language": "python",
   "name": "python3"
  },
  "language_info": {
   "codemirror_mode": {
    "name": "ipython",
    "version": 3
   },
   "file_extension": ".py",
   "mimetype": "text/x-python",
   "name": "python",
   "nbconvert_exporter": "python",
   "pygments_lexer": "ipython3",
   "version": "3.9.12"
  }
 },
 "nbformat": 4,
 "nbformat_minor": 4
}
