{
 "cells": [
  {
   "cell_type": "markdown",
   "id": "c47c9cfb",
   "metadata": {},
   "source": [
    "# Metrics Part 1"
   ]
  },
  {
   "cell_type": "markdown",
   "id": "f83b7327",
   "metadata": {},
   "source": [
    "## Click-Through Rate (CTR) - first metric"
   ]
  },
  {
   "cell_type": "markdown",
   "id": "0cee0cea",
   "metadata": {},
   "source": [
    "\n",
    "Since the data input format is not specified in the task, we use the option to **generate random data**.\n",
    "\n",
    "- To generate a number in a given range, we use the **randint() function** and we add the from **random import randint library**.\n",
    "\n",
    "- To show how the program works, we will consider the range for **Total_Measured_Ad_Impressions (ads)** and **Total_Measured_Clicks (clicks)** **from -100 to 1000 inclusive**.\n",
    "- If negative values are generated, the program will display an error. (In case of entering data of a different type, an error will also be displayed, since the program code provides the verification of the entered data).\n",
    "\n",
    "### For the metric:\n",
    "\n",
    "- Both **variables** must be **integer and non-negative**. \n",
    "- **0** is possible when **ads have not been shown** and when there are **no clicks on ads**.\n",
    "\n",
    "\n",
    "\n",
    "### To check that the entered data are integers and positive numbers, we write a function **if_int_pos(a, b)**:\n",
    "\n",
    "\n",
    "1) **a is checked for integer**. If it is not the Flag is False. The program has ended.\n",
    "\n",
    "3) If a is an integer number, then it is checked that **a is a negative number**. If it is true, the Flag is False. The program has ended.\n",
    "\n",
    "4) If the a is an integer number and not negative, then **b is checked for integer**. If it is not, the Flag is False. The program has ended.\n",
    "\n",
    "5) If b is an integer number, then it is checked that **b is negative**. If it is true, the Flag is False. The program has ended.\n",
    "\n",
    "6) If b is an integer and non-negative number, than the Flag is True.\n",
    "\n",
    "\n",
    "- We make the **Flag a global variable** and return it at the end of the program.\n",
    "\n",
    "\n",
    "\n",
    "### Calculation of the metric:\n",
    "- We check, than the entered data is **integer and non-negativ**, using the function described above. If this is wrong, we display an error message. The program has ended.\n",
    "- We check the special case when **ads is equal to zero**, if it is true, then we display an error message. The program has ended.\n",
    "- We check the ratio of clicks to ads. If **clicks is greater than ads**, then an error message is displayed. The program has ended.\n",
    "\n",
    "**Note**: we are not considering the option when one ad can be clicked multiple times.\n",
    "\n",
    "- If clicks is less than or equal to ads, then we **calculate the metric** using the formula:\n",
    "\n",
    "**CTR = (Total Measured Clicks / Total Measured Ad Impressions) X 100**\n",
    "\n",
    "- We **print** the output the generated **data and the result**. \n",
    "- **CTR is rounded up to two decimal places**.\n",
    "\n",
    "**Note**: Since the calculation of the metric is started only if both parameters are non-negative integer numbers, there is no need to check that other data types are entered, since the error message in this case will be displayed without additional checks."
   ]
  },
  {
   "cell_type": "markdown",
   "id": "8a0b9d66",
   "metadata": {},
   "source": [
    "### Checking if two variables are an integer and a positive numbers"
   ]
  },
  {
   "cell_type": "code",
   "execution_count": 1,
   "id": "a57e12ab",
   "metadata": {},
   "outputs": [],
   "source": [
    "def if_int_pos(a, b):\n",
    "    \n",
    "    global Flag\n",
    "    \n",
    "    if isinstance(a, int) == False:\n",
    "        Flag = False\n",
    "    else:\n",
    "        if a < 0:\n",
    "            Flag = False\n",
    "        else:\n",
    "            if isinstance(b, int) == False:\n",
    "                Flag = False\n",
    "            else:\n",
    "                if b < 0:\n",
    "                    Flag = False\n",
    "                else:\n",
    "                    Flag = True\n",
    "    return Flag"
   ]
  },
  {
   "cell_type": "code",
   "execution_count": 43,
   "id": "dccbdf6a",
   "metadata": {},
   "outputs": [
    {
     "name": "stdout",
     "output_type": "stream",
     "text": [
      "Total Measured Ad Impressions = 847\n",
      "Total Measured Clicks = 576 \n",
      "\n",
      "CTR (Click Through Rate) = 68.0%"
     ]
    },
    {
     "data": {
      "text/plain": [
       "68.0"
      ]
     },
     "execution_count": 43,
     "metadata": {},
     "output_type": "execute_result"
    }
   ],
   "source": [
    "from random import randint\n",
    "import random\n",
    "\n",
    "ads = randint(-100, 1000)\n",
    "clicks = randint(-100, 1000)\n",
    "\n",
    "def CTR(ads, clicks):\n",
    "    \n",
    "    global CTR\n",
    "    \n",
    "    print('Total Measured Ad Impressions =', ads)\n",
    "    print('Total Measured Clicks =', clicks, '\\n')\n",
    "    \n",
    "    if if_int_pos(ads, clicks) == False:\n",
    "        print('Input error')\n",
    "        \n",
    "    else:\n",
    "        if ads == 0:\n",
    "            print('ERROR - An ad was loaded on a page')\n",
    "        \n",
    "        else:\n",
    "            if clicks > ads:\n",
    "                print('Total Measured Clicks cannot be bigger than Total Measured Ad Impressions')\n",
    "                        \n",
    "            else:  \n",
    "                CTR = round((clicks / ads) * 100, 2)\n",
    "                print('CTR (Click Through Rate) =', CTR, end='%')\n",
    "                            \n",
    "                return CTR\n",
    "\n",
    "CTR(ads, clicks)"
   ]
  },
  {
   "cell_type": "markdown",
   "id": "27cb6cba",
   "metadata": {},
   "source": [
    "## Return on Investment (ROI) - second metric"
   ]
  },
  {
   "cell_type": "markdown",
   "id": "92e0b910",
   "metadata": {},
   "source": [
    "Similarly to the previous metric, we **generate the input data at random**.\n",
    "- To show how the program works, for variables, let's take **float numbers** in a range **from -100 to 1000 inclusive** and **limit them to two decimal places**.\n",
    "- To generate the data we use the function **random.uniform()**.\n",
    "- If negative values are generated, the program will display an error. (In case of entering data of a different type, an error will also be displayed, since the program code provides the verification of the entered data).\n",
    "\n",
    "\n",
    "### For the metric:\n",
    "Since we are working with monetary calculations, all the data should be **float** and **non-negative**.\n",
    "\n",
    "### To check that the entered data are float and positive numbers, we write a function **if_float_pos(a, b)**.\n",
    "\n",
    "\n",
    "1) **a is checked for float**. If it is not the Flag is False. The program has ended.\n",
    "\n",
    "3) If a is an float number, then it is checked that **a is a negative number**. If it is true, the Flag is False. The program has ended.\n",
    "\n",
    "4) If the a is an float number and not negative, then **b is checked for float**. If it is not, the Flag is False. The program has ended.\n",
    "\n",
    "5) If b is an float number, then it is checked that **b is negative**. If it is true, the Flag is False. The program has ended.\n",
    "\n",
    "6) If b is an float and non-negative number, than the Flag is True.\n",
    "\n",
    "\n",
    "- We make the **Flag a global variable** and return it at the end of the program.\n",
    "\n",
    "\n",
    "### Calculation of the metric:\n",
    "- We check, than the entered data is **float and non-negativ**, using the function described above. If this is wrong, we display an error message. The program has ended.\n",
    "- We check the special case when **spent (Amount Spent) is equal to zero**, if it is true, then we display an error message. The program has ended.\n",
    "- If it is not, to calculate the metric we use the formula:\n",
    "\n",
    "**ROI = (Amount Gained - Amount Spent) / Amount Spent**\n",
    "\n",
    "- We **print** the output the generated **data and the result**. \n",
    "- Additionally, we indicate whether advertising revenue has been generated or not.\n",
    "- **ROI is rounded up to two decimal places**.\n"
   ]
  },
  {
   "cell_type": "markdown",
   "id": "bf611bfb",
   "metadata": {},
   "source": [
    "### Checking if two variables are an float and a positive numbers"
   ]
  },
  {
   "cell_type": "code",
   "execution_count": 5,
   "id": "06b3c87e",
   "metadata": {},
   "outputs": [],
   "source": [
    "def if_float_pos(a, b):\n",
    "    \n",
    "    global Flag\n",
    "    \n",
    "    if isinstance(a, float) == False:\n",
    "        Flag = False\n",
    "    else:\n",
    "        if a < 0:\n",
    "            Flag = False\n",
    "        else:\n",
    "            if isinstance(b, float) == False:\n",
    "                Flag = False\n",
    "            else:\n",
    "                if b < 0:\n",
    "                    Flag = False\n",
    "                else:\n",
    "                    Flag = True\n",
    "    return Flag"
   ]
  },
  {
   "cell_type": "code",
   "execution_count": 40,
   "id": "10245e9a",
   "metadata": {},
   "outputs": [
    {
     "name": "stdout",
     "output_type": "stream",
     "text": [
      "Amount Spent = 105.57\n",
      "Amount Gained = 643.31 \n",
      "\n",
      "Ad revenue was received \n",
      "\n",
      "ROI (Return on Investment) = 509.37%"
     ]
    },
    {
     "data": {
      "text/plain": [
       "509.37"
      ]
     },
     "execution_count": 40,
     "metadata": {},
     "output_type": "execute_result"
    }
   ],
   "source": [
    "spent = round(random.uniform(-100, 1000), 2)\n",
    "gained = round(random.uniform(-100, 1000), 2)\n",
    "    \n",
    "    \n",
    "def ROI(spent, gained):\n",
    "    \n",
    "    global ROI\n",
    "\n",
    "    print('Amount Spent =', spent)\n",
    "    print('Amount Gained =', gained, '\\n')\n",
    "    \n",
    "    if if_float_pos(spent, gained) == False:\n",
    "        print('Input error')\n",
    "        \n",
    "    else:\n",
    "        if spent == 0:\n",
    "            print('ERROR - The amount was not spent')\n",
    "        \n",
    "        else:\n",
    "            ROI = round(((gained - spent) / spent) * 100, 2)\n",
    "        \n",
    "            if gained <= spent:\n",
    "                print('NO ad revenue received', '\\n')\n",
    "            else:\n",
    "                print('Ad revenue was received', '\\n')\n",
    "            \n",
    "            print('ROI (Return on Investment) =', ROI, end = '%')\n",
    "                \n",
    "        return ROI\n",
    "\n",
    "ROI(spent, gained)"
   ]
  },
  {
   "cell_type": "markdown",
   "id": "b5a8d859",
   "metadata": {},
   "source": [
    "## Average Page Time - third metric"
   ]
  },
  {
   "cell_type": "markdown",
   "id": "7d4d098b",
   "metadata": {},
   "source": [
    "Let's generate data for calculating the metric.\n",
    "- **Number_of_Users (num_user)** define in the range **from -100 to 100 inclusive**. (Negative values are taken for easy testing of the program code and understanding that in case of such input, the program generates an error. If we enter data of a different type, error messages are also displayed, since there is data validation in the program code).\n",
    "-- **0** is the case if **users have not visited the page**.\n",
    "- For **Time_Spent_on_a_Page (time)**, we generate a list in the range **from 0 to 600 seconds** (maximum 10 minutes)).\n",
    "\n",
    "### Input validation:\n",
    "- The program works with two variables.\n",
    "- **num_users** - the number of users who visited the site\n",
    "- **time** - a list of data on the time each user visited the site in seconds.\n",
    "- Therefore, the first **variable** and all elements of the list must be only **integer** and **non-negative**.\n",
    "\n",
    "We have already extended this check above in other metrics. Let's change a little the function to fit our code. Let's write two functions, one (**if_int_pos_one()**) checks the number is integer and non-negativ, the second (**if_list_int_pos()**) checks if all elements of the list are integer and non-negativ. The verification algorithm is similar to the previous ones; the function code is provided below.\n",
    "\n",
    "### Calculation of the metric:\n",
    "- We check that the entered data is **integer** and **non-negative**.\n",
    "- We check that **the number of users matches the size of the list**.\n",
    "- If the conditions are not met, then **an error message** is displayed. The program has ended.\n",
    "- Otherwise, we create a new list and add elements from the first list to it **according to the condition that visits with a duration of less than 5 seconds are not counted**.\n",
    "- We **display information** about the new list (this is implemented for clarity and easy verification of the program code, since the data is generated automatically).\n",
    "- We check if **the size of the new list is zero**, then display an error message.\n",
    "- Otherwise, in the variable **sum_time**, we summarize all the time that users have spent on the site.\n",
    "- To calculate the metric we use the formula:\n",
    "\n",
    "**Average Page Time = Sum Time Spent on a Page / Number of Users**\n",
    "\n",
    "\n",
    "- Average Page Time (APT) is **rounded to two decimal places**.\n",
    "- Additionally, we display the value of the parameter in **minutes and seconds**."
   ]
  },
  {
   "cell_type": "markdown",
   "id": "a7bd9eae",
   "metadata": {},
   "source": [
    "### Checking if a variable is an integer and a positive number"
   ]
  },
  {
   "cell_type": "code",
   "execution_count": 12,
   "id": "5c3499f8",
   "metadata": {},
   "outputs": [],
   "source": [
    "def if_int_pos_one(a):\n",
    "    \n",
    "    global Flag\n",
    "    \n",
    "    if isinstance(a, int) == False:\n",
    "        Flag = False\n",
    "    else:\n",
    "        if a < 0:\n",
    "            Flag = False\n",
    "        else:\n",
    "            Flag = True\n",
    "    \n",
    "    return Flag"
   ]
  },
  {
   "cell_type": "markdown",
   "id": "cc998040",
   "metadata": {},
   "source": [
    "### Checking if all variables in the list are integer and positive numbers"
   ]
  },
  {
   "cell_type": "code",
   "execution_count": 13,
   "id": "8d92ca04",
   "metadata": {},
   "outputs": [],
   "source": [
    "def if_list_int_pos(a):\n",
    "    \n",
    "    global Flag\n",
    "    \n",
    "    count = 0\n",
    "    \n",
    "    for i in a:\n",
    "        if isinstance(i, int) == True and i >= 0:\n",
    "            count += 1\n",
    "    \n",
    "    if count == len(a):\n",
    "        Flag = True\n",
    "   \n",
    "    else:\n",
    "        Flag = False\n",
    "    \n",
    "    return Flag"
   ]
  },
  {
   "cell_type": "code",
   "execution_count": 79,
   "id": "1f3eb897",
   "metadata": {},
   "outputs": [
    {
     "name": "stdout",
     "output_type": "stream",
     "text": [
      "Number of Users = 39\n",
      "Time Spent on a Page:  [570, 79, 211, 38, 228, 512, 436, 234, 450, 124, 489, 575, 33, 460, 133, 339, 83, 144, 526, 301, 269, 1, 111, 150, 352, 52, 585, 240, 406, 373, 148, 327, 599, 251, 341, 191, 154, 543, 524] \n",
      "\n",
      "Number of Users (>5)=  38\n",
      "Time Spent on a Page (>5):  [570, 79, 211, 38, 228, 512, 436, 234, 450, 124, 489, 575, 33, 460, 133, 339, 83, 144, 526, 301, 269, 111, 150, 352, 52, 585, 240, 406, 373, 148, 327, 599, 251, 341, 191, 154, 543, 524] \n",
      "\n",
      "APT (Average Page Time) = 304.76 seconds or ~ 5 min 4 seconds\n"
     ]
    },
    {
     "data": {
      "text/plain": [
       "304.76"
      ]
     },
     "execution_count": 79,
     "metadata": {},
     "output_type": "execute_result"
    }
   ],
   "source": [
    "num_users = randint(-100, 100)\n",
    "\n",
    "time = []\n",
    "\n",
    "for i in range(num_users):\n",
    "    time.append(random.randrange(600))\n",
    "    \n",
    "\n",
    "def APT(num_users, time):\n",
    "    \n",
    "    global APT\n",
    "    \n",
    "    print('Number of Users =', num_users)\n",
    "    print('Time Spent on a Page: ', time, '\\n')\n",
    "    \n",
    "    if if_int_pos_one(num_users) == False or num_users != len(time) or if_list_int_pos(time) == False:\n",
    "        print('Input error')\n",
    "        \n",
    "    else:\n",
    "        \n",
    "        time2 = []\n",
    "        \n",
    "        for i in range(num_users):\n",
    "            if time[i] >= 5:\n",
    "                time2.append(time[i])\n",
    "                \n",
    "        num_users2 = len(time2)\n",
    "        \n",
    "        print('Number of Users (>5)= ', num_users2)\n",
    "        print('Time Spent on a Page (>5): ', time2, '\\n')\n",
    "                                               \n",
    "        if num_users2 == 0:\n",
    "            print('ERROR - there were no users on the page')\n",
    "                            \n",
    "        else:\n",
    "            sum_time = 0\n",
    "            \n",
    "            for i in range(num_users2):\n",
    "                sum_time += time2[i]\n",
    "            \n",
    "            APT = round(sum_time / num_users2, 2)\n",
    "            print(f'APT (Average Page Time) = {APT} seconds or ~ {int(APT//60)} min {int(APT%60)} seconds')\n",
    "            \n",
    "            return APT\n",
    "\n",
    "APT(num_users, time)"
   ]
  },
  {
   "cell_type": "markdown",
   "id": "fcd5e094",
   "metadata": {},
   "source": [
    "## Customer Lifetime Value (CLV) - fourth metric"
   ]
  },
  {
   "cell_type": "markdown",
   "id": "a862cfb0",
   "metadata": {},
   "source": [
    "**The input data is defined in the program code** (the values are taken from the example from the metric description).\n",
    "\n",
    "Metric calculation:\n",
    "- All variables must be **non-negative**. \n",
    "- **revenue** and **lifespan** can be **float or integer**, **customer** and **purcases** should be **integer**. We perform the checking using the previously written functions. Also, we add one function **if_float_pos_one()** to check a single number, if it is a float and non-negative. If this is not done, the program ends. (This check also excludes other input formats).\n",
    "- Otherwise, there is a check that **none of the entered values are equal to zero**, since in this case the calculation of the metric is impossible or does not make sense.\n",
    "\n",
    "If all conditions are met, then we calculate the metric using the formulas:\n",
    "\n",
    "**Average Purchase Value = Total Revenue / Total Purchases**\n",
    "\n",
    "**Average Purchase Frequency = Total Purchases / Unique Customer**\n",
    "\n",
    "**CLV = (Average Purchase Value - Average Purchase Frequency) * Average Customer Lifespan**\n",
    "\n",
    "\n",
    "- CLV is rounded to two decimal places.\n",
    "\n",
    "- The calculation data is displayed."
   ]
  },
  {
   "cell_type": "markdown",
   "id": "eb16495a",
   "metadata": {},
   "source": [
    "### Checking if a variable is a float and a positive number"
   ]
  },
  {
   "cell_type": "code",
   "execution_count": 29,
   "id": "06dcdb72",
   "metadata": {},
   "outputs": [],
   "source": [
    "def if_float_pos_one(a):\n",
    "    \n",
    "    global Flag\n",
    "    \n",
    "    if isinstance(a, float) == False:\n",
    "        Flag = False\n",
    "    else:\n",
    "        if a < 0:\n",
    "            Flag = False\n",
    "        else:\n",
    "            Flag = True\n",
    "    \n",
    "    return Flag"
   ]
  },
  {
   "cell_type": "code",
   "execution_count": 80,
   "id": "d8a8a3c0",
   "metadata": {},
   "outputs": [
    {
     "name": "stdout",
     "output_type": "stream",
     "text": [
      "Total Revenue = 100000\n",
      "Unique Customer = 400\n",
      "Total Purchases = 500\n",
      "Average Customer Lifespan = 10 \n",
      "\n",
      "CLV (Customer Lifetime Value) = 1987.5\n"
     ]
    },
    {
     "data": {
      "text/plain": [
       "1987.5"
      ]
     },
     "execution_count": 80,
     "metadata": {},
     "output_type": "execute_result"
    }
   ],
   "source": [
    "revenue = 100000\n",
    "customer = 400\n",
    "purchases = 500\n",
    "lifespan = 10\n",
    "\n",
    "def CLV(revenue, customer, purchases, lifespan):\n",
    "    \n",
    "    global CLV\n",
    "\n",
    "    print('Total Revenue =', revenue)\n",
    "    print('Unique Customer =', customer)\n",
    "    print('Total Purchases =', purchases)\n",
    "    print('Average Customer Lifespan =', lifespan, '\\n')\n",
    "    \n",
    "    if (if_float_pos_one(revenue) == True \n",
    "        or if_int_pos_one(revenue) == True \n",
    "        and if_float_pos_one(lifespan) == True \n",
    "        or if_int_pos_one(lifespan) == True \n",
    "        and if_int_pos(customer, purchases) == True):\n",
    "        \n",
    "        if revenue == 0 or customer == 0 or purchases == 0 or lifespan == 0:       \n",
    "            print('CLV cannot be calculated')\n",
    "        \n",
    "        else:\n",
    "        \n",
    "            value = revenue / purchases #200\n",
    "            frequency = purchases / customer #1.25\n",
    "        \n",
    "            CLV = round((value - frequency) * lifespan, 2) #1,987.50\n",
    "            print('CLV (Customer Lifetime Value) =', CLV)\n",
    "    \n",
    "            return CLV\n",
    "    \n",
    "    else:\n",
    "        print('Input error')\n",
    "\n",
    "CLV(revenue, customer, purchases, lifespan)"
   ]
  },
  {
   "cell_type": "markdown",
   "id": "f74b9505",
   "metadata": {},
   "source": [
    "## Conversion Rate (CR) - fifth metric"
   ]
  },
  {
   "cell_type": "markdown",
   "id": "a5fc8749",
   "metadata": {},
   "source": [
    "### Input data:\n",
    "- The function **asks for data entry**.\n",
    "- A number of **int** type is requested.\n",
    "- Next comes the check that the number is **non-negative**.\n",
    "- If the entry is incorrect, the program asks to **re-enter**.\n",
    "\n",
    "### Metric calculation:\n",
    "- If Input Total Measured Clicks (**click**) is **zero**, then **an error message** is displayed.\n",
    "- The ratio of Total Attributed Conversion (conversion) and Total Measured Clicks (clicks) is compared, **conversion cannot be more than clicks**.\n",
    "\n",
    "To calculate the metric itself, we use the formula:\n",
    "\n",
    "**Conversion_Rate (CR) = (Total Attributed Conversion / Total Measured Clicks) X 100)**\n",
    "\n",
    "- The data and the received result are displayed. \n",
    "- For CR, the output goes up to **two decimal places**."
   ]
  },
  {
   "cell_type": "code",
   "execution_count": 81,
   "id": "f5a53bee",
   "metadata": {},
   "outputs": [
    {
     "name": "stdout",
     "output_type": "stream",
     "text": [
      "Input Total Measured Clicks: 1000\n",
      "Total Attributed Conversion: 345\n",
      "\n",
      " CR (Conversion Rate) = 34.5%"
     ]
    },
    {
     "data": {
      "text/plain": [
       "34.5"
      ]
     },
     "execution_count": 81,
     "metadata": {},
     "output_type": "execute_result"
    }
   ],
   "source": [
    "def CR():\n",
    "    \n",
    "    global CR\n",
    "\n",
    "    while True:\n",
    "        try:\n",
    "            clicks = int(input('Input Total Measured Clicks: '))\n",
    "            \n",
    "            if clicks >= 0:\n",
    "                break\n",
    "                \n",
    "        except ValueError:\n",
    "            print('Incorrect data entry.')\n",
    "\n",
    "    if clicks == 0:\n",
    "        print('ERROR - no ad clicks')\n",
    "   \n",
    "    else:\n",
    "        while True:\n",
    "            try:\n",
    "                conversion = int(input('Total Attributed Conversion: '))\n",
    "                \n",
    "                if conversion >= 0:\n",
    "                    break\n",
    "            \n",
    "            except ValueError:\n",
    "                print('Incorrect data entry.')\n",
    "\n",
    "        if conversion > clicks:\n",
    "            print('Total Attributed Conversion cannot be greater than Total Measured Clicks')\n",
    "        \n",
    "        else:\n",
    "            \n",
    "            CR = round((conversion / clicks) * 100, 2)\n",
    "            print('\\n', 'CR (Conversion Rate) =', CR, end = '%')\n",
    "            \n",
    "            return CR\n",
    "\n",
    "CR()"
   ]
  },
  {
   "cell_type": "markdown",
   "id": "06f02496",
   "metadata": {},
   "source": [
    "# Extra mertics Part 2"
   ]
  },
  {
   "cell_type": "markdown",
   "id": "470742fd",
   "metadata": {},
   "source": [
    "## Metric one - Customer attrition"
   ]
  },
  {
   "cell_type": "markdown",
   "id": "67e5673b",
   "metadata": {},
   "source": [
    "It's important to have your customer base and grow it. The **Customer Attrition** is responsible for the loss of customers. That is, over time, customers can leave, so it is important to track how quickly they do it in order to be able to adjust their marketing moves to retain old customers and conduct promotions to attract new ones. To find out the amount of customer loss, we need to **divide the number of customers lost over a certain period of time by the total number of customers multiplied by one hundred**.\n",
    "\n",
    "### **An example**:\n",
    "A business has **1000** customers **at the start** of a month and **by the end** of the month, the number has dwindled to **700**.\n",
    "\n",
    "**Number of customers** that are **lost** at the end of the period (Churn) = 1000 - 700 = **300**.\n",
    "\n",
    "**Number of customers at the beginning** of the period = **1000**.\n",
    "\n",
    "**Customer Attrition Rate** = 300 / 1000 = 0.3 = 30%\n",
    "\n",
    "So this business had a Customer attrition rate of 30% by the end of the month.\n",
    "\n",
    "\n",
    "### The metric calculation\n",
    "- We generate data for the considered period (**start** and **end**) in the range **from 0 to 1000 inclusive***.\n",
    "- In the general case of data entry, we **check the values of variables for integer and non-negativity**.\n",
    "- If **start** is **zero**, then an **error message** is displayed.\n",
    "\n",
    "If all conditions are met, then the metric is calculated by the formula:\n",
    "\n",
    "**Customer Attrition (CA) = ((Total Customer Start - Total Customer End) / Total Customer Start) x 100**\n",
    "\n",
    "\n",
    "- Additionally, messages are displayed whether **customers were lost or not**, which helps to better understand the content of the metric, since the metric can take both negative and positive values.\n",
    "\n",
    "- The data and the received result are displayed. \n",
    "- For CA, the output goes up to **two decimal places**."
   ]
  },
  {
   "cell_type": "code",
   "execution_count": 82,
   "id": "cd30de79",
   "metadata": {},
   "outputs": [
    {
     "name": "stdout",
     "output_type": "stream",
     "text": [
      "Total Customer Start = 694\n",
      "Total Customer End = 586 \n",
      "\n",
      "We lost some clients\n",
      "\n",
      " CA (Customer Attrition) = 15.56%"
     ]
    },
    {
     "data": {
      "text/plain": [
       "15.56"
      ]
     },
     "execution_count": 82,
     "metadata": {},
     "output_type": "execute_result"
    }
   ],
   "source": [
    "start  = randint(0, 1000)\n",
    "end = randint(0, 1000)\n",
    "\n",
    "def CA(start, end):\n",
    "    \n",
    "    global CA\n",
    "\n",
    "    print('Total Customer Start =', start)\n",
    "    print('Total Customer End =', end, '\\n')\n",
    "    \n",
    "    if if_int_pos_one(start) == if_int_pos_one(end) == True:\n",
    "        \n",
    "        if start == 0:\n",
    "            print('CA cannot be calculated')\n",
    "            \n",
    "        else:\n",
    "\n",
    "            lost = start - end\n",
    "\n",
    "            if lost > 0:\n",
    "                print('We lost some clients')\n",
    "            elif lost == 0:\n",
    "                print('No changes')\n",
    "            else:\n",
    "                print('We got some clients')\n",
    "\n",
    "            CA = round((lost / start) * 100, 2)\n",
    "            print('\\n', 'CA (Customer Attrition) =', CA, end='%')\n",
    "           \n",
    "            return CA\n",
    "    \n",
    "    else:\n",
    "        print('Input error')\n",
    "\n",
    "CA(start, end)"
   ]
  },
  {
   "cell_type": "markdown",
   "id": "e8937df9",
   "metadata": {},
   "source": [
    "## Metric two - Customer Acquisition Cost (CAC)"
   ]
  },
  {
   "cell_type": "markdown",
   "id": "f8a2e901",
   "metadata": {},
   "source": [
    "To develop a base of customers that make a profit, it is important to understand how much money needs to be invested in creating this base. Thus, it is important to know **how much it costs to acquire a new customer**. The **Customer Acquisition Cost (CAC)** metric just looks at how much it costs to get one new paying customer. **It is measured as: Campaign costs / Number of new customers**.\n",
    "\n",
    "### An Example:\n",
    "If an organization **spent 1,000£** on marketing in a year, and it was able to acquire **500 new customers**, the **CAC would be 2£** because 1,000£ divided by 500 customers equals 2£ per customer.\n",
    "\n",
    "### The metric calculation:\n",
    "\n",
    "- We generate data for the **Campaign costs** and **Number of new customers** in the range **from 0 to 1000 inclusive**.\n",
    "- In the general case of data entry, we **check the values of variables for integer and non-negativity**.\n",
    "- **cost can be float**, so we take this into account in the condition.\n",
    "- If **cost is zero**, then an error message is displayed.\n",
    "- If **new_customes is zero**, then an error message is displayed.\n",
    "\n",
    "If all conditions are met, then the metric is calculated by the formula:\n",
    "\n",
    "**Customer Acquisition Cost (CAC) = Campaign costs / Number of new customers**\n",
    "\n",
    "- The data and the received result are displayed.\n",
    "\n",
    "- For CAC, the output goes up to two decimal places.\n"
   ]
  },
  {
   "cell_type": "code",
   "execution_count": 83,
   "id": "03a102c5",
   "metadata": {},
   "outputs": [
    {
     "name": "stdout",
     "output_type": "stream",
     "text": [
      "Campaign costs = 697\n",
      "Number of new customers = 958 \n",
      "\n",
      "CAC (Customer Acquisition Cost) = 0.73\n"
     ]
    },
    {
     "data": {
      "text/plain": [
       "0.73"
      ]
     },
     "execution_count": 83,
     "metadata": {},
     "output_type": "execute_result"
    }
   ],
   "source": [
    "cost  = randint(0, 1000)\n",
    "new_customer = randint(0, 1000)\n",
    "\n",
    "def CAC(cost, new_customer):\n",
    "    \n",
    "    global CAC\n",
    "    \n",
    "    print('Campaign costs =', cost)\n",
    "    print('Number of new customers =', new_customer, '\\n')\n",
    "\n",
    "    if (if_int_pos_one(cost) == True or if_float_pos_one(cost) == True \n",
    "        and if_int_pos_one(new_customer)) == True:\n",
    "    \n",
    "        if cost == 0:\n",
    "            print('No campaign cost were given')\n",
    "        elif new_customer == 0:\n",
    "            print('No new clients received')\n",
    "        else:\n",
    "            CAC = round(cost / new_customer, 2)\n",
    "            print('CAC (Customer Acquisition Cost) =', CAC)\n",
    "        \n",
    "            return CAC\n",
    "    else:\n",
    "        print('Input error')\n",
    "\n",
    "CAC(cost, new_customer)"
   ]
  },
  {
   "cell_type": "markdown",
   "id": "35233653",
   "metadata": {},
   "source": [
    "## Metric three - Reach"
   ]
  },
  {
   "cell_type": "markdown",
   "id": "b0fb5c59",
   "metadata": {},
   "source": [
    "**Reach** is the number of people who see the content.\n",
    "\n",
    "This parameter is important to take into account when we need to know **how many unique users interacted**, for example, with an advertising campaign, then this can be used in predicting buying activity and adjusting logistics, for example.\n",
    "\n",
    "In this variation of the program, we will **distinguish unique users by the IP address**.\n",
    "\n",
    "### An example:\n",
    "We have 5 visits to the site. Visitors' addresses are listed below.\n",
    "- 192.168.15.01\n",
    "- 192.168.113.43\n",
    "- 192.168.15.01\n",
    "- 192.168.154.09\n",
    "- 192.168.15.01\n",
    "\n",
    "**In total**, we have **5 visits**. If we look at the addresses, we will notice that one client (192.168.15.01) was on the website three times. That is, there are **only 3 unique clients**.\n",
    "\n",
    "### The metric calculation\n",
    "It is assumed that there is a **record of the visit to the site**, where information about the IP address is recorded.\n",
    "\n",
    "### Input data\n",
    "- To calculate the parameter, let's create a **list of IP addresses**.\n",
    "- Let's create a **function for creating IP addresses**, where the **size of the list is determined randomly** in the range **from 0 to 10000 inclusive**.\n",
    "- We **narrow the IP address to the local network**, i.e. IP address looks like **192.168.x.x.**, where x is a number in the range **from 0 to 255 inclusive**.\n",
    "- We write the created addresses into the created **text file**.\n",
    "\n",
    "The file is created. Now we have data to work with. **This part is done only for data availability for testing**.\n",
    "\n",
    "That is, now we have an initial situation: **there is a text file with data and it needs to be analyzed**.\n",
    "- We read the data from the file into the list.\n",
    "- We will transfer this list to functions for processing.\n",
    "\n",
    "### Calculation of the metriс:\n",
    "- It is necessary to **check the input data** for the function.\n",
    "- Let's write an auxiliary function for checking the IP address - **validate_ip()** (we use the program code from the previously completed assignment of the course).\n",
    "- We use this function to check the list of IP addresses.\n",
    "- We **increase the value of the counter**, if the item in the list in question is an address.\n",
    "- We **compare the value of the final count with the length of the list**, if the values do not match, then we display an error message.\n",
    "- Otherwise, we **add unique elements from the first list into the newly created list**.\n",
    "- Our **desired metric is the size of this list**.\n",
    "\n",
    "- At the and we are displaying the size of the two created lists.\n",
    "\n",
    "**Note**: The restrictions for the IP address are large, so that in the situation of random data generation, there were repetitions and the result of the function was visible."
   ]
  },
  {
   "cell_type": "markdown",
   "id": "c678e746",
   "metadata": {},
   "source": [
    "### Creating .TXT file with a list of IP addresses (limited by the size of a small subnet)"
   ]
  },
  {
   "cell_type": "code",
   "execution_count": 84,
   "id": "fe06fb25",
   "metadata": {},
   "outputs": [],
   "source": [
    "n = randint(0, 10000)\n",
    "\n",
    "def user_ip_list(n):\n",
    "    \n",
    "    if isinstance(n, int) == True and n >= 0:\n",
    "\n",
    "        ip_list = open('ip_list.txt', 'w')\n",
    "\n",
    "        user_ip = []\n",
    "        for i in range(0,n):\n",
    "            ip = \"192.168.\"\n",
    "            ip += \".\".join(map(str, (random.randint(0, 255) for _ in range(2))))\n",
    "            user_ip.append(ip)\n",
    "\n",
    "        for element in user_ip:\n",
    "            ip_list.write(element)\n",
    "            ip_list.write('\\n')\n",
    "        ip_list.close()\n",
    "    \n",
    "user_ip_list(n)"
   ]
  },
  {
   "cell_type": "markdown",
   "id": "b3794796",
   "metadata": {},
   "source": [
    "### Validate IP function"
   ]
  },
  {
   "cell_type": "code",
   "execution_count": 85,
   "id": "2cc1666b",
   "metadata": {},
   "outputs": [],
   "source": [
    "def validate_ip(ip):\n",
    "    \n",
    "    global Flag2\n",
    "    \n",
    "    a = ip.split('.')\n",
    "    \n",
    "    if len(a) != 4:\n",
    "        Flag2 = False\n",
    "    else:\n",
    "        for x in a:\n",
    "            if not x.isdigit():\n",
    "                Flag2 = False\n",
    "            else:\n",
    "                i = int(x)\n",
    "                if i < 0 or i > 255:\n",
    "                    Flag2 = False\n",
    "                else:\n",
    "                    Flag2 = True\n",
    "    return Flag2"
   ]
  },
  {
   "cell_type": "markdown",
   "id": "df5de013",
   "metadata": {},
   "source": [
    "### Metric"
   ]
  },
  {
   "cell_type": "code",
   "execution_count": 86,
   "id": "3dda3749",
   "metadata": {},
   "outputs": [
    {
     "name": "stdout",
     "output_type": "stream",
     "text": [
      "Total Number Of Reviews = 9344 \n",
      "\n",
      "Reach (Total Number Of Unique Customer) = 8719\n"
     ]
    },
    {
     "data": {
      "text/plain": [
       "8719"
      ]
     },
     "execution_count": 86,
     "metadata": {},
     "output_type": "execute_result"
    }
   ],
   "source": [
    "not_unique = []\n",
    "\n",
    "with open('ip_list.txt') as file:\n",
    "    not_unique = [row.strip() for row in file]\n",
    "\n",
    "def reach(not_unique):\n",
    "    \n",
    "    global reach\n",
    "    \n",
    "    count = 0\n",
    "    \n",
    "    for i in not_unique:\n",
    "        if validate_ip(i) == True:\n",
    "            count += 1\n",
    "    if count != len(not_unique):\n",
    "        print('Input error')\n",
    "    else:            \n",
    "\n",
    "        num_reviews = len(not_unique)\n",
    "        print('Total Number Of Reviews =', num_reviews, '\\n')\n",
    "\n",
    "        unique_list = []\n",
    "\n",
    "        for i in not_unique:\n",
    "            if i not in unique_list:\n",
    "                unique_list.append(i)\n",
    "\n",
    "        reach = len(unique_list)\n",
    "        print('Reach (Total Number Of Unique Customer) =', reach)\n",
    "    \n",
    "        return reach\n",
    "\n",
    "reach(not_unique)"
   ]
  },
  {
   "cell_type": "code",
   "execution_count": null,
   "id": "1aad309a",
   "metadata": {},
   "outputs": [],
   "source": []
  },
  {
   "cell_type": "code",
   "execution_count": null,
   "id": "e2ec85da",
   "metadata": {},
   "outputs": [],
   "source": []
  }
 ],
 "metadata": {
  "kernelspec": {
   "display_name": "Python 3",
   "language": "python",
   "name": "python3"
  },
  "language_info": {
   "codemirror_mode": {
    "name": "ipython",
    "version": 3
   },
   "file_extension": ".py",
   "mimetype": "text/x-python",
   "name": "python",
   "nbconvert_exporter": "python",
   "pygments_lexer": "ipython3",
   "version": "3.8.8"
  }
 },
 "nbformat": 4,
 "nbformat_minor": 5
}
