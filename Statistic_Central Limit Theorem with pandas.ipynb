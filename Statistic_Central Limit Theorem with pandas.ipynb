{
 "cells": [
  {
   "cell_type": "markdown",
   "id": "392518d7",
   "metadata": {
    "deletable": false,
    "editable": false,
    "nbgrader": {
     "cell_type": "markdown",
     "checksum": "6cf733c3bbd19911b4e7e1b0b5afce6d",
     "grade": false,
     "grade_id": "cell-a0d4fd0213cd5800",
     "locked": true,
     "schema_version": 3,
     "solution": false,
     "task": false
    }
   },
   "source": [
    "# Statistics basics\n",
    "## Central Limit Theorem with pandas"
   ]
  },
  {
   "cell_type": "markdown",
   "id": "4ecfa1e6",
   "metadata": {
    "deletable": false,
    "editable": false,
    "nbgrader": {
     "cell_type": "markdown",
     "checksum": "65aa883f1874ec43af3c454ddaf05bb1",
     "grade": false,
     "grade_id": "cell-d8419e0f309114c8",
     "locked": true,
     "schema_version": 3,
     "solution": false,
     "task": false
    }
   },
   "source": [
    "Let us recall Central Limit Theorem. It says the following. Let $(x_1, \\ldots, x_n)$ be an i.i.d. sample from some random variable $X$ with finite variance. Then sample mean $\\bar x$ is distributed approximately with normal law. More exact, let us consider z-score:\n",
    "\n",
    "$$z=\\frac{\\bar x - \\mathbb EX}{\\mathop{\\mathrm{SD}}(X)}\\sqrt{n}$$\n",
    "\n",
    "As one can see, z-score is shifted and rescaled version of $\\bar x$. In the numerator, we shift $\\bar x$ by $\\mathbb EX$ to achieve zero expected value. After that we divide it by standard error of mean $\\mathop{\\mathrm{SD}}(X)/\\sqrt{n}$, which is standard deviation of sample average.\n",
    "\n",
    "Theorem says that the distribution of z-score tends to the standard normal distribution.\n",
    "\n",
    "We already made simulations that illustrate this theorem in the course of Probability. But now we can do it more effectively thanks to pandas."
   ]
  },
  {
   "cell_type": "markdown",
   "id": "05c292c8",
   "metadata": {
    "deletable": false,
    "editable": false,
    "nbgrader": {
     "cell_type": "markdown",
     "checksum": "e6d0164374102d7278c878a0bd847473",
     "grade": false,
     "grade_id": "cell-d135539fd5b39c5a",
     "locked": true,
     "schema_version": 3,
     "solution": false,
     "task": false
    }
   },
   "source": [
    "## The old way\n",
    "Let us recall how we did our simulations previously."
   ]
  },
  {
   "cell_type": "code",
   "execution_count": 1,
   "id": "b051c2d3",
   "metadata": {},
   "outputs": [],
   "source": [
    "import numpy as np\n",
    "import matplotlib.pyplot as plt\n",
    "import scipy.stats\n",
    "import pandas as pd\n",
    "\n",
    "%matplotlib inline"
   ]
  },
  {
   "cell_type": "code",
   "execution_count": 2,
   "id": "52c5d0a4",
   "metadata": {},
   "outputs": [
    {
     "data": {
      "image/png": "[encoded data removed]",
      "text/plain": [
       "<Figure size 432x288 with 1 Axes>"
      ]
     },
     "metadata": {
      "needs_background": "light"
     },
     "output_type": "display_data"
    }
   ],
   "source": [
    "def the_old_way(number_of_samples, sample_size, plot=True):\n",
    "\n",
    "    means = []\n",
    "    zscores = []\n",
    "\n",
    "    EX = 0.5\n",
    "    VarX = 1. / 12\n",
    "    # Expected value and variance of our initial distribution\n",
    "    # Now use are using uniform distribution\n",
    "\n",
    "    for i in range(number_of_samples):\n",
    "        sample = np.random.uniform(low=0, high=1, \n",
    "                                   size=sample_size)\n",
    "        # create new sample\n",
    "\n",
    "        mean = sum(sample) / len(sample)\n",
    "        # find its mean\n",
    "\n",
    "        zscore = (mean - EX) * np.sqrt(sample_size) / np.sqrt(VarX)\n",
    "        # find its z-score\n",
    "\n",
    "        means.append(mean)\n",
    "        zscores.append(zscore)\n",
    "        # save everything\n",
    "\n",
    "    if plot:\n",
    "        xrange = np.linspace(-3.5, 3.5)\n",
    "        plt.hist(zscores, density=True, bins=20)\n",
    "        plt.plot(xrange, scipy.stats.norm.pdf(xrange))\n",
    "        plt.grid()\n",
    "\n",
    "the_old_way(1000, 100)"
   ]
  },
  {
   "cell_type": "markdown",
   "id": "3bd8528f",
   "metadata": {},
   "source": [
    "This code can be made simpler and faster. First of all, note that `np.random.uniform` (like other random number generators from *numpy*) can produce not only one-dimensional arrays populated by samples from uniform, but also two- and multidimensional arrays (matrixes and more). You just have to put tuple into `size` argument instead of sample size."
   ]
  },
  {
   "cell_type": "code",
   "execution_count": 3,
   "id": "ac2c51ac",
   "metadata": {},
   "outputs": [
    {
     "data": {
      "text/plain": [
       "array([[0.46400382, 0.63226778, 0.5572168 ],\n",
       "       [0.32936921, 0.94273885, 0.81122005],\n",
       "       [0.31035353, 0.58821274, 0.63395123],\n",
       "       [0.81446532, 0.81809731, 0.08397308],\n",
       "       [0.63470123, 0.36279576, 0.77258747]])"
      ]
     },
     "execution_count": 3,
     "metadata": {},
     "output_type": "execute_result"
    }
   ],
   "source": [
    "np.random.uniform(low=0, high=1, size=(5, 3))"
   ]
  },
  {
   "cell_type": "markdown",
   "id": "ad73ab94",
   "metadata": {},
   "source": [
    "We obtained matrix with 5 rows and 3 columns. One can treat this matrix as a collection of 5 samples, each sample has 3 elements. Thus we can avoid loops."
   ]
  },
  {
   "cell_type": "markdown",
   "id": "1e7f6ba9",
   "metadata": {
    "deletable": false,
    "editable": false,
    "nbgrader": {
     "cell_type": "markdown",
     "checksum": "3c4868c227d73f4dc01d589cbf02808a",
     "grade": false,
     "grade_id": "cell-d15903dbff12d9f5",
     "locked": true,
     "schema_version": 3,
     "solution": false,
     "task": false
    }
   },
   "source": [
    "## Task 1\n",
    "Write a function `generate_data(number_of_samples, sample_size)` that returns dataframe with `number_of_samples` rows and `sample_size` columns populated by uniformly distributed random variables.\n",
    "\n",
    "**Note.** No loops allowed!\n",
    "\n",
    "**Hint.** `pd.DataFrame` can be constructed from the array returned by `np.random.uniform`."
   ]
  },
  {
   "cell_type": "code",
   "execution_count": 4,
   "id": "8dedd75e",
   "metadata": {
    "deletable": false,
    "nbgrader": {
     "cell_type": "code",
     "checksum": "0154ce93ebd193488ba4f64f25c7551e",
     "grade": false,
     "grade_id": "cell-43f3daded56f79b4",
     "locked": false,
     "schema_version": 3,
     "solution": true,
     "task": false
    }
   },
   "outputs": [],
   "source": [
    "# YOUR CODE HERE\n",
    "\n",
    "def generate_data(number_of_samples, sample_size):\n",
    "    \n",
    "    # generate columns\n",
    "    col_ = np.arange(1, sample_size + 1, 1)\n",
    "    \n",
    "    # return the dataframe\n",
    "    return pd.DataFrame(np.random.random_sample((number_of_samples, sample_size)), columns=col_)"
   ]
  },
  {
   "cell_type": "code",
   "execution_count": 5,
   "id": "df1f433f",
   "metadata": {},
   "outputs": [
    {
     "data": {
      "text/html": [
       "<div>\n",
       "<style scoped>\n",
       "    .dataframe tbody tr th:only-of-type {\n",
       "        vertical-align: middle;\n",
       "    }\n",
       "\n",
       "    .dataframe tbody tr th {\n",
       "        vertical-align: top;\n",
       "    }\n",
       "\n",
       "    .dataframe thead th {\n",
       "        text-align: right;\n",
       "    }\n",
       "</style>\n",
       "<table border=\"1\" class=\"dataframe\">\n",
       "  <thead>\n",
       "    <tr style=\"text-align: right;\">\n",
       "      <th></th>\n",
       "      <th>1</th>\n",
       "      <th>2</th>\n",
       "      <th>3</th>\n",
       "    </tr>\n",
       "  </thead>\n",
       "  <tbody>\n",
       "    <tr>\n",
       "      <th>0</th>\n",
       "      <td>0.016945</td>\n",
       "      <td>0.327948</td>\n",
       "      <td>0.107478</td>\n",
       "    </tr>\n",
       "    <tr>\n",
       "      <th>1</th>\n",
       "      <td>0.173913</td>\n",
       "      <td>0.769974</td>\n",
       "      <td>0.915663</td>\n",
       "    </tr>\n",
       "    <tr>\n",
       "      <th>2</th>\n",
       "      <td>0.181051</td>\n",
       "      <td>0.914052</td>\n",
       "      <td>0.583054</td>\n",
       "    </tr>\n",
       "    <tr>\n",
       "      <th>3</th>\n",
       "      <td>0.272728</td>\n",
       "      <td>0.927423</td>\n",
       "      <td>0.103798</td>\n",
       "    </tr>\n",
       "    <tr>\n",
       "      <th>4</th>\n",
       "      <td>0.340425</td>\n",
       "      <td>0.725545</td>\n",
       "      <td>0.832471</td>\n",
       "    </tr>\n",
       "    <tr>\n",
       "      <th>...</th>\n",
       "      <td>...</td>\n",
       "      <td>...</td>\n",
       "      <td>...</td>\n",
       "    </tr>\n",
       "    <tr>\n",
       "      <th>100</th>\n",
       "      <td>0.260411</td>\n",
       "      <td>0.335159</td>\n",
       "      <td>0.724790</td>\n",
       "    </tr>\n",
       "    <tr>\n",
       "      <th>101</th>\n",
       "      <td>0.682589</td>\n",
       "      <td>0.385557</td>\n",
       "      <td>0.072682</td>\n",
       "    </tr>\n",
       "    <tr>\n",
       "      <th>102</th>\n",
       "      <td>0.622111</td>\n",
       "      <td>0.773765</td>\n",
       "      <td>0.089752</td>\n",
       "    </tr>\n",
       "    <tr>\n",
       "      <th>103</th>\n",
       "      <td>0.540460</td>\n",
       "      <td>0.275267</td>\n",
       "      <td>0.324422</td>\n",
       "    </tr>\n",
       "    <tr>\n",
       "      <th>104</th>\n",
       "      <td>0.124997</td>\n",
       "      <td>0.979489</td>\n",
       "      <td>0.207410</td>\n",
       "    </tr>\n",
       "  </tbody>\n",
       "</table>\n",
       "<p>105 rows × 3 columns</p>\n",
       "</div>"
      ],
      "text/plain": [
       "            1         2         3\n",
       "0    0.016945  0.327948  0.107478\n",
       "1    0.173913  0.769974  0.915663\n",
       "2    0.181051  0.914052  0.583054\n",
       "3    0.272728  0.927423  0.103798\n",
       "4    0.340425  0.725545  0.832471\n",
       "..        ...       ...       ...\n",
       "100  0.260411  0.335159  0.724790\n",
       "101  0.682589  0.385557  0.072682\n",
       "102  0.622111  0.773765  0.089752\n",
       "103  0.540460  0.275267  0.324422\n",
       "104  0.124997  0.979489  0.207410\n",
       "\n",
       "[105 rows x 3 columns]"
      ]
     },
     "execution_count": 5,
     "metadata": {},
     "output_type": "execute_result"
    }
   ],
   "source": [
    "generate_data(105, 3)"
   ]
  },
  {
   "cell_type": "code",
   "execution_count": 6,
   "id": "27214e64",
   "metadata": {},
   "outputs": [
    {
     "data": {
      "text/plain": [
       "9.775370690567886e-05"
      ]
     },
     "execution_count": 6,
     "metadata": {},
     "output_type": "execute_result"
    }
   ],
   "source": [
    "np.abs(generate_data(100000, 10).mean().mean() - 0.5)"
   ]
  },
  {
   "cell_type": "code",
   "execution_count": 7,
   "id": "68cd7e01",
   "metadata": {},
   "outputs": [
    {
     "data": {
      "text/plain": [
       "5.7908534268319434e-05"
      ]
     },
     "execution_count": 7,
     "metadata": {},
     "output_type": "execute_result"
    }
   ],
   "source": [
    "np.abs(generate_data(100000, 10).var(ddof=1).mean() - 1./12)"
   ]
  },
  {
   "cell_type": "code",
   "execution_count": 8,
   "id": "d6fc3760",
   "metadata": {
    "deletable": false,
    "editable": false,
    "nbgrader": {
     "cell_type": "code",
     "checksum": "0ada8869f46cbb90cf9ae1230dbb4cb2",
     "grade": true,
     "grade_id": "cell-c40bd7a74be967a7",
     "locked": true,
     "points": 1,
     "schema_version": 3,
     "solution": false,
     "task": false
    }
   },
   "outputs": [],
   "source": [
    "assert generate_data(105, 3).shape == (105, 3)\n",
    "assert np.abs(generate_data(100000, 10).mean().mean() - 0.5) < 0.01\n",
    "assert np.abs(generate_data(100000, 10).var(ddof=1).mean() - 1./12) < 0.01"
   ]
  },
  {
   "cell_type": "markdown",
   "id": "0038c15c",
   "metadata": {
    "deletable": false,
    "editable": false,
    "nbgrader": {
     "cell_type": "markdown",
     "checksum": "35b1e9e1c5e2ee2345cd9397882ff52c",
     "grade": false,
     "grade_id": "cell-f7324b4f4b5c6800",
     "locked": true,
     "schema_version": 3,
     "solution": false,
     "task": false
    }
   },
   "source": [
    "## Task 2\n",
    "Write function `mk_zscores(df, EX, VarX)` that takes dataframe generated by `generate_data` and returns series that contains z-score for each sample (row) of data in `df` using values of `EX` (population mean) and `VarX` (population variance) provided.\n",
    "\n",
    "**Note.** No loops allowed!\n",
    "\n",
    "**Hint.** To get number of rows and columns in dataframe, atribute `.shape` may be used."
   ]
  },
  {
   "cell_type": "code",
   "execution_count": 9,
   "id": "9d2b4c17",
   "metadata": {
    "deletable": false,
    "nbgrader": {
     "cell_type": "code",
     "checksum": "911b2d132328e64d66a105066baa11b6",
     "grade": false,
     "grade_id": "cell-5514a891ddd86923",
     "locked": false,
     "schema_version": 3,
     "solution": true,
     "task": false
    }
   },
   "outputs": [],
   "source": [
    "# YOUR CODE HERE\n",
    "\n",
    "def mk_zscores(df, EX, VarX):\n",
    "    \n",
    "    # transpose the  data to calculate by columns\n",
    "    df = np.transpose(df)\n",
    "    \n",
    "    # find the size of sample\n",
    "    n = df.shape[0]\n",
    "    \n",
    "    # return z_score (X - mu) / (sigma / sqrt(n))    \n",
    "    return (df.mean() - EX)/(np.sqrt(VarX)/np.sqrt(n))\n"
   ]
  },
  {
   "cell_type": "code",
   "execution_count": 10,
   "id": "7a32f719",
   "metadata": {},
   "outputs": [
    {
     "data": {
      "text/plain": [
       "0      9.0\n",
       "1     35.0\n",
       "2    205.0\n",
       "3     51.0\n",
       "dtype: float64"
      ]
     },
     "execution_count": 10,
     "metadata": {},
     "output_type": "execute_result"
    }
   ],
   "source": [
    "mk_zscores(pd.DataFrame([[1, 2, 3], [4, 5, 10], [1, 100, 3], [10, 2, 15]]), \n",
    "                                          EX=0.5, VarX=1./ 12)"
   ]
  },
  {
   "cell_type": "code",
   "execution_count": 11,
   "id": "fcd974dd",
   "metadata": {
    "deletable": false,
    "editable": false,
    "nbgrader": {
     "cell_type": "code",
     "checksum": "30276bb162dab7edf3f4c94005bbab45",
     "grade": true,
     "grade_id": "cell-cccb4c77b752bbe3",
     "locked": true,
     "points": 1,
     "schema_version": 3,
     "solution": false,
     "task": false
    }
   },
   "outputs": [],
   "source": [
    "pd.testing.assert_series_equal(mk_zscores(pd.DataFrame([[1, 2, 3], [4, 5, 10], [1, 100, 3], [10, 2, 15]]), \n",
    "                                          EX=0.5, VarX=1./ 12),\n",
    "                               pd.Series([  9.,  35., 205.,  51.]))"
   ]
  },
  {
   "cell_type": "markdown",
   "id": "e87b0f1d",
   "metadata": {},
   "source": [
    "Finally, let us draw the histogram:"
   ]
  },
  {
   "cell_type": "code",
   "execution_count": 12,
   "id": "7791cf45",
   "metadata": {},
   "outputs": [],
   "source": [
    "def the_new_way(number_of_samples, sample_size, plot=True):\n",
    "    zscores = mk_zscores(generate_data(number_of_samples, sample_size), EX=0.5, VarX=1./12)\n",
    "    if plot:\n",
    "        zscores.hist(density=True, bins=20)\n",
    "        xrange = np.linspace(-3.5, 3.5)\n",
    "        plt.plot(xrange, scipy.stats.norm.pdf(xrange))"
   ]
  },
  {
   "cell_type": "markdown",
   "id": "bfc41447",
   "metadata": {},
   "source": [
    "If everything is correct, old and new pictures should like very similar:"
   ]
  },
  {
   "cell_type": "code",
   "execution_count": 13,
   "id": "04fd759d",
   "metadata": {},
   "outputs": [
    {
     "data": {
      "image/png": "[encoded data removed]",
      "text/plain": [
       "<Figure size 432x288 with 1 Axes>"
      ]
     },
     "metadata": {
      "needs_background": "light"
     },
     "output_type": "display_data"
    }
   ],
   "source": [
    "the_new_way(10000, 100)"
   ]
  },
  {
   "cell_type": "code",
   "execution_count": 14,
   "id": "0127e860",
   "metadata": {},
   "outputs": [
    {
     "data": {
      "image/png": "[encoded data removed]",
      "text/plain": [
       "<Figure size 432x288 with 1 Axes>"
      ]
     },
     "metadata": {
      "needs_background": "light"
     },
     "output_type": "display_data"
    }
   ],
   "source": [
    "the_old_way(10000, 100)"
   ]
  },
  {
   "cell_type": "code",
   "execution_count": 15,
   "id": "e35876c5",
   "metadata": {},
   "outputs": [
    {
     "data": {
      "image/png": "[encoded data removed]",
      "text/plain": [
       "<Figure size 432x288 with 1 Axes>"
      ]
     },
     "metadata": {
      "needs_background": "light"
     },
     "output_type": "display_data"
    }
   ],
   "source": [
    "the_new_way(10000, 1)"
   ]
  },
  {
   "cell_type": "code",
   "execution_count": 16,
   "id": "b8a6e47d",
   "metadata": {},
   "outputs": [
    {
     "data": {
      "image/png": "[encoded data removed]",
      "text/plain": [
       "<Figure size 432x288 with 1 Axes>"
      ]
     },
     "metadata": {
      "needs_background": "light"
     },
     "output_type": "display_data"
    }
   ],
   "source": [
    "the_old_way(10000, 1)"
   ]
  },
  {
   "cell_type": "markdown",
   "id": "168fc8b6",
   "metadata": {},
   "source": [
    "Let us check the speed."
   ]
  },
  {
   "cell_type": "code",
   "execution_count": 17,
   "id": "4b88f1e0",
   "metadata": {},
   "outputs": [
    {
     "name": "stdout",
     "output_type": "stream",
     "text": [
      "75.9 ms ± 1.71 ms per loop (mean ± std. dev. of 7 runs, 10 loops each)\n"
     ]
    }
   ],
   "source": [
    "%%timeit \n",
    "the_old_way(10000, 1, plot=False)"
   ]
  },
  {
   "cell_type": "code",
   "execution_count": 18,
   "id": "fc775035",
   "metadata": {},
   "outputs": [
    {
     "name": "stdout",
     "output_type": "stream",
     "text": [
      "1.12 ms ± 10.6 µs per loop (mean ± std. dev. of 7 runs, 1,000 loops each)\n"
     ]
    }
   ],
   "source": [
    "%%timeit \n",
    "the_new_way(10000, 1, plot=False)"
   ]
  },
  {
   "cell_type": "markdown",
   "id": "275f4255",
   "metadata": {},
   "source": [
    "Pandas is wa-a-ay faster!\n",
    "\n",
    "That's why we love it!"
   ]
  },
  {
   "cell_type": "code",
   "execution_count": null,
   "id": "df70ed7a",
   "metadata": {},
   "outputs": [],
   "source": []
  }
 ],
 "metadata": {
  "kernelspec": {
   "display_name": "Python 3",
   "language": "python",
   "name": "python3"
  },
  "language_info": {
   "codemirror_mode": {
    "name": "ipython",
    "version": 3
   },
   "file_extension": ".py",
   "mimetype": "text/x-python",
   "name": "python",
   "nbconvert_exporter": "python",
   "pygments_lexer": "ipython3",
   "version": "3.9.12"
  }
 },
 "nbformat": 4,
 "nbformat_minor": 5
}
